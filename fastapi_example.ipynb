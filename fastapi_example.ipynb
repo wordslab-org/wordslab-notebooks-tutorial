{
 "cells": [
  {
   "cell_type": "code",
   "execution_count": null,
   "id": "874eee80-c109-40da-b40a-7f4763057523",
   "metadata": {
    "tags": []
   },
   "outputs": [],
   "source": [
    "pip install \"fastapi[all]\""
   ]
  },
  {
   "cell_type": "code",
   "execution_count": 11,
   "id": "bcce4aad-cb58-4da5-81b9-6f08b579e6aa",
   "metadata": {
    "execution": {
     "iopub.execute_input": "2023-09-19T21:23:23.490977Z",
     "iopub.status.busy": "2023-09-19T21:23:23.490084Z",
     "iopub.status.idle": "2023-09-19T21:23:23.496082Z",
     "shell.execute_reply": "2023-09-19T21:23:23.495177Z",
     "shell.execute_reply.started": "2023-09-19T21:23:23.490953Z"
    },
    "tags": []
   },
   "outputs": [],
   "source": [
    "from fastapi import FastAPI\n",
    "\n",
    "app = FastAPI()\n",
    "\n",
    "@app.get(\"/\")\n",
    "async def root(user):\n",
    "    return {\"message\": f\"Hello {user}\"}"
   ]
  },
  {
   "cell_type": "code",
   "execution_count": 12,
   "id": "5501b35f-2a38-47e3-a24b-695bf9eac69a",
   "metadata": {
    "execution": {
     "iopub.execute_input": "2023-09-19T21:23:24.395026Z",
     "iopub.status.busy": "2023-09-19T21:23:24.394775Z",
     "iopub.status.idle": "2023-09-19T21:23:24.399790Z",
     "shell.execute_reply": "2023-09-19T21:23:24.398986Z",
     "shell.execute_reply.started": "2023-09-19T21:23:24.395010Z"
    },
    "tags": []
   },
   "outputs": [
    {
     "name": "stdout",
     "output_type": "stream",
     "text": [
      "This port used by fastapi apps in the container: 8000\n",
      "Will be exposed at the following url on the virtual machine: /notebooks2/fastapi\n"
     ]
    }
   ],
   "source": [
    "import os\n",
    "\n",
    "fastapi_server_port = int(os.environ.get('FASTAPI_PORT'))\n",
    "fastapi_root_path = os.environ.get('FASTAPI_BASE_URL')\n",
    "\n",
    "print(f\"This port used by fastapi apps in the container: {fastapi_server_port}\")\n",
    "print(f\"Will be exposed at the following url on the virtual machine: {fastapi_root_path}\")"
   ]
  },
  {
   "cell_type": "code",
   "execution_count": 13,
   "id": "d675160f-1fa7-40ee-8bbe-dda5f09b50e8",
   "metadata": {
    "execution": {
     "iopub.execute_input": "2023-09-19T21:23:24.868505Z",
     "iopub.status.busy": "2023-09-19T21:23:24.868198Z",
     "iopub.status.idle": "2023-09-19T21:23:24.874510Z",
     "shell.execute_reply": "2023-09-19T21:23:24.873531Z",
     "shell.execute_reply.started": "2023-09-19T21:23:24.868488Z"
    },
    "tags": []
   },
   "outputs": [
    {
     "data": {
      "text/html": [
       "<a href=\"http://127.0.0.1/notebooks2/fastapi/docs\" target=\"_blank\">Click here to access the fastapi app</a>"
      ],
      "text/plain": [
       "<IPython.core.display.HTML object>"
      ]
     },
     "metadata": {},
     "output_type": "display_data"
    }
   ],
   "source": [
    "from IPython.display import display, HTML\n",
    "\n",
    "display(HTML(f'<a href=\"http://127.0.0.1{fastapi_root_path}/docs\" target=\"_blank\">Click here to access the fastapi app</a>'))"
   ]
  },
  {
   "cell_type": "code",
   "execution_count": 14,
   "id": "f33768cb-e4a3-4d1f-8309-d918c57f7e8d",
   "metadata": {
    "execution": {
     "iopub.execute_input": "2023-09-19T21:23:25.363230Z",
     "iopub.status.busy": "2023-09-19T21:23:25.362994Z",
     "iopub.status.idle": "2023-09-19T21:23:48.104942Z",
     "shell.execute_reply": "2023-09-19T21:23:48.104173Z",
     "shell.execute_reply.started": "2023-09-19T21:23:25.363214Z"
    },
    "tags": []
   },
   "outputs": [
    {
     "name": "stderr",
     "output_type": "stream",
     "text": [
      "INFO:     Started server process [266]\n",
      "INFO:     Waiting for application startup.\n",
      "INFO:     Application startup complete.\n",
      "INFO:     Uvicorn running on http://0.0.0.0:8000 (Press CTRL+C to quit)\n"
     ]
    },
    {
     "name": "stdout",
     "output_type": "stream",
     "text": [
      "INFO:     10.42.0.39:58634 - \"GET /docs HTTP/1.1\" 200 OK\n",
      "INFO:     10.42.0.39:58634 - \"GET /openapi.json HTTP/1.1\" 200 OK\n",
      "INFO:     10.42.0.39:49546 - \"GET /?user=Laurent HTTP/1.1\" 200 OK\n"
     ]
    },
    {
     "name": "stderr",
     "output_type": "stream",
     "text": [
      "INFO:     Shutting down\n",
      "INFO:     Waiting for application shutdown.\n",
      "INFO:     Application shutdown complete.\n",
      "INFO:     Finished server process [266]\n"
     ]
    }
   ],
   "source": [
    "import nest_asyncio\n",
    "import uvicorn\n",
    "\n",
    "nest_asyncio.apply()\n",
    "uvicorn.run(app, host=\"0.0.0.0\", port=fastapi_server_port, root_path=fastapi_root_path)"
   ]
  },
  {
   "cell_type": "code",
   "execution_count": null,
   "id": "1ae36992-2dc0-4828-9acc-51326b5f502f",
   "metadata": {},
   "outputs": [],
   "source": []
  }
 ],
 "metadata": {
  "kernelspec": {
   "display_name": "tutorials",
   "language": "python",
   "name": "tutorials"
  },
  "language_info": {
   "codemirror_mode": {
    "name": "ipython",
    "version": 3
   },
   "file_extension": ".py",
   "mimetype": "text/x-python",
   "name": "python",
   "nbconvert_exporter": "python",
   "pygments_lexer": "ipython3",
   "version": "3.10.12"
  }
 },
 "nbformat": 4,
 "nbformat_minor": 5
}
