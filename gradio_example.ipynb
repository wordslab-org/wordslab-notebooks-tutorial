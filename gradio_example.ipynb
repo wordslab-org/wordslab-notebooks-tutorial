{
 "cells": [
  {
   "cell_type": "code",
   "execution_count": null,
   "id": "f6f3d90a-a067-464f-9ada-e5c25eae6c08",
   "metadata": {
    "tags": []
   },
   "outputs": [],
   "source": [
    "pip install gradio"
   ]
  },
  {
   "cell_type": "code",
   "execution_count": null,
   "id": "cb9a6061-4106-4b12-a7ef-a0c26babaed0",
   "metadata": {
    "tags": []
   },
   "outputs": [],
   "source": [
    "pip install spacy"
   ]
  },
  {
   "cell_type": "code",
   "execution_count": null,
   "id": "bcd3c71f-5f07-4866-a0bf-d60e833a1250",
   "metadata": {
    "tags": []
   },
   "outputs": [],
   "source": [
    "%run .venv/lib/python3.10/site-packages/spacy/__main__.py download en_core_web_sm"
   ]
  },
  {
   "cell_type": "code",
   "execution_count": null,
   "id": "1fba33f0-2f2d-4af9-a99b-21f89dc7fbea",
   "metadata": {
    "tags": []
   },
   "outputs": [],
   "source": [
    "import spacy\n",
    "from spacy import displacy\n",
    "\n",
    "nlp = spacy.load(\"en_core_web_sm\")"
   ]
  },
  {
   "cell_type": "code",
   "execution_count": 2,
   "id": "feb4e606-e518-4f6b-8c6b-2a4905e33ec4",
   "metadata": {
    "execution": {
     "iopub.execute_input": "2023-09-19T19:53:50.952576Z",
     "iopub.status.busy": "2023-09-19T19:53:50.951452Z",
     "iopub.status.idle": "2023-09-19T19:53:50.959369Z",
     "shell.execute_reply": "2023-09-19T19:53:50.958614Z",
     "shell.execute_reply.started": "2023-09-19T19:53:50.952530Z"
    },
    "tags": []
   },
   "outputs": [
    {
     "name": "stdout",
     "output_type": "stream",
     "text": [
      "This port used by gradio apps in the container: 7860\n",
      "Will be exposed at the following url on the virtual machine: /notebooks2/gradio\n"
     ]
    }
   ],
   "source": [
    "import os\n",
    "\n",
    "gradio_server_port = int(os.environ.get('GRADIO_PORT'))\n",
    "gradio_root_path = os.environ.get('GRADIO_BASE_URL')\n",
    "\n",
    "print(f\"This port used by gradio apps in the container: {gradio_server_port}\")\n",
    "print(f\"Will be exposed at the following url on the virtual machine: {gradio_root_path}\")"
   ]
  },
  {
   "cell_type": "code",
   "execution_count": 5,
   "id": "f0b3a903-4c07-49cd-8e76-e6f7c26476d6",
   "metadata": {
    "execution": {
     "iopub.execute_input": "2023-09-19T21:24:18.108784Z",
     "iopub.status.busy": "2023-09-19T21:24:18.107785Z",
     "iopub.status.idle": "2023-09-19T21:24:18.118360Z",
     "shell.execute_reply": "2023-09-19T21:24:18.117447Z",
     "shell.execute_reply.started": "2023-09-19T21:24:18.108694Z"
    },
    "tags": []
   },
   "outputs": [
    {
     "data": {
      "text/html": [
       "<a href=\"http://127.0.0.1/notebooks2/gradio/\" target=\"_blank\">Click here to access the gradio app</a>"
      ],
      "text/plain": [
       "<IPython.core.display.HTML object>"
      ]
     },
     "metadata": {},
     "output_type": "display_data"
    }
   ],
   "source": [
    "from IPython.display import display, HTML\n",
    "\n",
    "display(HTML(f'<a href=\"http://127.0.0.1{gradio_root_path}/\" target=\"_blank\">Click here to access the gradio app</a>'))"
   ]
  },
  {
   "cell_type": "code",
   "execution_count": 3,
   "id": "05ec92b5-ee8a-48d8-b84f-a59c0e5bf775",
   "metadata": {
    "execution": {
     "iopub.execute_input": "2023-09-19T19:53:52.414922Z",
     "iopub.status.busy": "2023-09-19T19:53:52.414458Z",
     "iopub.status.idle": "2023-09-19T19:53:53.424920Z",
     "shell.execute_reply": "2023-09-19T19:53:53.423714Z",
     "shell.execute_reply.started": "2023-09-19T19:53:52.414895Z"
    },
    "tags": []
   },
   "outputs": [
    {
     "name": "stdout",
     "output_type": "stream",
     "text": [
      "Running on local URL:  http://0.0.0.0:7860\n",
      "\n",
      "To create a public link, set `share=True` in `launch()`.\n"
     ]
    },
    {
     "data": {
      "text/plain": []
     },
     "execution_count": 3,
     "metadata": {},
     "output_type": "execute_result"
    }
   ],
   "source": [
    "import gradio as gr\n",
    "\n",
    "def text_analysis(text):\n",
    "    doc = nlp(text)\n",
    "    html = displacy.render(doc, style=\"dep\", page=True)\n",
    "    html = (\n",
    "        \"<div style='max-width:100%; max-height:360px; overflow:auto'>\"\n",
    "        + html\n",
    "        + \"</div>\"\n",
    "    )\n",
    "    pos_count = {\n",
    "        \"char_count\": len(text),\n",
    "        \"token_count\": 0,\n",
    "    }\n",
    "    pos_tokens = []\n",
    "\n",
    "    for token in doc:\n",
    "        pos_tokens.extend([(token.text, token.pos_), (\" \", None)])\n",
    "\n",
    "    return pos_tokens, pos_count, html\n",
    "\n",
    "demo = gr.Interface(\n",
    "    text_analysis,\n",
    "    gr.Textbox(placeholder=\"Enter sentence here...\"),\n",
    "    [\"highlight\", \"json\", \"html\"],\n",
    "    examples=[\n",
    "        [\"What a beautiful morning for a walk!\"],\n",
    "        [\"It was the best of times, it was the worst of times.\"],\n",
    "    ],\n",
    ")\n",
    "\n",
    "demo.launch(inline=False, share=False, server_name=\"0.0.0.0\", server_port=gradio_server_port, root_path=gradio_root_path)"
   ]
  },
  {
   "cell_type": "code",
   "execution_count": null,
   "id": "208c1287-3c0e-4aea-b655-fe30d7453f3c",
   "metadata": {
    "tags": []
   },
   "outputs": [],
   "source": [
    "demo.close()"
   ]
  }
 ],
 "metadata": {
  "kernelspec": {
   "display_name": "tutorials",
   "language": "python",
   "name": "tutorials"
  },
  "language_info": {
   "codemirror_mode": {
    "name": "ipython",
    "version": 3
   },
   "file_extension": ".py",
   "mimetype": "text/x-python",
   "name": "python",
   "nbconvert_exporter": "python",
   "pygments_lexer": "ipython3",
   "version": "3.10.12"
  }
 },
 "nbformat": 4,
 "nbformat_minor": 5
}
