{
 "cells": [
  {
   "cell_type": "markdown",
   "id": "3132f9d4-5f5a-47ec-9ab1-f5ccd3e2c051",
   "metadata": {},
   "source": [
    "# Tensorflow & Keras"
   ]
  },
  {
   "cell_type": "markdown",
   "id": "e79f47e3-d2f3-491f-bdba-c5eb47426c0c",
   "metadata": {},
   "source": [
    "Example from: https://keras.io/examples/vision/mnist_convnet/"
   ]
  },
  {
   "cell_type": "code",
   "execution_count": 1,
   "id": "3f2df744-f451-4f65-a140-12ee1060a15d",
   "metadata": {
    "execution": {
     "iopub.execute_input": "2023-09-16T21:07:46.136628Z",
     "iopub.status.busy": "2023-09-16T21:07:46.135883Z",
     "iopub.status.idle": "2023-09-16T21:07:46.151374Z",
     "shell.execute_reply": "2023-09-16T21:07:46.149598Z",
     "shell.execute_reply.started": "2023-09-16T21:07:46.136564Z"
    },
    "tags": []
   },
   "outputs": [],
   "source": [
    "# IMPORTANT: suppress annoying Tensorflow warnings\n",
    "import os\n",
    "os.environ[\"TF_CPP_MIN_LOG_LEVEL\"] = \"3\" "
   ]
  },
  {
   "cell_type": "code",
   "execution_count": 2,
   "id": "95e07bfa-3236-44ce-a56a-da39e2af5b5f",
   "metadata": {
    "execution": {
     "iopub.execute_input": "2023-09-16T21:07:48.973101Z",
     "iopub.status.busy": "2023-09-16T21:07:48.972251Z",
     "iopub.status.idle": "2023-09-16T21:07:51.407641Z",
     "shell.execute_reply": "2023-09-16T21:07:51.406669Z",
     "shell.execute_reply.started": "2023-09-16T21:07:48.973051Z"
    },
    "tags": []
   },
   "outputs": [],
   "source": [
    "import numpy as np\n",
    "from tensorflow import keras\n",
    "from tensorflow.keras import layers"
   ]
  },
  {
   "cell_type": "code",
   "execution_count": 3,
   "id": "81162a2c-8f9a-4c71-b0f2-b48935dc070e",
   "metadata": {
    "execution": {
     "iopub.execute_input": "2023-09-16T21:07:51.410192Z",
     "iopub.status.busy": "2023-09-16T21:07:51.409089Z",
     "iopub.status.idle": "2023-09-16T21:07:51.413983Z",
     "shell.execute_reply": "2023-09-16T21:07:51.413017Z",
     "shell.execute_reply.started": "2023-09-16T21:07:51.410169Z"
    },
    "tags": []
   },
   "outputs": [],
   "source": [
    "# Model / data parameters\n",
    "num_classes = 10\n",
    "input_shape = (28, 28, 1)"
   ]
  },
  {
   "cell_type": "code",
   "execution_count": 4,
   "id": "1f4115ba-0628-46b9-ae8b-11155d016899",
   "metadata": {
    "execution": {
     "iopub.execute_input": "2023-09-16T21:07:51.416371Z",
     "iopub.status.busy": "2023-09-16T21:07:51.415267Z",
     "iopub.status.idle": "2023-09-16T21:07:51.726465Z",
     "shell.execute_reply": "2023-09-16T21:07:51.724477Z",
     "shell.execute_reply.started": "2023-09-16T21:07:51.416348Z"
    },
    "tags": []
   },
   "outputs": [],
   "source": [
    "# Load the data and split it between train and test sets\n",
    "(x_train, y_train), (x_test, y_test) = keras.datasets.mnist.load_data()"
   ]
  },
  {
   "cell_type": "code",
   "execution_count": 5,
   "id": "c0260a12-f546-419a-8af8-bc343bad7ef8",
   "metadata": {
    "execution": {
     "iopub.execute_input": "2023-09-16T21:07:56.306304Z",
     "iopub.status.busy": "2023-09-16T21:07:56.305795Z",
     "iopub.status.idle": "2023-09-16T21:07:56.378105Z",
     "shell.execute_reply": "2023-09-16T21:07:56.377196Z",
     "shell.execute_reply.started": "2023-09-16T21:07:56.306269Z"
    },
    "tags": []
   },
   "outputs": [],
   "source": [
    "# Scale images to the [0, 1] range\n",
    "x_train = x_train.astype(\"float32\") / 255\n",
    "x_test = x_test.astype(\"float32\") / 255"
   ]
  },
  {
   "cell_type": "code",
   "execution_count": 6,
   "id": "f149dbaa-e8f1-44a7-9480-8fffd25ccbfd",
   "metadata": {
    "execution": {
     "iopub.execute_input": "2023-09-16T21:07:57.031248Z",
     "iopub.status.busy": "2023-09-16T21:07:57.030997Z",
     "iopub.status.idle": "2023-09-16T21:07:57.038285Z",
     "shell.execute_reply": "2023-09-16T21:07:57.037233Z",
     "shell.execute_reply.started": "2023-09-16T21:07:57.031231Z"
    },
    "tags": []
   },
   "outputs": [
    {
     "name": "stdout",
     "output_type": "stream",
     "text": [
      "x_train shape: (60000, 28, 28, 1)\n",
      "60000 train samples\n",
      "10000 test samples\n"
     ]
    }
   ],
   "source": [
    "# Make sure images have shape (28, 28, 1)\n",
    "x_train = np.expand_dims(x_train, -1)\n",
    "x_test = np.expand_dims(x_test, -1)\n",
    "\n",
    "print(\"x_train shape:\", x_train.shape)\n",
    "print(x_train.shape[0], \"train samples\")\n",
    "print(x_test.shape[0], \"test samples\")"
   ]
  },
  {
   "cell_type": "code",
   "execution_count": 7,
   "id": "b1f83fea-e5b4-4791-b07d-0978ac04774f",
   "metadata": {
    "execution": {
     "iopub.execute_input": "2023-09-16T21:07:58.048277Z",
     "iopub.status.busy": "2023-09-16T21:07:58.047899Z",
     "iopub.status.idle": "2023-09-16T21:07:58.053526Z",
     "shell.execute_reply": "2023-09-16T21:07:58.052627Z",
     "shell.execute_reply.started": "2023-09-16T21:07:58.048259Z"
    },
    "tags": []
   },
   "outputs": [],
   "source": [
    "# convert class vectors to binary class matrices\n",
    "y_train = keras.utils.to_categorical(y_train, num_classes)\n",
    "y_test = keras.utils.to_categorical(y_test, num_classes)"
   ]
  },
  {
   "cell_type": "code",
   "execution_count": 8,
   "id": "1adb08e7-9cac-4972-913e-311bfd8ddf7c",
   "metadata": {
    "execution": {
     "iopub.execute_input": "2023-09-16T21:07:59.109456Z",
     "iopub.status.busy": "2023-09-16T21:07:59.109143Z",
     "iopub.status.idle": "2023-09-16T21:08:02.063345Z",
     "shell.execute_reply": "2023-09-16T21:08:02.062617Z",
     "shell.execute_reply.started": "2023-09-16T21:07:59.109437Z"
    },
    "tags": []
   },
   "outputs": [
    {
     "name": "stdout",
     "output_type": "stream",
     "text": [
      "Model: \"sequential\"\n",
      "_________________________________________________________________\n",
      " Layer (type)                Output Shape              Param #   \n",
      "=================================================================\n",
      " conv2d (Conv2D)             (None, 26, 26, 32)        320       \n",
      "                                                                 \n",
      " max_pooling2d (MaxPooling2  (None, 13, 13, 32)        0         \n",
      " D)                                                              \n",
      "                                                                 \n",
      " conv2d_1 (Conv2D)           (None, 11, 11, 64)        18496     \n",
      "                                                                 \n",
      " max_pooling2d_1 (MaxPoolin  (None, 5, 5, 64)          0         \n",
      " g2D)                                                            \n",
      "                                                                 \n",
      " flatten (Flatten)           (None, 1600)              0         \n",
      "                                                                 \n",
      " dropout (Dropout)           (None, 1600)              0         \n",
      "                                                                 \n",
      " dense (Dense)               (None, 10)                16010     \n",
      "                                                                 \n",
      "=================================================================\n",
      "Total params: 34826 (136.04 KB)\n",
      "Trainable params: 34826 (136.04 KB)\n",
      "Non-trainable params: 0 (0.00 Byte)\n",
      "_________________________________________________________________\n"
     ]
    }
   ],
   "source": [
    "# Build the model\n",
    "model = keras.Sequential(\n",
    "    [\n",
    "        keras.Input(shape=input_shape),\n",
    "        layers.Conv2D(32, kernel_size=(3, 3), activation=\"relu\"),\n",
    "        layers.MaxPooling2D(pool_size=(2, 2)),\n",
    "        layers.Conv2D(64, kernel_size=(3, 3), activation=\"relu\"),\n",
    "        layers.MaxPooling2D(pool_size=(2, 2)),\n",
    "        layers.Flatten(),\n",
    "        layers.Dropout(0.5),\n",
    "        layers.Dense(num_classes, activation=\"softmax\"),\n",
    "    ]\n",
    ")\n",
    "\n",
    "model.summary()"
   ]
  },
  {
   "cell_type": "code",
   "execution_count": 9,
   "id": "0145a2a0-10ba-4dac-80d8-5b8cb1692bf4",
   "metadata": {
    "execution": {
     "iopub.execute_input": "2023-09-16T21:08:09.223650Z",
     "iopub.status.busy": "2023-09-16T21:08:09.223349Z",
     "iopub.status.idle": "2023-09-16T21:08:54.615239Z",
     "shell.execute_reply": "2023-09-16T21:08:54.614550Z",
     "shell.execute_reply.started": "2023-09-16T21:08:09.223628Z"
    },
    "tags": []
   },
   "outputs": [
    {
     "name": "stdout",
     "output_type": "stream",
     "text": [
      "Epoch 1/15\n",
      "422/422 [==============================] - 10s 7ms/step - loss: 0.3694 - accuracy: 0.8856 - val_loss: 0.0808 - val_accuracy: 0.9782\n",
      "Epoch 2/15\n",
      "422/422 [==============================] - 2s 5ms/step - loss: 0.1103 - accuracy: 0.9652 - val_loss: 0.0568 - val_accuracy: 0.9857\n",
      "Epoch 3/15\n",
      "422/422 [==============================] - 2s 6ms/step - loss: 0.0833 - accuracy: 0.9740 - val_loss: 0.0459 - val_accuracy: 0.9885\n",
      "Epoch 4/15\n",
      "422/422 [==============================] - 2s 6ms/step - loss: 0.0712 - accuracy: 0.9779 - val_loss: 0.0434 - val_accuracy: 0.9882\n",
      "Epoch 5/15\n",
      "422/422 [==============================] - 3s 6ms/step - loss: 0.0617 - accuracy: 0.9805 - val_loss: 0.0374 - val_accuracy: 0.9898\n",
      "Epoch 6/15\n",
      "422/422 [==============================] - 3s 6ms/step - loss: 0.0581 - accuracy: 0.9819 - val_loss: 0.0363 - val_accuracy: 0.9902\n",
      "Epoch 7/15\n",
      "422/422 [==============================] - 3s 6ms/step - loss: 0.0516 - accuracy: 0.9840 - val_loss: 0.0348 - val_accuracy: 0.9907\n",
      "Epoch 8/15\n",
      "422/422 [==============================] - 2s 6ms/step - loss: 0.0474 - accuracy: 0.9851 - val_loss: 0.0340 - val_accuracy: 0.9903\n",
      "Epoch 9/15\n",
      "422/422 [==============================] - 3s 6ms/step - loss: 0.0438 - accuracy: 0.9865 - val_loss: 0.0302 - val_accuracy: 0.9913\n",
      "Epoch 10/15\n",
      "422/422 [==============================] - 3s 6ms/step - loss: 0.0414 - accuracy: 0.9869 - val_loss: 0.0331 - val_accuracy: 0.9903\n",
      "Epoch 11/15\n",
      "422/422 [==============================] - 2s 6ms/step - loss: 0.0393 - accuracy: 0.9873 - val_loss: 0.0299 - val_accuracy: 0.9918\n",
      "Epoch 12/15\n",
      "422/422 [==============================] - 3s 6ms/step - loss: 0.0392 - accuracy: 0.9873 - val_loss: 0.0319 - val_accuracy: 0.9913\n",
      "Epoch 13/15\n",
      "422/422 [==============================] - 3s 6ms/step - loss: 0.0362 - accuracy: 0.9883 - val_loss: 0.0312 - val_accuracy: 0.9913\n",
      "Epoch 14/15\n",
      "422/422 [==============================] - 3s 6ms/step - loss: 0.0345 - accuracy: 0.9888 - val_loss: 0.0305 - val_accuracy: 0.9912\n",
      "Epoch 15/15\n",
      "422/422 [==============================] - 3s 6ms/step - loss: 0.0349 - accuracy: 0.9891 - val_loss: 0.0273 - val_accuracy: 0.9917\n"
     ]
    },
    {
     "data": {
      "text/plain": [
       "<keras.callbacks.History at 0x7fea30a093c0>"
      ]
     },
     "execution_count": 9,
     "metadata": {},
     "output_type": "execute_result"
    }
   ],
   "source": [
    "# Train the model\n",
    "batch_size = 128\n",
    "epochs = 15\n",
    "\n",
    "model.compile(loss=\"categorical_crossentropy\", optimizer=\"adam\", metrics=[\"accuracy\"])\n",
    "\n",
    "model.fit(x_train, y_train, batch_size=batch_size, epochs=epochs, validation_split=0.1)"
   ]
  },
  {
   "cell_type": "code",
   "execution_count": 10,
   "id": "8b1b55ac-89e8-423c-a0c8-125888584962",
   "metadata": {
    "execution": {
     "iopub.execute_input": "2023-09-16T21:08:58.961332Z",
     "iopub.status.busy": "2023-09-16T21:08:58.959851Z",
     "iopub.status.idle": "2023-09-16T21:09:00.475012Z",
     "shell.execute_reply": "2023-09-16T21:09:00.474300Z",
     "shell.execute_reply.started": "2023-09-16T21:08:58.961295Z"
    },
    "tags": []
   },
   "outputs": [
    {
     "name": "stdout",
     "output_type": "stream",
     "text": [
      "Test loss: 0.023589855059981346\n",
      "Test accuracy: 0.9923999905586243\n"
     ]
    }
   ],
   "source": [
    "# Evaluate the trained model\n",
    "score = model.evaluate(x_test, y_test, verbose=0)\n",
    "print(\"Test loss:\", score[0])\n",
    "print(\"Test accuracy:\", score[1])"
   ]
  }
 ],
 "metadata": {
  "kernelspec": {
   "display_name": "tutorials",
   "language": "python",
   "name": "tutorials"
  },
  "language_info": {
   "codemirror_mode": {
    "name": "ipython",
    "version": 3
   },
   "file_extension": ".py",
   "mimetype": "text/x-python",
   "name": "python",
   "nbconvert_exporter": "python",
   "pygments_lexer": "ipython3",
   "version": "3.10.12"
  }
 },
 "nbformat": 4,
 "nbformat_minor": 5
}
