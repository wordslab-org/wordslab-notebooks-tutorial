{
 "cells": [
  {
   "cell_type": "markdown",
   "id": "8042291e-ff60-4504-b885-13f4b8dc5f40",
   "metadata": {},
   "source": [
    "# 01 - Hardware "
   ]
  },
  {
   "cell_type": "markdown",
   "id": "549d2a89-e1cc-41a5-87be-ceb1b82fe072",
   "metadata": {},
   "source": [
    "## Operating System"
   ]
  },
  {
   "cell_type": "code",
   "execution_count": 92,
   "id": "e34ce0b2-6311-441b-a698-4003a0f1dbe1",
   "metadata": {
    "execution": {
     "iopub.execute_input": "2024-06-08T20:09:31.905621Z",
     "iopub.status.busy": "2024-06-08T20:09:31.905242Z",
     "iopub.status.idle": "2024-06-08T20:09:32.017454Z",
     "shell.execute_reply": "2024-06-08T20:09:32.015932Z",
     "shell.execute_reply.started": "2024-06-08T20:09:31.905602Z"
    }
   },
   "outputs": [
    {
     "name": "stdout",
     "output_type": "stream",
     "text": [
      "Operating System: Linux\n",
      "OS Version      : Linux-5.15.146.1-microsoft-standard-WSL2-x86_64-with-glibc2.39\n",
      "--> running inside Windows Subsystem for Linux virtual machine\n",
      "\n",
      "Linux distribution:\n",
      "\n",
      "PRETTY_NAME=\"Ubuntu 24.04 LTS\"\n",
      "NAME=\"Ubuntu\"\n",
      "VERSION_ID=\"24.04\"\n",
      "VERSION=\"24.04 LTS (Noble Numbat)\"\n"
     ]
    }
   ],
   "source": [
    "import platform\n",
    "\n",
    "os_name = platform.system()\n",
    "print(f\"Operating System: {os_name}\")\n",
    "\n",
    "os_details = platform.platform()\n",
    "print(f\"OS Version      : {os_details}\")\n",
    "\n",
    "if os_name==\"Linux\":\n",
    "    if \"microsoft\" in os_details:\n",
    "        print(\"--> running inside Windows Subsystem for Linux virtual machine\")\n",
    "    print()\n",
    "    print(\"Linux distribution:\")\n",
    "    print()\n",
    "    !cat /etc/os-release | head -4"
   ]
  },
  {
   "cell_type": "markdown",
   "id": "efc8f582-0dc1-424b-b1c4-9c6513570da8",
   "metadata": {
    "execution": {
     "iopub.execute_input": "2024-06-08T19:04:26.928324Z",
     "iopub.status.busy": "2024-06-08T19:04:26.927939Z",
     "iopub.status.idle": "2024-06-08T19:04:26.931009Z",
     "shell.execute_reply": "2024-06-08T19:04:26.930446Z",
     "shell.execute_reply.started": "2024-06-08T19:04:26.928309Z"
    }
   },
   "source": [
    "## CPU and Memory"
   ]
  },
  {
   "cell_type": "code",
   "execution_count": 69,
   "id": "a7940795-7afd-4860-b520-ce62df3aa8f0",
   "metadata": {
    "execution": {
     "iopub.execute_input": "2024-06-08T19:56:52.648705Z",
     "iopub.status.busy": "2024-06-08T19:56:52.648318Z",
     "iopub.status.idle": "2024-06-08T19:56:52.656229Z",
     "shell.execute_reply": "2024-06-08T19:56:52.655898Z",
     "shell.execute_reply.started": "2024-06-08T19:56:52.648691Z"
    }
   },
   "outputs": [
    {
     "name": "stdout",
     "output_type": "stream",
     "text": [
      "----------------------------\n",
      "CPU\n",
      "----------------------------\n",
      "CPU Model: 13th Gen Intel(R) Core(TM) i7-13700K\n",
      "Physical Cores: 12\n",
      "Logical  Cores: 24\n",
      "Current Clock Speed: 3417.601 MHz\n",
      "Cache Size: {'L1': '48K', 'L2': '32K', 'L3': '2048K'}\n",
      "\n",
      "----------------------------\n",
      "Memory\n",
      "----------------------------\n",
      "Total RAM: 31.04 GB\n",
      "Used  RAM: 1.96 GB\n",
      "Free  RAM: 28.67 GB\n"
     ]
    }
   ],
   "source": [
    "import psutil\n",
    "import platform\n",
    "import subprocess\n",
    "\n",
    "# Function to get CPU model name\n",
    "def get_cpu_model():\n",
    "    if platform.system() == \"Windows\":\n",
    "        command = \"wmic cpu get Name\"\n",
    "        cpu_model = subprocess.check_output(command).decode().split(\"\\n\")[1].strip()\n",
    "    elif platform.system() == \"Darwin\":\n",
    "        command = \"sysctl -n machdep.cpu.brand_string\"\n",
    "        cpu_model = subprocess.check_output([\"sysctl\", \"-n\", \"machdep.cpu.brand_string\"]).decode().strip()\n",
    "    else:\n",
    "        command = \"cat /proc/cpuinfo | grep 'model name' | uniq\"\n",
    "        cpu_model = subprocess.check_output(command, shell=True).decode().split(\":\")[1].strip()\n",
    "    return cpu_model\n",
    "\n",
    "# Function to get the number of physical cores and logical cores\n",
    "def get_cpu_core_count():\n",
    "    physical_cores = psutil.cpu_count(logical=False)\n",
    "    logical_cores = psutil.cpu_count(logical=True)\n",
    "    return physical_cores, logical_cores\n",
    "\n",
    "# Function to get CPU clock speed\n",
    "def get_cpu_clock_speed():\n",
    "    cpu_freq = psutil.cpu_freq()\n",
    "    return cpu_freq.max, cpu_freq.current\n",
    "\n",
    "# Function to get cache size (Linux specific)\n",
    "def get_cpu_cache_size():\n",
    "    cache_size = {}\n",
    "    try:\n",
    "        with open('/sys/devices/system/cpu/cpu0/cache/index0/size') as f:\n",
    "            cache_size['L1'] = f.read().strip()\n",
    "        with open('/sys/devices/system/cpu/cpu0/cache/index1/size') as f:\n",
    "            cache_size['L2'] = f.read().strip()\n",
    "        with open('/sys/devices/system/cpu/cpu0/cache/index2/size') as f:\n",
    "            cache_size['L3'] = f.read().strip()\n",
    "    except Exception as e:\n",
    "        cache_size = {'L1': 'N/A', 'L2': 'N/A', 'L3': 'N/A'}\n",
    "    return cache_size\n",
    "\n",
    "# Function to get RAM information\n",
    "def get_ram_info():\n",
    "    virtual_memory = psutil.virtual_memory()\n",
    "    total_ram = virtual_memory.total\n",
    "    used_ram = virtual_memory.used\n",
    "    free_ram = virtual_memory.available\n",
    "    return total_ram, used_ram, free_ram\n",
    "\n",
    "# Gathering all information\n",
    "cpu_model = get_cpu_model()\n",
    "physical_cores, logical_cores = get_cpu_core_count()\n",
    "max_clock_speed, current_clock_speed = get_cpu_clock_speed()\n",
    "cache_size = get_cpu_cache_size()\n",
    "total_ram, used_ram, free_ram = get_ram_info()\n",
    "\n",
    "# Printing the information\n",
    "print(\"----------------------------\")\n",
    "print(\"CPU\")\n",
    "print(\"----------------------------\")\n",
    "print(f\"CPU Model: {cpu_model}\")\n",
    "print(f\"Physical Cores: {physical_cores}\")\n",
    "if logical_cores>physical_cores:\n",
    "    print(f\"Logical  Cores: {logical_cores}\")\n",
    "if max_clock_speed > 0:\n",
    "    print(f\"Max Clock Speed: {max_clock_speed} MHz\")\n",
    "print(f\"Current Clock Speed: {current_clock_speed} MHz\")\n",
    "print(f\"Cache Size: {cache_size}\")\n",
    "print()\n",
    "print(\"----------------------------\")\n",
    "print(\"Memory\")\n",
    "print(\"----------------------------\")\n",
    "print(f\"Total RAM: {total_ram / (1024 ** 3):.2f} GB\")\n",
    "print(f\"Used  RAM: {used_ram / (1024 ** 3):.2f} GB\")\n",
    "print(f\"Free  RAM: {free_ram / (1024 ** 3):.2f} GB\")"
   ]
  },
  {
   "cell_type": "markdown",
   "id": "8fa263e1-a8f2-4a17-b551-509da34656da",
   "metadata": {
    "execution": {
     "iopub.execute_input": "2024-06-08T19:18:09.480858Z",
     "iopub.status.busy": "2024-06-08T19:18:09.480643Z",
     "iopub.status.idle": "2024-06-08T19:18:09.483989Z",
     "shell.execute_reply": "2024-06-08T19:18:09.483463Z",
     "shell.execute_reply.started": "2024-06-08T19:18:09.480845Z"
    }
   },
   "source": [
    "### Monitoring your CPU from a terminal"
   ]
  },
  {
   "cell_type": "code",
   "execution_count": 26,
   "id": "158eee70-c462-40a4-86c6-45bbe967f157",
   "metadata": {
    "execution": {
     "iopub.execute_input": "2024-06-08T19:23:50.417950Z",
     "iopub.status.busy": "2024-06-08T19:23:50.417574Z",
     "iopub.status.idle": "2024-06-08T19:23:50.733399Z",
     "shell.execute_reply": "2024-06-08T19:23:50.732006Z",
     "shell.execute_reply.started": "2024-06-08T19:23:50.417932Z"
    }
   },
   "outputs": [
    {
     "name": "stdout",
     "output_type": "stream",
     "text": [
      "top - 21:23:50 up  2:44,  0 user,  load average: 0.08, 0.05, 0.01\n",
      "Tasks:  10 total,   1 running,   9 sleeping,   0 stopped,   0 zombie\n",
      "%Cpu(s):  0.0 us,  0.0 sy,  0.0 ni, 99.6 id,  0.4 wa,  0.0 hi,  0.0 si,  0.0 st \n",
      "MiB Mem :  31785.6 total,  26960.1 free,   2407.2 used,   2841.2 buff/cache     \n",
      "MiB Swap:   8192.0 total,   8192.0 free,      0.0 used.  29378.5 avail Mem \n",
      "\n",
      "  PID USER      PR  NI    VIRT    RES    SHR S  %CPU  %MEM     TIME+ COMMAND\n",
      "    1 root      20   0    2280   1528   1412 S   0.0   0.0   0:00.01 init(word+\n",
      "    5 root      20   0    2280      4      0 S   0.0   0.0   0:00.00 init\n",
      "  722 root      20   0    2284    116      0 S   0.0   0.0   0:00.00 SessionLe+\n",
      "  723 root      20   0    2300    120      0 S   0.0   0.0   0:00.00 Relay(724)\n",
      "  724 root      20   0    7872   3516   3156 S   0.0   0.0   0:00.00 bash\n",
      "  733 root      20   0  571964 123672  20840 S   0.0   0.4   0:08.76 jupyter-l+\n",
      "  749 root      20   0  768764  83232  17084 S   0.0   0.3   0:00.98 python\n",
      "  957 root      20   0  758244  71768  16812 S   0.0   0.2   0:00.48 python\n",
      " 1261 root      20   0  819816 125744  18716 S   0.0   0.4   0:02.17 python\n",
      " 1655 root      20   0   12272   5036   3140 R   0.0   0.0   0:00.00 top\n"
     ]
    }
   ],
   "source": [
    "!top -b -n 1"
   ]
  },
  {
   "cell_type": "markdown",
   "id": "790c8a38-4ecd-4a54-a7fc-1f48f78ba1e0",
   "metadata": {},
   "source": [
    "### Monitoring your CPU from a notebook"
   ]
  },
  {
   "cell_type": "code",
   "execution_count": 67,
   "id": "6af90a80-a406-456f-9e97-ecac09041cf0",
   "metadata": {
    "execution": {
     "iopub.execute_input": "2024-06-08T19:56:23.864611Z",
     "iopub.status.busy": "2024-06-08T19:56:23.864272Z",
     "iopub.status.idle": "2024-06-08T19:56:24.871330Z",
     "shell.execute_reply": "2024-06-08T19:56:24.869971Z",
     "shell.execute_reply.started": "2024-06-08T19:56:23.864597Z"
    }
   },
   "outputs": [
    {
     "name": "stdout",
     "output_type": "stream",
     "text": [
      "- CPU load   : 0.2 %\n",
      "- Used memory: 1.95 GB\n",
      "- Free memory: 26.31 GB\n"
     ]
    }
   ],
   "source": [
    "import psutil\n",
    "\n",
    "# Get CPU usage percentage\n",
    "cpu_usage = psutil.cpu_percent(interval=1)\n",
    "\n",
    "# Get memory usage percentage\n",
    "memory_info = psutil.virtual_memory()\n",
    "\n",
    "# Display the results\n",
    "print(f\"- CPU load   : {cpu_usage} %\")\n",
    "print(f\"- Used memory: {memory_info.used/1024**3:.2f} GB\")\n",
    "print(f\"- Free memory: {memory_info.free/1024**3:.2f} GB\")"
   ]
  },
  {
   "cell_type": "markdown",
   "id": "0a560ce3-7860-4327-bf0f-7eb5e54e4d6f",
   "metadata": {},
   "source": [
    "## Nvidia GPU"
   ]
  },
  {
   "cell_type": "markdown",
   "id": "0af02e31-9527-4082-a2d6-2c2310f547c0",
   "metadata": {
    "execution": {
     "iopub.execute_input": "2023-09-16T07:06:57.142982Z",
     "iopub.status.busy": "2023-09-16T07:06:57.142667Z",
     "iopub.status.idle": "2023-09-16T07:06:57.148749Z",
     "shell.execute_reply": "2023-09-16T07:06:57.147687Z",
     "shell.execute_reply.started": "2023-09-16T07:06:57.142964Z"
    },
    "tags": []
   },
   "source": [
    "NVLM API reference: https://docs.nvidia.com/deploy/nvml-api/index.html"
   ]
  },
  {
   "cell_type": "code",
   "execution_count": 59,
   "id": "4328b429-8a5a-46df-95c1-d75581bebb7d",
   "metadata": {
    "execution": {
     "iopub.execute_input": "2024-06-08T19:49:57.928517Z",
     "iopub.status.busy": "2024-06-08T19:49:57.928316Z",
     "iopub.status.idle": "2024-06-08T19:49:57.933104Z",
     "shell.execute_reply": "2024-06-08T19:49:57.932705Z",
     "shell.execute_reply.started": "2024-06-08T19:49:57.928504Z"
    }
   },
   "outputs": [
    {
     "name": "stdout",
     "output_type": "stream",
     "text": [
      "----------------------------\n",
      "GPU\n",
      "----------------------------\n",
      "Device 0 : architecture Hopper\n",
      "- Total memory  : 24564 MB\n",
      "- Driver Version: 555.99\n",
      "- Driver CUDA   : 12.5\n",
      "\n"
     ]
    }
   ],
   "source": [
    "from pynvml import *\n",
    "\n",
    "nvmlInit()\n",
    "\n",
    "deviceCount = nvmlDeviceGetCount()\n",
    "for i in range(deviceCount):\n",
    "    print(\"----------------------------\")\n",
    "    print(\"GPU\")\n",
    "    print(\"----------------------------\")\n",
    "    handle = nvmlDeviceGetHandleByIndex(i)\n",
    "    # Fix bug: https://github.com/gpuopenanalytics/pynvml/issues/53\n",
    "    if nvmlSystemGetDriverVersion() != \"555.99\": \n",
    "        print(\"Device\", i, \":\", nvmlDeviceGetName(handle))\n",
    "    else:\n",
    "        arch_map = { 1: \"Kepler\", 2: \"Maxwell\", 3: \"Pascal\", 4: \"Volta\", 5: \"Turing\", 6: \"Ampere\", 7: \"Ada\", 8: \"Hopper\", 0: \"Unknown\" }\n",
    "        print(\"Device\", i, \": architecture\", arch_map[nvmlDeviceGetArchitecture(handle)])      \n",
    "    print(\"- Total memory  :\",int(info.total/1024/1024), \"MB\")    \n",
    "    print(\"- Driver Version:\", nvmlSystemGetDriverVersion())\n",
    "    cuda_driver_version = nvmlSystemGetCudaDriverVersion()\n",
    "    print(f\"- Driver CUDA   : {cuda_driver_version//1000}.{(cuda_driver_version%1000)//10}\")\n",
    "    print()"
   ]
  },
  {
   "cell_type": "markdown",
   "id": "f20ae3de-e025-4919-bbe0-e9e939ab2405",
   "metadata": {},
   "source": [
    "### Monitoring your GPU from Terminal "
   ]
  },
  {
   "cell_type": "code",
   "execution_count": 1,
   "id": "94ca79f9-9ab4-4daa-b0f4-46257b0a0ffc",
   "metadata": {
    "execution": {
     "iopub.execute_input": "2024-06-08T17:33:29.565157Z",
     "iopub.status.busy": "2024-06-08T17:33:29.564792Z",
     "iopub.status.idle": "2024-06-08T17:33:29.781463Z",
     "shell.execute_reply": "2024-06-08T17:33:29.780036Z",
     "shell.execute_reply.started": "2024-06-08T17:33:29.565140Z"
    },
    "tags": []
   },
   "outputs": [
    {
     "name": "stdout",
     "output_type": "stream",
     "text": [
      "Sat Jun  8 19:33:29 2024       \n",
      "+-----------------------------------------------------------------------------------------+\n",
      "| NVIDIA-SMI 555.52.01              Driver Version: 555.99         CUDA Version: 12.5     |\n",
      "|-----------------------------------------+------------------------+----------------------+\n",
      "| GPU  Name                 Persistence-M | Bus-Id          Disp.A | Volatile Uncorr. ECC |\n",
      "| Fan  Temp   Perf          Pwr:Usage/Cap |           Memory-Usage | GPU-Util  Compute M. |\n",
      "|                                         |                        |               MIG M. |\n",
      "|=========================================+========================+======================|\n",
      "|   0  NVIDIA GeForce RTX 4090        On  |   00000000:01:00.0  On |                  Off |\n",
      "| 31%   32C    P8              9W /  450W |     822MiB /  24564MiB |      0%      Default |\n",
      "|                                         |                        |                  N/A |\n",
      "+-----------------------------------------+------------------------+----------------------+\n",
      "                                                                                         \n",
      "+-----------------------------------------------------------------------------------------+\n",
      "| Processes:                                                                              |\n",
      "|  GPU   GI   CI        PID   Type   Process name                              GPU Memory |\n",
      "|        ID   ID                                                               Usage      |\n",
      "|=========================================================================================|\n",
      "|  No running processes found                                                             |\n",
      "+-----------------------------------------------------------------------------------------+\n"
     ]
    }
   ],
   "source": [
    "!nvidia-smi"
   ]
  },
  {
   "cell_type": "markdown",
   "id": "fe32ff7b-86cf-444f-92eb-692c26c4a4a3",
   "metadata": {
    "execution": {
     "iopub.execute_input": "2023-09-16T07:00:11.953075Z",
     "iopub.status.busy": "2023-09-16T07:00:11.952250Z",
     "iopub.status.idle": "2023-09-16T07:00:11.956380Z",
     "shell.execute_reply": "2023-09-16T07:00:11.955409Z",
     "shell.execute_reply.started": "2023-09-16T07:00:11.953054Z"
    },
    "tags": []
   },
   "source": [
    "### Monitoring your GPU from a notebook"
   ]
  },
  {
   "cell_type": "code",
   "execution_count": 63,
   "id": "2a87a1c4-7bd0-4a97-86ee-3feb3d9e7f6e",
   "metadata": {
    "execution": {
     "iopub.execute_input": "2024-06-08T19:54:26.328343Z",
     "iopub.status.busy": "2024-06-08T19:54:26.328136Z",
     "iopub.status.idle": "2024-06-08T19:54:26.332331Z",
     "shell.execute_reply": "2024-06-08T19:54:26.332011Z",
     "shell.execute_reply.started": "2024-06-08T19:54:26.328330Z"
    },
    "tags": []
   },
   "outputs": [
    {
     "name": "stdout",
     "output_type": "stream",
     "text": [
      "GPU 0\n",
      "- GPU load   : 0%\n",
      "- Power usage: 10 W\n",
      "- Used memory: 1280 MB\n",
      "- Free memory: 23283 MB\n"
     ]
    }
   ],
   "source": [
    "deviceCount = nvmlDeviceGetCount()\n",
    "for i in range(deviceCount):\n",
    "    handle = nvmlDeviceGetHandleByIndex(i)\n",
    "    print(\"GPU\", i)\n",
    "\n",
    "    utilization = nvmlDeviceGetUtilizationRates(handle)\n",
    "    gpu_utilization = utilization.gpu\n",
    "    print(f\"- GPU load   : {gpu_utilization}%\")\n",
    "    print(f\"- Power usage: {nvmlDeviceGetPowerUsage(handle)//1000} W\")\n",
    "    \n",
    "    info = nvmlDeviceGetMemoryInfo(handle)\n",
    "    print(f\"- Used memory: {int(info.used/1024/1024)} MB\")\n",
    "    print(f\"- Free memory: {int(info.free/1024/1024)} MB\")"
   ]
  }
 ],
 "metadata": {
  "kernelspec": {
   "display_name": "Python 3 (ipykernel)",
   "language": "python",
   "name": "python3"
  },
  "language_info": {
   "codemirror_mode": {
    "name": "ipython",
    "version": 3
   },
   "file_extension": ".py",
   "mimetype": "text/x-python",
   "name": "python",
   "nbconvert_exporter": "python",
   "pygments_lexer": "ipython3",
   "version": "3.12.3"
  }
 },
 "nbformat": 4,
 "nbformat_minor": 5
}
