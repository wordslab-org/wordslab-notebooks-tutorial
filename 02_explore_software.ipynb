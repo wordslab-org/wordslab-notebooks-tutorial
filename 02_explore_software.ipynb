{
 "cells": [
  {
   "cell_type": "markdown",
   "id": "9e9b40a5-7d43-4a35-bfa0-037aa2fcd69f",
   "metadata": {},
   "source": [
    "# 02 - Software"
   ]
  },
  {
   "cell_type": "markdown",
   "id": "03a60ba2-23a5-4831-b5f6-9700d3ceb279",
   "metadata": {},
   "source": [
    "## Python packages"
   ]
  },
  {
   "cell_type": "code",
   "execution_count": 2,
   "id": "5c2aa311-5c7b-42b0-bebc-aad0c1c4552c",
   "metadata": {
    "execution": {
     "iopub.execute_input": "2024-06-08T18:00:33.896219Z",
     "iopub.status.busy": "2024-06-08T18:00:33.895896Z",
     "iopub.status.idle": "2024-06-08T18:00:33.898241Z",
     "shell.execute_reply": "2024-06-08T18:00:33.897929Z",
     "shell.execute_reply.started": "2024-06-08T18:00:33.896205Z"
    },
    "tags": []
   },
   "outputs": [],
   "source": [
    "import importlib.metadata"
   ]
  },
  {
   "cell_type": "markdown",
   "id": "5920ae9f-75e5-4908-b370-104b9bee3427",
   "metadata": {
    "execution": {
     "iopub.execute_input": "2023-09-16T12:52:25.153002Z",
     "iopub.status.busy": "2023-09-16T12:52:25.152040Z",
     "iopub.status.idle": "2023-09-16T12:52:25.165138Z",
     "shell.execute_reply": "2023-09-16T12:52:25.163485Z",
     "shell.execute_reply.started": "2023-09-16T12:52:25.152853Z"
    },
    "tags": []
   },
   "source": [
    "### Python runtime & utilities"
   ]
  },
  {
   "cell_type": "markdown",
   "id": "6911e59e-9f74-43a6-882a-c163097309c1",
   "metadata": {},
   "source": [
    "**python**\n",
    "\n",
    "Python is a programming language that lets you work quickly and integrate systems more effectively.\n",
    "\n",
    "https://www.python.org/"
   ]
  },
  {
   "cell_type": "code",
   "execution_count": 2,
   "id": "270d7504-96bc-4804-97f2-2ff236feadb8",
   "metadata": {
    "execution": {
     "iopub.execute_input": "2024-06-08T17:50:09.948309Z",
     "iopub.status.busy": "2024-06-08T17:50:09.948066Z",
     "iopub.status.idle": "2024-06-08T17:50:10.060945Z",
     "shell.execute_reply": "2024-06-08T17:50:10.059668Z",
     "shell.execute_reply.started": "2024-06-08T17:50:09.948294Z"
    },
    "tags": []
   },
   "outputs": [
    {
     "name": "stdout",
     "output_type": "stream",
     "text": [
      "Python 3.12.3\n"
     ]
    }
   ],
   "source": [
    "!python --version"
   ]
  },
  {
   "cell_type": "markdown",
   "id": "3b0c1068-de53-465d-9485-dd6947f66a5a",
   "metadata": {},
   "source": [
    "**ipython**\n",
    "\n",
    "IPython provides a rich toolkit to help you make the most out of using Python interactively.\n",
    "\n",
    "https://ipython.org/"
   ]
  },
  {
   "cell_type": "code",
   "execution_count": 3,
   "id": "c34cc6d1-639d-4ce4-84ea-8b1c1c3ec676",
   "metadata": {
    "execution": {
     "iopub.execute_input": "2024-06-08T17:50:10.979236Z",
     "iopub.status.busy": "2024-06-08T17:50:10.978835Z",
     "iopub.status.idle": "2024-06-08T17:50:10.986070Z",
     "shell.execute_reply": "2024-06-08T17:50:10.985705Z",
     "shell.execute_reply.started": "2024-06-08T17:50:10.979219Z"
    },
    "tags": []
   },
   "outputs": [
    {
     "data": {
      "text/plain": [
       "'8.25.0'"
      ]
     },
     "execution_count": 3,
     "metadata": {},
     "output_type": "execute_result"
    }
   ],
   "source": [
    "importlib.metadata.version('ipython')"
   ]
  },
  {
   "cell_type": "markdown",
   "id": "baf32ae3-fdb1-42fe-8ea5-bbfa4ddebbc1",
   "metadata": {},
   "source": [
    "**pip**\n",
    "\n",
    "pip is the package installer for Python. You can use pip to install packages from the Python Package Index and other indexes.\n",
    "\n",
    "https://pip.pypa.io/"
   ]
  },
  {
   "cell_type": "code",
   "execution_count": 4,
   "id": "2e1fc1c1-8569-48c2-9d0e-9babdc790782",
   "metadata": {
    "execution": {
     "iopub.execute_input": "2024-06-08T17:50:12.386230Z",
     "iopub.status.busy": "2024-06-08T17:50:12.386033Z",
     "iopub.status.idle": "2024-06-08T17:50:12.390738Z",
     "shell.execute_reply": "2024-06-08T17:50:12.390200Z",
     "shell.execute_reply.started": "2024-06-08T17:50:12.386217Z"
    },
    "tags": []
   },
   "outputs": [
    {
     "data": {
      "text/plain": [
       "'24.0'"
      ]
     },
     "execution_count": 4,
     "metadata": {},
     "output_type": "execute_result"
    }
   ],
   "source": [
    "importlib.metadata.version('pip')"
   ]
  },
  {
   "cell_type": "markdown",
   "id": "d936d46d-8583-4004-81c5-ec23d83d8512",
   "metadata": {},
   "source": [
    "**Pillow**\n",
    "\n",
    "Python Imaging Library (Fork).\n",
    "\n",
    "https://pillow.readthedocs.io/"
   ]
  },
  {
   "cell_type": "code",
   "execution_count": 5,
   "id": "b84f6a66-890c-40fc-9ddb-a7b2c47f3307",
   "metadata": {
    "execution": {
     "iopub.execute_input": "2024-06-08T17:50:14.090481Z",
     "iopub.status.busy": "2024-06-08T17:50:14.090280Z",
     "iopub.status.idle": "2024-06-08T17:50:14.095310Z",
     "shell.execute_reply": "2024-06-08T17:50:14.094793Z",
     "shell.execute_reply.started": "2024-06-08T17:50:14.090468Z"
    },
    "tags": []
   },
   "outputs": [
    {
     "data": {
      "text/plain": [
       "'10.3.0'"
      ]
     },
     "execution_count": 5,
     "metadata": {},
     "output_type": "execute_result"
    }
   ],
   "source": [
    "importlib.metadata.version('Pillow')"
   ]
  },
  {
   "cell_type": "markdown",
   "id": "8bf93a6f-3f79-45b5-9ee7-2a0409442782",
   "metadata": {},
   "source": [
    "### Data analysis"
   ]
  },
  {
   "cell_type": "markdown",
   "id": "876fa6c9-30d0-4617-b82c-b0ca9d6a89fa",
   "metadata": {
    "execution": {
     "iopub.execute_input": "2023-09-16T13:00:37.723742Z",
     "iopub.status.busy": "2023-09-16T13:00:37.723472Z",
     "iopub.status.idle": "2023-09-16T13:00:37.730043Z",
     "shell.execute_reply": "2023-09-16T13:00:37.728896Z",
     "shell.execute_reply.started": "2023-09-16T13:00:37.723723Z"
    },
    "tags": []
   },
   "source": [
    "**pandas**\n",
    "\n",
    "pandas is a Python package that provides fast, flexible, and expressive data structures designed to make working with \"relational\" or \"labeled\" data both easy and intuitive. \n",
    "\n",
    "https://pandas.pydata.org/docs/"
   ]
  },
  {
   "cell_type": "code",
   "execution_count": 6,
   "id": "4283d63a-7882-4d8c-bdb4-bb096326f09e",
   "metadata": {
    "execution": {
     "iopub.execute_input": "2024-06-08T17:50:20.090745Z",
     "iopub.status.busy": "2024-06-08T17:50:20.090174Z",
     "iopub.status.idle": "2024-06-08T17:50:20.094899Z",
     "shell.execute_reply": "2024-06-08T17:50:20.094580Z",
     "shell.execute_reply.started": "2024-06-08T17:50:20.090725Z"
    },
    "tags": []
   },
   "outputs": [
    {
     "data": {
      "text/plain": [
       "'2.2.1'"
      ]
     },
     "execution_count": 6,
     "metadata": {},
     "output_type": "execute_result"
    }
   ],
   "source": [
    "importlib.metadata.version('pandas')"
   ]
  },
  {
   "cell_type": "markdown",
   "id": "dd812ebd-9cb2-4c68-a591-4fca792082e0",
   "metadata": {},
   "source": [
    "**Matplotlib**\n",
    "\n",
    "Matplotlib is a comprehensive library for creating static, animated, and interactive visualizations in Python.\n",
    "\n",
    "https://matplotlib.org/"
   ]
  },
  {
   "cell_type": "code",
   "execution_count": 7,
   "id": "d88fef64-de02-47b0-ad3e-6af64baba7f7",
   "metadata": {
    "execution": {
     "iopub.execute_input": "2024-06-08T17:50:21.313973Z",
     "iopub.status.busy": "2024-06-08T17:50:21.313774Z",
     "iopub.status.idle": "2024-06-08T17:50:21.318822Z",
     "shell.execute_reply": "2024-06-08T17:50:21.318240Z",
     "shell.execute_reply.started": "2024-06-08T17:50:21.313960Z"
    },
    "tags": []
   },
   "outputs": [
    {
     "data": {
      "text/plain": [
       "'3.8.4'"
      ]
     },
     "execution_count": 7,
     "metadata": {},
     "output_type": "execute_result"
    }
   ],
   "source": [
    "importlib.metadata.version('matplotlib')"
   ]
  },
  {
   "cell_type": "markdown",
   "id": "4a2c2f8e-da55-461c-9df1-0dc5850b227f",
   "metadata": {},
   "source": [
    "### Machine learning"
   ]
  },
  {
   "cell_type": "markdown",
   "id": "a7577a43-6e21-46c9-8066-c18531cd03ad",
   "metadata": {},
   "source": [
    "**NumPy**\n",
    "\n",
    "NumPy is the fundamental package for scientific computing with Python.\n",
    "\n",
    "https://numpy.org/doc/1.26"
   ]
  },
  {
   "cell_type": "code",
   "execution_count": 4,
   "id": "5cc6d0e1-646c-4502-862a-713c0d84065d",
   "metadata": {
    "execution": {
     "iopub.execute_input": "2024-06-08T18:00:40.770799Z",
     "iopub.status.busy": "2024-06-08T18:00:40.770577Z",
     "iopub.status.idle": "2024-06-08T18:00:40.775848Z",
     "shell.execute_reply": "2024-06-08T18:00:40.775300Z",
     "shell.execute_reply.started": "2024-06-08T18:00:40.770784Z"
    },
    "tags": []
   },
   "outputs": [
    {
     "data": {
      "text/plain": [
       "'1.26.4'"
      ]
     },
     "execution_count": 4,
     "metadata": {},
     "output_type": "execute_result"
    }
   ],
   "source": [
    "importlib.metadata.version('numpy')"
   ]
  },
  {
   "cell_type": "markdown",
   "id": "3f3b3329-d27d-4745-b280-5e273b68a2cf",
   "metadata": {},
   "source": [
    "**scikit-learn**\n",
    "\n",
    "scikit-learn is a Python module for machine learning built on top of SciPy.\n",
    "\n",
    "https://scikit-learn.org/stable/documentation.html"
   ]
  },
  {
   "cell_type": "code",
   "execution_count": 3,
   "id": "87a0e73a-3064-461e-aaaf-2e4c99bee11f",
   "metadata": {
    "execution": {
     "iopub.execute_input": "2024-06-08T18:00:38.275248Z",
     "iopub.status.busy": "2024-06-08T18:00:38.274979Z",
     "iopub.status.idle": "2024-06-08T18:00:38.280732Z",
     "shell.execute_reply": "2024-06-08T18:00:38.280392Z",
     "shell.execute_reply.started": "2024-06-08T18:00:38.275233Z"
    },
    "tags": []
   },
   "outputs": [
    {
     "data": {
      "text/plain": [
       "'1.4.2'"
      ]
     },
     "execution_count": 3,
     "metadata": {},
     "output_type": "execute_result"
    }
   ],
   "source": [
    "importlib.metadata.version('scikit-learn')"
   ]
  },
  {
   "cell_type": "markdown",
   "id": "04846f94-6c97-477c-8206-7b86f8f83f1d",
   "metadata": {},
   "source": [
    "**SciPy**\n",
    "\n",
    "SciPy (pronounced “Sigh Pie”) is an open-source software for mathematics, science, and engineering. It includes modules for statistics, optimization, integration, linear algebra, Fourier transforms, signal and image processing, ODE solvers, and more.\n",
    "\n",
    "https://docs.scipy.org/doc/scipy/"
   ]
  },
  {
   "cell_type": "code",
   "execution_count": 5,
   "id": "81b40b9e-585d-4fba-aee6-22aba37c4740",
   "metadata": {
    "execution": {
     "iopub.execute_input": "2024-06-08T18:00:47.027150Z",
     "iopub.status.busy": "2024-06-08T18:00:47.026820Z",
     "iopub.status.idle": "2024-06-08T18:00:47.031693Z",
     "shell.execute_reply": "2024-06-08T18:00:47.031234Z",
     "shell.execute_reply.started": "2024-06-08T18:00:47.027136Z"
    },
    "tags": []
   },
   "outputs": [
    {
     "data": {
      "text/plain": [
       "'1.13.1'"
      ]
     },
     "execution_count": 5,
     "metadata": {},
     "output_type": "execute_result"
    }
   ],
   "source": [
    "importlib.metadata.version('scipy')"
   ]
  },
  {
   "cell_type": "markdown",
   "id": "aff4a17f-b62c-4a25-bd14-fca9bd704146",
   "metadata": {
    "execution": {
     "iopub.execute_input": "2024-06-08T18:00:25.541767Z",
     "iopub.status.busy": "2024-06-08T18:00:25.541579Z",
     "iopub.status.idle": "2024-06-08T18:00:25.546212Z",
     "shell.execute_reply": "2024-06-08T18:00:25.545669Z",
     "shell.execute_reply.started": "2024-06-08T18:00:25.541749Z"
    }
   },
   "source": [
    "### Deep learning"
   ]
  },
  {
   "cell_type": "markdown",
   "id": "1569d9d0-c573-4678-8f21-e5189c2fa504",
   "metadata": {},
   "source": [
    "**PyTorch**\n",
    "\n",
    "PyTorch is a Python package that provides two high-level features: Tensor computation (like NumPy) with strong GPU acceleration, Deep neural networks built on a tape-based autograd system.\n",
    "\n",
    "https://pytorch.org/"
   ]
  },
  {
   "cell_type": "code",
   "execution_count": 8,
   "id": "526e6c11-d129-48b3-9e6b-dbbbd63556fa",
   "metadata": {
    "execution": {
     "iopub.execute_input": "2024-06-08T17:50:22.802458Z",
     "iopub.status.busy": "2024-06-08T17:50:22.802250Z",
     "iopub.status.idle": "2024-06-08T17:50:22.807328Z",
     "shell.execute_reply": "2024-06-08T17:50:22.807026Z",
     "shell.execute_reply.started": "2024-06-08T17:50:22.802445Z"
    },
    "tags": []
   },
   "outputs": [
    {
     "data": {
      "text/plain": [
       "'2.3.1'"
      ]
     },
     "execution_count": 8,
     "metadata": {},
     "output_type": "execute_result"
    }
   ],
   "source": [
    "importlib.metadata.version('torch')"
   ]
  },
  {
   "cell_type": "markdown",
   "id": "7944590e-2154-42ab-ac8f-192ba1abf4c1",
   "metadata": {},
   "source": [
    "**torchvision**\n",
    "\n",
    "The torchvision package consists of popular datasets, model architectures, and common image transformations for computer vision.\n",
    "\n",
    "https://github.com/pytorch/vision"
   ]
  },
  {
   "cell_type": "code",
   "execution_count": 9,
   "id": "7abaac97-a229-4ac2-bbe4-d683f2eacf99",
   "metadata": {
    "execution": {
     "iopub.execute_input": "2024-06-08T17:50:24.242915Z",
     "iopub.status.busy": "2024-06-08T17:50:24.242337Z",
     "iopub.status.idle": "2024-06-08T17:50:24.246903Z",
     "shell.execute_reply": "2024-06-08T17:50:24.246392Z",
     "shell.execute_reply.started": "2024-06-08T17:50:24.242901Z"
    },
    "tags": []
   },
   "outputs": [
    {
     "data": {
      "text/plain": [
       "'0.18.1'"
      ]
     },
     "execution_count": 9,
     "metadata": {},
     "output_type": "execute_result"
    }
   ],
   "source": [
    "importlib.metadata.version('torchvision')"
   ]
  },
  {
   "cell_type": "markdown",
   "id": "9d15680d-68f5-4a64-92cf-aa01f0ab396b",
   "metadata": {},
   "source": [
    "**torchaudio**\n",
    "\n",
    "The aim of torchaudio is to apply PyTorch to the audio domain.\n",
    "\n",
    "https://github.com/pytorch/audio"
   ]
  },
  {
   "cell_type": "code",
   "execution_count": 12,
   "id": "b4ef7e05-452e-4193-949e-4f889f4d0ec6",
   "metadata": {
    "execution": {
     "iopub.execute_input": "2024-06-08T17:53:12.596494Z",
     "iopub.status.busy": "2024-06-08T17:53:12.595601Z",
     "iopub.status.idle": "2024-06-08T17:53:12.600927Z",
     "shell.execute_reply": "2024-06-08T17:53:12.600508Z",
     "shell.execute_reply.started": "2024-06-08T17:53:12.596474Z"
    }
   },
   "outputs": [
    {
     "data": {
      "text/plain": [
       "'2.3.1'"
      ]
     },
     "execution_count": 12,
     "metadata": {},
     "output_type": "execute_result"
    }
   ],
   "source": [
    "importlib.metadata.version('torchaudio')"
   ]
  },
  {
   "cell_type": "markdown",
   "id": "cf14d928-6c55-477b-b656-422e7403b658",
   "metadata": {},
   "source": [
    "### Requests & Web scraping"
   ]
  },
  {
   "cell_type": "markdown",
   "id": "4c4ba87a-cec7-4c19-a5ee-6c2f16862570",
   "metadata": {},
   "source": [
    "**requests**\n",
    "\n",
    "Requests allows you to send HTTP/1.1 requests extremely easily. \n",
    "\n",
    "https://requests.readthedocs.io/"
   ]
  },
  {
   "cell_type": "code",
   "execution_count": 6,
   "id": "5916b2bc-2bf4-44b4-bedd-f76bd44c995f",
   "metadata": {
    "execution": {
     "iopub.execute_input": "2024-06-08T18:00:52.850426Z",
     "iopub.status.busy": "2024-06-08T18:00:52.850225Z",
     "iopub.status.idle": "2024-06-08T18:00:52.864403Z",
     "shell.execute_reply": "2024-06-08T18:00:52.864055Z",
     "shell.execute_reply.started": "2024-06-08T18:00:52.850412Z"
    },
    "tags": []
   },
   "outputs": [
    {
     "data": {
      "text/plain": [
       "'2.32.2'"
      ]
     },
     "execution_count": 6,
     "metadata": {},
     "output_type": "execute_result"
    }
   ],
   "source": [
    "importlib.metadata.version('requests')"
   ]
  },
  {
   "cell_type": "markdown",
   "id": "0ed4cd6a-20ed-49af-b989-85b50c123b4d",
   "metadata": {},
   "source": [
    "**urllib3**\n",
    "\n",
    "urllib3 is a powerful, user-friendly HTTP client for Python. Much of the Python ecosystem already uses urllib3 and you should too. urllib3 brings many critical features that are missing from the Python standard libraries.\n",
    "\n",
    "https://urllib3.readthedocs.io/"
   ]
  },
  {
   "cell_type": "code",
   "execution_count": 7,
   "id": "fac1ec89-27a3-4359-94c4-fa240555eab3",
   "metadata": {
    "execution": {
     "iopub.execute_input": "2024-06-08T18:00:56.156831Z",
     "iopub.status.busy": "2024-06-08T18:00:56.156477Z",
     "iopub.status.idle": "2024-06-08T18:00:56.170793Z",
     "shell.execute_reply": "2024-06-08T18:00:56.170410Z",
     "shell.execute_reply.started": "2024-06-08T18:00:56.156816Z"
    },
    "tags": []
   },
   "outputs": [
    {
     "data": {
      "text/plain": [
       "'2.2.1'"
      ]
     },
     "execution_count": 7,
     "metadata": {},
     "output_type": "execute_result"
    }
   ],
   "source": [
    "importlib.metadata.version('urllib3')"
   ]
  },
  {
   "cell_type": "markdown",
   "id": "20594c0e-c543-4ee5-95f1-7aaee5c09b90",
   "metadata": {},
   "source": [
    "**Beautiful Soup**\n",
    "\n",
    "Beautiful Soup is a library that makes it easy to scrape information from web pages.\n",
    "\n",
    "https://www.crummy.com/software/BeautifulSoup/"
   ]
  },
  {
   "cell_type": "code",
   "execution_count": 8,
   "id": "c2528659-56ca-4206-9afb-5948beb1e65b",
   "metadata": {
    "execution": {
     "iopub.execute_input": "2024-06-08T18:01:08.611382Z",
     "iopub.status.busy": "2024-06-08T18:01:08.611182Z",
     "iopub.status.idle": "2024-06-08T18:01:08.625314Z",
     "shell.execute_reply": "2024-06-08T18:01:08.624988Z",
     "shell.execute_reply.started": "2024-06-08T18:01:08.611369Z"
    },
    "tags": []
   },
   "outputs": [
    {
     "data": {
      "text/plain": [
       "'4.12.3'"
      ]
     },
     "execution_count": 8,
     "metadata": {},
     "output_type": "execute_result"
    }
   ],
   "source": [
    "importlib.metadata.version('beautifulsoup4')"
   ]
  },
  {
   "cell_type": "markdown",
   "id": "00ebcb49-ab8b-446a-9c19-0afc163f0314",
   "metadata": {},
   "source": [
    "**Soup Sieve**\n",
    "\n",
    "Soup Sieve is a CSS selector library designed to be used with Beautiful Soup 4. It aims to provide selecting, matching, and filtering using modern CSS selectors. \n",
    "\n",
    "https://github.com/facelessuser/soupsieve"
   ]
  },
  {
   "cell_type": "code",
   "execution_count": 9,
   "id": "ac5416b4-5b8e-4db2-bcd9-d8722f403ebb",
   "metadata": {
    "execution": {
     "iopub.execute_input": "2024-06-08T18:01:12.691343Z",
     "iopub.status.busy": "2024-06-08T18:01:12.690878Z",
     "iopub.status.idle": "2024-06-08T18:01:12.705815Z",
     "shell.execute_reply": "2024-06-08T18:01:12.705444Z",
     "shell.execute_reply.started": "2024-06-08T18:01:12.691325Z"
    },
    "tags": []
   },
   "outputs": [
    {
     "data": {
      "text/plain": [
       "'2.5'"
      ]
     },
     "execution_count": 9,
     "metadata": {},
     "output_type": "execute_result"
    }
   ],
   "source": [
    "importlib.metadata.version('soupsieve')"
   ]
  },
  {
   "cell_type": "markdown",
   "id": "cc8d1477-3a21-4bd0-96b6-f374d10c7d57",
   "metadata": {},
   "source": [
    "### Jupyterlab & extensions"
   ]
  },
  {
   "cell_type": "markdown",
   "id": "a623ae1d-8a1b-4c2d-8777-35d9e6bfa379",
   "metadata": {},
   "source": [
    "**jupyterlab**\n",
    "\n",
    "An extensible environment for interactive and reproducible computing, based on the Jupyter Notebook and Architecture.\n",
    "\n",
    "https://jupyterlab.readthedocs.io/"
   ]
  },
  {
   "cell_type": "code",
   "execution_count": 17,
   "id": "25c9b75e-4e55-4ab6-a0f6-5dd8e7d43d52",
   "metadata": {
    "execution": {
     "iopub.execute_input": "2024-06-08T18:03:40.107681Z",
     "iopub.status.busy": "2024-06-08T18:03:40.107465Z",
     "iopub.status.idle": "2024-06-08T18:03:40.123249Z",
     "shell.execute_reply": "2024-06-08T18:03:40.122942Z",
     "shell.execute_reply.started": "2024-06-08T18:03:40.107667Z"
    },
    "tags": []
   },
   "outputs": [
    {
     "data": {
      "text/plain": [
       "'4.2.1'"
      ]
     },
     "execution_count": 17,
     "metadata": {},
     "output_type": "execute_result"
    }
   ],
   "source": [
    "importlib.metadata.version('jupyterlab')"
   ]
  },
  {
   "cell_type": "markdown",
   "id": "ee56dfb1-e65c-47b2-befb-0278beee554f",
   "metadata": {},
   "source": [
    "**ipywidgets**\n",
    "\n",
    "ipywidgets, also known as jupyter-widgets or simply widgets, are interactive HTML widgets for Jupyter notebooks and the IPython kernel.\n",
    "\n",
    "http://jupyter.org/"
   ]
  },
  {
   "cell_type": "code",
   "execution_count": 20,
   "id": "cf07f05c-35a0-433e-adf2-b1ae423dfd38",
   "metadata": {
    "execution": {
     "iopub.execute_input": "2024-06-08T18:03:57.273339Z",
     "iopub.status.busy": "2024-06-08T18:03:57.273146Z",
     "iopub.status.idle": "2024-06-08T18:03:57.287693Z",
     "shell.execute_reply": "2024-06-08T18:03:57.287363Z",
     "shell.execute_reply.started": "2024-06-08T18:03:57.273326Z"
    },
    "tags": []
   },
   "outputs": [
    {
     "data": {
      "text/plain": [
       "'8.1.3'"
      ]
     },
     "execution_count": 20,
     "metadata": {},
     "output_type": "execute_result"
    }
   ],
   "source": [
    "importlib.metadata.version('ipywidgets')"
   ]
  },
  {
   "cell_type": "markdown",
   "id": "f200043d-0206-4c00-b42c-51dbbd2fbc8a",
   "metadata": {},
   "source": [
    "**jupyterlab-execute-time**\n",
    "\n",
    "Display cell timings in Jupyter Lab.\n",
    "\n",
    "https://github.com/deshaw/jupyterlab-execute-time"
   ]
  },
  {
   "cell_type": "code",
   "execution_count": 21,
   "id": "fb6f592b-71f2-473f-be7a-a9cb438ab276",
   "metadata": {
    "execution": {
     "iopub.execute_input": "2024-06-08T18:03:58.675089Z",
     "iopub.status.busy": "2024-06-08T18:03:58.674566Z",
     "iopub.status.idle": "2024-06-08T18:03:58.688853Z",
     "shell.execute_reply": "2024-06-08T18:03:58.688408Z",
     "shell.execute_reply.started": "2024-06-08T18:03:58.675069Z"
    },
    "tags": []
   },
   "outputs": [
    {
     "data": {
      "text/plain": [
       "'3.1.2'"
      ]
     },
     "execution_count": 21,
     "metadata": {},
     "output_type": "execute_result"
    }
   ],
   "source": [
    "importlib.metadata.version('jupyterlab-execute-time')"
   ]
  },
  {
   "cell_type": "markdown",
   "id": "32aca234-4ee2-4319-8bc1-17bf2ded5181",
   "metadata": {},
   "source": [
    "**jupyterlab_git**\n",
    "\n",
    "A JupyterLab extension for version control using Git.\n",
    "\n",
    "https://github.com/jupyterlab/jupyterlab-git"
   ]
  },
  {
   "cell_type": "code",
   "execution_count": 22,
   "id": "79c5ecd1-4806-435c-95b0-b7d3a4f7df91",
   "metadata": {
    "execution": {
     "iopub.execute_input": "2024-06-08T18:03:59.979580Z",
     "iopub.status.busy": "2024-06-08T18:03:59.979200Z",
     "iopub.status.idle": "2024-06-08T18:03:59.993709Z",
     "shell.execute_reply": "2024-06-08T18:03:59.993401Z",
     "shell.execute_reply.started": "2024-06-08T18:03:59.979562Z"
    },
    "tags": []
   },
   "outputs": [
    {
     "data": {
      "text/plain": [
       "'0.50.0'"
      ]
     },
     "execution_count": 22,
     "metadata": {},
     "output_type": "execute_result"
    }
   ],
   "source": [
    "importlib.metadata.version('jupyterlab-git')"
   ]
  },
  {
   "cell_type": "markdown",
   "id": "783613d1-e788-4d04-b9e2-93c92796d76e",
   "metadata": {},
   "source": [
    "**jupyterlab-nvdashboard**\n",
    "\n",
    "A JupyterLab extension for displaying GPU usage dashboards.\n",
    "\n",
    "https://github.com/rapidsai/jupyterlab-nvdashboard"
   ]
  },
  {
   "cell_type": "code",
   "execution_count": 23,
   "id": "c02eefac-a6cf-45c2-9d63-18b635669796",
   "metadata": {
    "execution": {
     "iopub.execute_input": "2024-06-08T18:04:02.449619Z",
     "iopub.status.busy": "2024-06-08T18:04:02.449246Z",
     "iopub.status.idle": "2024-06-08T18:04:02.463729Z",
     "shell.execute_reply": "2024-06-08T18:04:02.463408Z",
     "shell.execute_reply.started": "2024-06-08T18:04:02.449600Z"
    },
    "tags": []
   },
   "outputs": [
    {
     "data": {
      "text/plain": [
       "'0.11.0'"
      ]
     },
     "execution_count": 23,
     "metadata": {},
     "output_type": "execute_result"
    }
   ],
   "source": [
    "importlib.metadata.version('jupyterlab-nvdashboard')"
   ]
  },
  {
   "cell_type": "markdown",
   "id": "354e02ab-5680-4494-9ee6-70121d1eeb46",
   "metadata": {},
   "source": [
    "**ipympl**\n",
    "\n",
    "Matplotlib Jupyter Extension.\n",
    "\n",
    "http://matplotlib.org/"
   ]
  },
  {
   "cell_type": "code",
   "execution_count": 26,
   "id": "53587c8d-7ab2-4f20-aedb-4c2747f07499",
   "metadata": {
    "execution": {
     "iopub.execute_input": "2024-06-08T18:04:29.059366Z",
     "iopub.status.busy": "2024-06-08T18:04:29.058976Z",
     "iopub.status.idle": "2024-06-08T18:04:29.073358Z",
     "shell.execute_reply": "2024-06-08T18:04:29.073014Z",
     "shell.execute_reply.started": "2024-06-08T18:04:29.059347Z"
    },
    "tags": []
   },
   "outputs": [
    {
     "data": {
      "text/plain": [
       "'0.9.4'"
      ]
     },
     "execution_count": 26,
     "metadata": {},
     "output_type": "execute_result"
    }
   ],
   "source": [
    "importlib.metadata.version('ipympl')"
   ]
  },
  {
   "cell_type": "markdown",
   "id": "864c1a17-d239-47b9-adcf-80e792de0574",
   "metadata": {},
   "source": [
    "### Performance monitoring"
   ]
  },
  {
   "cell_type": "markdown",
   "id": "11cf3f95-ce33-4224-8207-d5b0b9ce86c5",
   "metadata": {},
   "source": [
    "**psutil**\n",
    "\n",
    "Cross-platform lib for process and system monitoring in Python.\n",
    "\n",
    "https://github.com/giampaolo/psutil"
   ]
  },
  {
   "cell_type": "code",
   "execution_count": 27,
   "id": "71251021-3258-474d-8ed0-74da81ab06d0",
   "metadata": {
    "execution": {
     "iopub.execute_input": "2024-06-08T18:04:34.186320Z",
     "iopub.status.busy": "2024-06-08T18:04:34.185896Z",
     "iopub.status.idle": "2024-06-08T18:04:34.191568Z",
     "shell.execute_reply": "2024-06-08T18:04:34.191284Z",
     "shell.execute_reply.started": "2024-06-08T18:04:34.186302Z"
    },
    "tags": []
   },
   "outputs": [
    {
     "data": {
      "text/plain": [
       "'5.9.0'"
      ]
     },
     "execution_count": 27,
     "metadata": {},
     "output_type": "execute_result"
    }
   ],
   "source": [
    "importlib.metadata.version('psutil')"
   ]
  },
  {
   "cell_type": "markdown",
   "id": "1b58d398-ac41-4443-9ed2-6af5c63f5195",
   "metadata": {},
   "source": [
    "**pynvml**\n",
    "\n",
    "Provides a Python interface to GPU management and monitoring functions. This is a wrapper around the NVML library.\n",
    "\n",
    "http://developer.nvidia.com/nvidia-management-library-nvml"
   ]
  },
  {
   "cell_type": "code",
   "execution_count": 28,
   "id": "0eeef6bc-dd1b-4d13-af68-ba33857f93d4",
   "metadata": {
    "execution": {
     "iopub.execute_input": "2024-06-08T18:04:37.441447Z",
     "iopub.status.busy": "2024-06-08T18:04:37.441238Z",
     "iopub.status.idle": "2024-06-08T18:04:37.456132Z",
     "shell.execute_reply": "2024-06-08T18:04:37.455789Z",
     "shell.execute_reply.started": "2024-06-08T18:04:37.441426Z"
    },
    "tags": []
   },
   "outputs": [
    {
     "data": {
      "text/plain": [
       "'11.5.0'"
      ]
     },
     "execution_count": 28,
     "metadata": {},
     "output_type": "execute_result"
    }
   ],
   "source": [
    "importlib.metadata.version('pynvml')"
   ]
  },
  {
   "cell_type": "markdown",
   "id": "790740e8-fb25-41c6-96a9-02349144129b",
   "metadata": {},
   "source": [
    "**prometheus-client**\n",
    "\n",
    "Python client for the Prometheus monitoring system.\n",
    "\n",
    "https://github.com/prometheus/client_python"
   ]
  },
  {
   "cell_type": "code",
   "execution_count": 29,
   "id": "0b5f4c5f-3c6b-4907-a5a4-a7911a102774",
   "metadata": {
    "execution": {
     "iopub.execute_input": "2024-06-08T18:04:38.971146Z",
     "iopub.status.busy": "2024-06-08T18:04:38.970780Z",
     "iopub.status.idle": "2024-06-08T18:04:38.976168Z",
     "shell.execute_reply": "2024-06-08T18:04:38.975682Z",
     "shell.execute_reply.started": "2024-06-08T18:04:38.971130Z"
    },
    "tags": []
   },
   "outputs": [
    {
     "data": {
      "text/plain": [
       "'0.20.0'"
      ]
     },
     "execution_count": 29,
     "metadata": {},
     "output_type": "execute_result"
    }
   ],
   "source": [
    "importlib.metadata.version('prometheus-client')"
   ]
  },
  {
   "cell_type": "markdown",
   "id": "f37d727f-2acf-4238-a318-8995d4fe86e9",
   "metadata": {},
   "source": [
    "### Files & notebooks versioning"
   ]
  },
  {
   "cell_type": "markdown",
   "id": "e1525b6c-ce08-4347-a661-d852ccca0c76",
   "metadata": {},
   "source": [
    "**GitPython**\n",
    "\n",
    "GitPython is a python library used to interact with git repositories.\n",
    "\n",
    "https://github.com/gitpython-developers/GitPython"
   ]
  },
  {
   "cell_type": "code",
   "execution_count": 30,
   "id": "218dd497-a3f4-4d78-ad96-40edc2af1878",
   "metadata": {
    "execution": {
     "iopub.execute_input": "2024-06-08T18:04:47.986143Z",
     "iopub.status.busy": "2024-06-08T18:04:47.985930Z",
     "iopub.status.idle": "2024-06-08T18:04:48.001709Z",
     "shell.execute_reply": "2024-06-08T18:04:48.001352Z",
     "shell.execute_reply.started": "2024-06-08T18:04:47.986129Z"
    },
    "tags": []
   },
   "outputs": [
    {
     "data": {
      "text/plain": [
       "'3.1.43'"
      ]
     },
     "execution_count": 30,
     "metadata": {},
     "output_type": "execute_result"
    }
   ],
   "source": [
    "importlib.metadata.version('GitPython')"
   ]
  },
  {
   "cell_type": "markdown",
   "id": "4387b042-6fec-4bcd-882d-825f2435d489",
   "metadata": {},
   "source": [
    "**nbdime**\n",
    "\n",
    "Diff and merge of Jupyter Notebooks.\n",
    "\n",
    "https://nbdime.readthedocs.io/"
   ]
  },
  {
   "cell_type": "code",
   "execution_count": 31,
   "id": "d69afe7c-17ef-4c22-9b7f-6f7a236fc1b1",
   "metadata": {
    "execution": {
     "iopub.execute_input": "2024-06-08T18:04:53.067033Z",
     "iopub.status.busy": "2024-06-08T18:04:53.066586Z",
     "iopub.status.idle": "2024-06-08T18:04:53.082019Z",
     "shell.execute_reply": "2024-06-08T18:04:53.081713Z",
     "shell.execute_reply.started": "2024-06-08T18:04:53.067017Z"
    },
    "tags": []
   },
   "outputs": [
    {
     "data": {
      "text/plain": [
       "'4.0.1'"
      ]
     },
     "execution_count": 31,
     "metadata": {},
     "output_type": "execute_result"
    }
   ],
   "source": [
    "importlib.metadata.version('nbdime')"
   ]
  },
  {
   "cell_type": "markdown",
   "id": "8bba67b4-dc94-4efa-ab8f-5c44153dd473",
   "metadata": {},
   "source": [
    "## Linux Packages"
   ]
  },
  {
   "cell_type": "markdown",
   "id": "612beba8-edf6-4600-a8a5-918c83c47ac0",
   "metadata": {},
   "source": [
    "### Operating system"
   ]
  },
  {
   "cell_type": "markdown",
   "id": "17b54d24-4421-4c1d-b4de-938a86be3fa3",
   "metadata": {},
   "source": [
    "**Linux distribution**"
   ]
  },
  {
   "cell_type": "code",
   "execution_count": 32,
   "id": "b4c1f09c-c6d1-4b8e-927b-35dd0f4cc3e2",
   "metadata": {
    "execution": {
     "iopub.execute_input": "2024-06-08T18:04:59.667488Z",
     "iopub.status.busy": "2024-06-08T18:04:59.666933Z",
     "iopub.status.idle": "2024-06-08T18:04:59.782562Z",
     "shell.execute_reply": "2024-06-08T18:04:59.781298Z",
     "shell.execute_reply.started": "2024-06-08T18:04:59.667468Z"
    },
    "tags": []
   },
   "outputs": [
    {
     "name": "stdout",
     "output_type": "stream",
     "text": [
      "DISTRIB_ID=Ubuntu\n",
      "DISTRIB_RELEASE=24.04\n",
      "DISTRIB_CODENAME=noble\n",
      "DISTRIB_DESCRIPTION=\"Ubuntu 24.04 LTS\"\n"
     ]
    }
   ],
   "source": [
    "!cat /etc/lsb-release"
   ]
  },
  {
   "cell_type": "markdown",
   "id": "332ffc88-7e4a-4eb2-8b85-b654b93c722a",
   "metadata": {},
   "source": [
    "### Programming languages"
   ]
  },
  {
   "cell_type": "markdown",
   "id": "aef6f5ce-4454-4dba-ac3e-07cf099c2eb7",
   "metadata": {},
   "source": [
    "**python3**"
   ]
  },
  {
   "cell_type": "code",
   "execution_count": 34,
   "id": "bdf4147c-38b2-43ca-add9-42a5b384f502",
   "metadata": {
    "execution": {
     "iopub.execute_input": "2024-06-08T18:05:22.586361Z",
     "iopub.status.busy": "2024-06-08T18:05:22.586149Z",
     "iopub.status.idle": "2024-06-08T18:05:22.699142Z",
     "shell.execute_reply": "2024-06-08T18:05:22.697663Z",
     "shell.execute_reply.started": "2024-06-08T18:05:22.586344Z"
    },
    "tags": []
   },
   "outputs": [
    {
     "name": "stdout",
     "output_type": "stream",
     "text": [
      "Version: 3.12.3-0ubuntu1\n"
     ]
    }
   ],
   "source": [
    "!dpkg -s python3 | grep Version"
   ]
  },
  {
   "cell_type": "markdown",
   "id": "eb475a05-24b0-4593-8bc2-fb9870f6ff3b",
   "metadata": {},
   "source": [
    "**gcc/g++**"
   ]
  },
  {
   "cell_type": "code",
   "execution_count": 36,
   "id": "3fa4d6b1-337f-4d5d-96b8-6bb5b5edc83a",
   "metadata": {
    "execution": {
     "iopub.execute_input": "2024-06-08T18:05:29.851056Z",
     "iopub.status.busy": "2024-06-08T18:05:29.850795Z",
     "iopub.status.idle": "2024-06-08T18:05:29.961640Z",
     "shell.execute_reply": "2024-06-08T18:05:29.960621Z",
     "shell.execute_reply.started": "2024-06-08T18:05:29.851038Z"
    },
    "tags": []
   },
   "outputs": [
    {
     "name": "stdout",
     "output_type": "stream",
     "text": [
      "Version: 4:13.2.0-7ubuntu1\n"
     ]
    }
   ],
   "source": [
    "!dpkg -s gcc | grep Version"
   ]
  },
  {
   "cell_type": "markdown",
   "id": "e0a244c0-4e39-4913-a9b3-d9f396df3bba",
   "metadata": {
    "execution": {
     "iopub.execute_input": "2023-09-16T13:31:27.540063Z",
     "iopub.status.busy": "2023-09-16T13:31:27.539502Z",
     "iopub.status.idle": "2023-09-16T13:31:27.543644Z",
     "shell.execute_reply": "2023-09-16T13:31:27.542842Z",
     "shell.execute_reply.started": "2023-09-16T13:31:27.540040Z"
    },
    "tags": []
   },
   "source": [
    "### Terminal & version control"
   ]
  },
  {
   "cell_type": "markdown",
   "id": "8322579c-9908-4ec1-9acd-268e06491d3a",
   "metadata": {},
   "source": [
    "**bash**"
   ]
  },
  {
   "cell_type": "code",
   "execution_count": 38,
   "id": "7698aab6-d8e7-4d2e-988f-e789a971e9ea",
   "metadata": {
    "execution": {
     "iopub.execute_input": "2024-06-08T18:05:38.587528Z",
     "iopub.status.busy": "2024-06-08T18:05:38.586838Z",
     "iopub.status.idle": "2024-06-08T18:05:38.699831Z",
     "shell.execute_reply": "2024-06-08T18:05:38.698584Z",
     "shell.execute_reply.started": "2024-06-08T18:05:38.587501Z"
    },
    "tags": []
   },
   "outputs": [
    {
     "name": "stdout",
     "output_type": "stream",
     "text": [
      "Version: 5.2.21-2ubuntu4\n"
     ]
    }
   ],
   "source": [
    "!dpkg -s bash | grep Version"
   ]
  },
  {
   "cell_type": "markdown",
   "id": "56fcc603-cb3a-4597-a255-fee79d57d8c4",
   "metadata": {},
   "source": [
    "**tmux**"
   ]
  },
  {
   "cell_type": "code",
   "execution_count": 39,
   "id": "7e6340c7-d177-4312-b007-58617843b55d",
   "metadata": {
    "execution": {
     "iopub.execute_input": "2024-06-08T18:05:39.811689Z",
     "iopub.status.busy": "2024-06-08T18:05:39.811471Z",
     "iopub.status.idle": "2024-06-08T18:05:39.924409Z",
     "shell.execute_reply": "2024-06-08T18:05:39.922860Z",
     "shell.execute_reply.started": "2024-06-08T18:05:39.811673Z"
    },
    "tags": []
   },
   "outputs": [
    {
     "name": "stdout",
     "output_type": "stream",
     "text": [
      "Version: 3.4-1build1\n"
     ]
    }
   ],
   "source": [
    "!dpkg -s tmux | grep Version"
   ]
  },
  {
   "cell_type": "markdown",
   "id": "133c4eef-69d6-4b28-8427-9b53ba8223e7",
   "metadata": {},
   "source": [
    "**git**"
   ]
  },
  {
   "cell_type": "code",
   "execution_count": 40,
   "id": "b8c08735-5102-4a80-919d-92004688ac0f",
   "metadata": {
    "execution": {
     "iopub.execute_input": "2024-06-08T18:05:41.017737Z",
     "iopub.status.busy": "2024-06-08T18:05:41.017519Z",
     "iopub.status.idle": "2024-06-08T18:05:41.130366Z",
     "shell.execute_reply": "2024-06-08T18:05:41.128999Z",
     "shell.execute_reply.started": "2024-06-08T18:05:41.017720Z"
    },
    "tags": []
   },
   "outputs": [
    {
     "name": "stdout",
     "output_type": "stream",
     "text": [
      "Version: 1:2.43.0-1ubuntu7.1\n"
     ]
    }
   ],
   "source": [
    "!dpkg -s git | grep Version"
   ]
  },
  {
   "cell_type": "markdown",
   "id": "396bcb8b-c0f4-4913-9ae2-4880fb98e127",
   "metadata": {},
   "source": [
    "### Files download"
   ]
  },
  {
   "cell_type": "markdown",
   "id": "5d140386-bad6-4032-8df7-1e3dd9c9f882",
   "metadata": {},
   "source": [
    "**curl**"
   ]
  },
  {
   "cell_type": "code",
   "execution_count": 41,
   "id": "7780a784-e35f-455f-9d71-b83cea035324",
   "metadata": {
    "execution": {
     "iopub.execute_input": "2024-06-08T18:05:44.395343Z",
     "iopub.status.busy": "2024-06-08T18:05:44.394978Z",
     "iopub.status.idle": "2024-06-08T18:05:44.508513Z",
     "shell.execute_reply": "2024-06-08T18:05:44.507149Z",
     "shell.execute_reply.started": "2024-06-08T18:05:44.395325Z"
    },
    "tags": []
   },
   "outputs": [
    {
     "name": "stdout",
     "output_type": "stream",
     "text": [
      "Version: 8.5.0-2ubuntu10.1\n"
     ]
    }
   ],
   "source": [
    "!dpkg -s curl | grep Version"
   ]
  },
  {
   "cell_type": "markdown",
   "id": "9d49612d-b9b4-4dca-b67b-07a865693884",
   "metadata": {},
   "source": [
    "**wget**"
   ]
  },
  {
   "cell_type": "code",
   "execution_count": 42,
   "id": "877a3c8d-544b-43cd-9a85-97922d624f03",
   "metadata": {
    "execution": {
     "iopub.execute_input": "2024-06-08T18:05:45.306251Z",
     "iopub.status.busy": "2024-06-08T18:05:45.305932Z",
     "iopub.status.idle": "2024-06-08T18:05:45.421945Z",
     "shell.execute_reply": "2024-06-08T18:05:45.420382Z",
     "shell.execute_reply.started": "2024-06-08T18:05:45.306227Z"
    },
    "tags": []
   },
   "outputs": [
    {
     "name": "stdout",
     "output_type": "stream",
     "text": [
      "Version: 1.21.4-1ubuntu4\n"
     ]
    }
   ],
   "source": [
    "!dpkg -s wget | grep Version"
   ]
  },
  {
   "cell_type": "markdown",
   "id": "1033a1ca-f9ab-4665-8c72-c1c1151f6f3a",
   "metadata": {
    "execution": {
     "iopub.execute_input": "2023-09-16T13:32:39.171616Z",
     "iopub.status.busy": "2023-09-16T13:32:39.171343Z",
     "iopub.status.idle": "2023-09-16T13:32:39.175635Z",
     "shell.execute_reply": "2023-09-16T13:32:39.174695Z",
     "shell.execute_reply.started": "2023-09-16T13:32:39.171602Z"
    },
    "tags": []
   },
   "source": [
    "### Files archives & compression"
   ]
  },
  {
   "cell_type": "markdown",
   "id": "05d79094-398d-4ac5-8795-dd8e1f0e1a3d",
   "metadata": {},
   "source": [
    "**bzip2**"
   ]
  },
  {
   "cell_type": "code",
   "execution_count": 43,
   "id": "9efacf69-c891-4aad-9b94-a7b60c91d232",
   "metadata": {
    "execution": {
     "iopub.execute_input": "2024-06-08T18:05:46.875793Z",
     "iopub.status.busy": "2024-06-08T18:05:46.875577Z",
     "iopub.status.idle": "2024-06-08T18:05:46.988625Z",
     "shell.execute_reply": "2024-06-08T18:05:46.987226Z",
     "shell.execute_reply.started": "2024-06-08T18:05:46.875776Z"
    },
    "tags": []
   },
   "outputs": [
    {
     "name": "stdout",
     "output_type": "stream",
     "text": [
      "Version: 1.0.8-5.1\n"
     ]
    }
   ],
   "source": [
    "!dpkg -s bzip2 | grep Version"
   ]
  },
  {
   "cell_type": "markdown",
   "id": "2d5f54e2-f9fe-43cf-bd30-b633ff1b2e66",
   "metadata": {},
   "source": [
    "**gzip**"
   ]
  },
  {
   "cell_type": "code",
   "execution_count": 44,
   "id": "3988e458-7a81-4ba9-895a-5706618be333",
   "metadata": {
    "execution": {
     "iopub.execute_input": "2024-06-08T18:05:47.681860Z",
     "iopub.status.busy": "2024-06-08T18:05:47.681485Z",
     "iopub.status.idle": "2024-06-08T18:05:47.794420Z",
     "shell.execute_reply": "2024-06-08T18:05:47.793184Z",
     "shell.execute_reply.started": "2024-06-08T18:05:47.681840Z"
    },
    "tags": []
   },
   "outputs": [
    {
     "name": "stdout",
     "output_type": "stream",
     "text": [
      "Version: 1.12-1ubuntu3\n"
     ]
    }
   ],
   "source": [
    "!dpkg -s gzip | grep Version"
   ]
  },
  {
   "cell_type": "markdown",
   "id": "824cc23d-acca-4c3b-948b-326ee3e71981",
   "metadata": {},
   "source": [
    "**tar**"
   ]
  },
  {
   "cell_type": "code",
   "execution_count": 45,
   "id": "281a3942-26bc-4b9f-a1e8-fefd0b713724",
   "metadata": {
    "execution": {
     "iopub.execute_input": "2024-06-08T18:05:48.657758Z",
     "iopub.status.busy": "2024-06-08T18:05:48.657375Z",
     "iopub.status.idle": "2024-06-08T18:05:48.770528Z",
     "shell.execute_reply": "2024-06-08T18:05:48.769245Z",
     "shell.execute_reply.started": "2024-06-08T18:05:48.657740Z"
    },
    "tags": []
   },
   "outputs": [
    {
     "name": "stdout",
     "output_type": "stream",
     "text": [
      "Version: 1.35+dfsg-3build1\n"
     ]
    }
   ],
   "source": [
    "!dpkg -s tar | grep Version"
   ]
  },
  {
   "cell_type": "markdown",
   "id": "f9e701f0-2e09-4d56-be98-de9af4a7eac2",
   "metadata": {},
   "source": [
    "**unzip**"
   ]
  },
  {
   "cell_type": "code",
   "execution_count": 46,
   "id": "9c11a6d9-6aa6-4d7c-9b4e-2859fd477360",
   "metadata": {
    "execution": {
     "iopub.execute_input": "2024-06-08T18:05:49.394204Z",
     "iopub.status.busy": "2024-06-08T18:05:49.393468Z",
     "iopub.status.idle": "2024-06-08T18:05:49.506200Z",
     "shell.execute_reply": "2024-06-08T18:05:49.504669Z",
     "shell.execute_reply.started": "2024-06-08T18:05:49.394180Z"
    },
    "tags": []
   },
   "outputs": [
    {
     "name": "stdout",
     "output_type": "stream",
     "text": [
      "Version: 6.0-28ubuntu4\n"
     ]
    }
   ],
   "source": [
    "!dpkg -s unzip | grep Version"
   ]
  },
  {
   "cell_type": "markdown",
   "id": "c01c9a62-877a-47f1-8b26-534ad17fede8",
   "metadata": {},
   "source": [
    "### Text editors"
   ]
  },
  {
   "cell_type": "markdown",
   "id": "babf7689-5806-4e8f-bb3a-60fbc798eb82",
   "metadata": {},
   "source": [
    "**emacs**"
   ]
  },
  {
   "cell_type": "code",
   "execution_count": 47,
   "id": "afdae42c-16a5-493a-a6a5-3a9550c2e183",
   "metadata": {
    "execution": {
     "iopub.execute_input": "2024-06-08T18:05:50.978189Z",
     "iopub.status.busy": "2024-06-08T18:05:50.977695Z",
     "iopub.status.idle": "2024-06-08T18:05:51.092492Z",
     "shell.execute_reply": "2024-06-08T18:05:51.091991Z",
     "shell.execute_reply.started": "2024-06-08T18:05:50.978171Z"
    },
    "tags": []
   },
   "outputs": [
    {
     "name": "stdout",
     "output_type": "stream",
     "text": [
      "Version: 1:29.3+1-1ubuntu2\n"
     ]
    }
   ],
   "source": [
    "!dpkg -s emacs | grep Version"
   ]
  },
  {
   "cell_type": "markdown",
   "id": "d296bab5-e989-4d6a-929a-a424c2bd66d6",
   "metadata": {},
   "source": [
    "**vim**"
   ]
  },
  {
   "cell_type": "code",
   "execution_count": 49,
   "id": "8d43e029-6d8a-4662-bdb2-d0b3687d32a8",
   "metadata": {
    "execution": {
     "iopub.execute_input": "2024-06-08T18:05:57.098783Z",
     "iopub.status.busy": "2024-06-08T18:05:57.098019Z",
     "iopub.status.idle": "2024-06-08T18:05:57.210515Z",
     "shell.execute_reply": "2024-06-08T18:05:57.209224Z",
     "shell.execute_reply.started": "2024-06-08T18:05:57.098763Z"
    },
    "tags": []
   },
   "outputs": [
    {
     "name": "stdout",
     "output_type": "stream",
     "text": [
      "Version: 2:9.1.0016-1ubuntu7.1\n"
     ]
    }
   ],
   "source": [
    "!dpkg -s vim | grep Version"
   ]
  },
  {
   "cell_type": "markdown",
   "id": "7773e2d8-c7f6-4e4d-bdba-085181374bc8",
   "metadata": {},
   "source": [
    "### Performance monintoring"
   ]
  },
  {
   "cell_type": "markdown",
   "id": "cd6ffafa-0292-43ba-83d1-6dd15f5a50d4",
   "metadata": {},
   "source": [
    "**htop**"
   ]
  },
  {
   "cell_type": "code",
   "execution_count": 50,
   "id": "8d927a92-db7e-4b76-9ba3-2d20f4a042f8",
   "metadata": {
    "execution": {
     "iopub.execute_input": "2024-06-08T18:06:00.737988Z",
     "iopub.status.busy": "2024-06-08T18:06:00.737612Z",
     "iopub.status.idle": "2024-06-08T18:06:00.850521Z",
     "shell.execute_reply": "2024-06-08T18:06:00.849225Z",
     "shell.execute_reply.started": "2024-06-08T18:06:00.737969Z"
    },
    "tags": []
   },
   "outputs": [
    {
     "name": "stdout",
     "output_type": "stream",
     "text": [
      "Version: 3.3.0-4build1\n"
     ]
    }
   ],
   "source": [
    "!dpkg -s htop | grep Version"
   ]
  },
  {
   "cell_type": "markdown",
   "id": "e98d2914-f0c5-4264-9a6f-29a92d1573ee",
   "metadata": {},
   "source": [
    "**nvtop**"
   ]
  },
  {
   "cell_type": "code",
   "execution_count": 51,
   "id": "9d8d9f86-1a3a-4dc7-b704-586d3a030706",
   "metadata": {
    "execution": {
     "iopub.execute_input": "2024-06-08T18:06:01.436858Z",
     "iopub.status.busy": "2024-06-08T18:06:01.436084Z",
     "iopub.status.idle": "2024-06-08T18:06:01.549090Z",
     "shell.execute_reply": "2024-06-08T18:06:01.547732Z",
     "shell.execute_reply.started": "2024-06-08T18:06:01.436836Z"
    },
    "tags": []
   },
   "outputs": [
    {
     "name": "stdout",
     "output_type": "stream",
     "text": [
      "Version: 3.0.2-1\n"
     ]
    }
   ],
   "source": [
    "!dpkg -s nvtop | grep Version"
   ]
  }
 ],
 "metadata": {
  "kernelspec": {
   "display_name": "Python 3 (ipykernel)",
   "language": "python",
   "name": "python3"
  },
  "language_info": {
   "codemirror_mode": {
    "name": "ipython",
    "version": 3
   },
   "file_extension": ".py",
   "mimetype": "text/x-python",
   "name": "python",
   "nbconvert_exporter": "python",
   "pygments_lexer": "ipython3",
   "version": "3.12.3"
  }
 },
 "nbformat": 4,
 "nbformat_minor": 5
}
