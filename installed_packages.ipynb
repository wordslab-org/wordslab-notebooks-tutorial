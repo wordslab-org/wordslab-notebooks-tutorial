{
 "cells": [
  {
   "cell_type": "markdown",
   "id": "9e9b40a5-7d43-4a35-bfa0-037aa2fcd69f",
   "metadata": {},
   "source": [
    "# Installed packages versions"
   ]
  },
  {
   "cell_type": "markdown",
   "id": "03a60ba2-23a5-4831-b5f6-9700d3ceb279",
   "metadata": {},
   "source": [
    "## Python packages"
   ]
  },
  {
   "cell_type": "code",
   "execution_count": 8,
   "id": "5c2aa311-5c7b-42b0-bebc-aad0c1c4552c",
   "metadata": {
    "execution": {
     "iopub.execute_input": "2023-09-16T12:59:12.832005Z",
     "iopub.status.busy": "2023-09-16T12:59:12.831741Z",
     "iopub.status.idle": "2023-09-16T12:59:12.835712Z",
     "shell.execute_reply": "2023-09-16T12:59:12.834856Z",
     "shell.execute_reply.started": "2023-09-16T12:59:12.831984Z"
    },
    "tags": []
   },
   "outputs": [],
   "source": [
    "import importlib.metadata"
   ]
  },
  {
   "cell_type": "markdown",
   "id": "5920ae9f-75e5-4908-b370-104b9bee3427",
   "metadata": {
    "execution": {
     "iopub.execute_input": "2023-09-16T12:52:25.153002Z",
     "iopub.status.busy": "2023-09-16T12:52:25.152040Z",
     "iopub.status.idle": "2023-09-16T12:52:25.165138Z",
     "shell.execute_reply": "2023-09-16T12:52:25.163485Z",
     "shell.execute_reply.started": "2023-09-16T12:52:25.152853Z"
    },
    "tags": []
   },
   "source": [
    "### Python runtime & utilities"
   ]
  },
  {
   "cell_type": "markdown",
   "id": "6911e59e-9f74-43a6-882a-c163097309c1",
   "metadata": {},
   "source": [
    "**python**\n",
    "\n",
    "Python is a programming language that lets you work quickly and integrate systems more effectively.\n",
    "\n",
    "https://www.python.org/"
   ]
  },
  {
   "cell_type": "code",
   "execution_count": 3,
   "id": "270d7504-96bc-4804-97f2-2ff236feadb8",
   "metadata": {
    "execution": {
     "iopub.execute_input": "2023-09-16T12:56:25.251980Z",
     "iopub.status.busy": "2023-09-16T12:56:25.251714Z",
     "iopub.status.idle": "2023-09-16T12:56:25.383813Z",
     "shell.execute_reply": "2023-09-16T12:56:25.382216Z",
     "shell.execute_reply.started": "2023-09-16T12:56:25.251964Z"
    },
    "tags": []
   },
   "outputs": [
    {
     "name": "stdout",
     "output_type": "stream",
     "text": [
      "Python 3.10.12\n"
     ]
    }
   ],
   "source": [
    "!python --version"
   ]
  },
  {
   "cell_type": "markdown",
   "id": "3b0c1068-de53-465d-9485-dd6947f66a5a",
   "metadata": {},
   "source": [
    "**ipython**\n",
    "\n",
    "IPython provides a rich toolkit to help you make the most out of using Python interactively.\n",
    "\n",
    "https://ipython.org/"
   ]
  },
  {
   "cell_type": "code",
   "execution_count": 7,
   "id": "c34cc6d1-639d-4ce4-84ea-8b1c1c3ec676",
   "metadata": {
    "execution": {
     "iopub.execute_input": "2023-09-16T12:59:00.957283Z",
     "iopub.status.busy": "2023-09-16T12:59:00.957042Z",
     "iopub.status.idle": "2023-09-16T12:59:00.966031Z",
     "shell.execute_reply": "2023-09-16T12:59:00.965280Z",
     "shell.execute_reply.started": "2023-09-16T12:59:00.957266Z"
    },
    "tags": []
   },
   "outputs": [
    {
     "data": {
      "text/plain": [
       "'7.31.1'"
      ]
     },
     "execution_count": 7,
     "metadata": {},
     "output_type": "execute_result"
    }
   ],
   "source": [
    "importlib.metadata.version('ipython')"
   ]
  },
  {
   "cell_type": "markdown",
   "id": "baf32ae3-fdb1-42fe-8ea5-bbfa4ddebbc1",
   "metadata": {},
   "source": [
    "**pip**\n",
    "\n",
    "pip is the package installer for Python. You can use pip to install packages from the Python Package Index and other indexes.\n",
    "\n",
    "https://pip.pypa.io/"
   ]
  },
  {
   "cell_type": "code",
   "execution_count": 9,
   "id": "2e1fc1c1-8569-48c2-9d0e-9babdc790782",
   "metadata": {
    "execution": {
     "iopub.execute_input": "2023-09-16T12:59:53.235542Z",
     "iopub.status.busy": "2023-09-16T12:59:53.235215Z",
     "iopub.status.idle": "2023-09-16T12:59:53.254269Z",
     "shell.execute_reply": "2023-09-16T12:59:53.253406Z",
     "shell.execute_reply.started": "2023-09-16T12:59:53.235518Z"
    },
    "tags": []
   },
   "outputs": [
    {
     "data": {
      "text/plain": [
       "'22.0.2'"
      ]
     },
     "execution_count": 9,
     "metadata": {},
     "output_type": "execute_result"
    }
   ],
   "source": [
    "importlib.metadata.version('pip')"
   ]
  },
  {
   "cell_type": "markdown",
   "id": "d936d46d-8583-4004-81c5-ec23d83d8512",
   "metadata": {},
   "source": [
    "**Pillow**\n",
    "\n",
    "Python Imaging Library (Fork).\n",
    "\n",
    "https://pillow.readthedocs.io/"
   ]
  },
  {
   "cell_type": "code",
   "execution_count": 26,
   "id": "b84f6a66-890c-40fc-9ddb-a7b2c47f3307",
   "metadata": {
    "execution": {
     "iopub.execute_input": "2023-09-16T13:20:42.828367Z",
     "iopub.status.busy": "2023-09-16T13:20:42.828050Z",
     "iopub.status.idle": "2023-09-16T13:20:42.834981Z",
     "shell.execute_reply": "2023-09-16T13:20:42.834012Z",
     "shell.execute_reply.started": "2023-09-16T13:20:42.828342Z"
    },
    "tags": []
   },
   "outputs": [
    {
     "data": {
      "text/plain": [
       "'9.0.1'"
      ]
     },
     "execution_count": 26,
     "metadata": {},
     "output_type": "execute_result"
    }
   ],
   "source": [
    "importlib.metadata.version('Pillow')"
   ]
  },
  {
   "cell_type": "markdown",
   "id": "8bf93a6f-3f79-45b5-9ee7-2a0409442782",
   "metadata": {},
   "source": [
    "### Data analysis"
   ]
  },
  {
   "cell_type": "markdown",
   "id": "876fa6c9-30d0-4617-b82c-b0ca9d6a89fa",
   "metadata": {
    "execution": {
     "iopub.execute_input": "2023-09-16T13:00:37.723742Z",
     "iopub.status.busy": "2023-09-16T13:00:37.723472Z",
     "iopub.status.idle": "2023-09-16T13:00:37.730043Z",
     "shell.execute_reply": "2023-09-16T13:00:37.728896Z",
     "shell.execute_reply.started": "2023-09-16T13:00:37.723723Z"
    },
    "tags": []
   },
   "source": [
    "**pandas**\n",
    "\n",
    "pandas is a Python package that provides fast, flexible, and expressive data structures designed to make working with \"relational\" or \"labeled\" data both easy and intuitive. \n",
    "\n",
    "https://pandas.pydata.org/docs/"
   ]
  },
  {
   "cell_type": "code",
   "execution_count": 11,
   "id": "4283d63a-7882-4d8c-bdb4-bb096326f09e",
   "metadata": {
    "execution": {
     "iopub.execute_input": "2023-09-16T13:00:56.969106Z",
     "iopub.status.busy": "2023-09-16T13:00:56.968800Z",
     "iopub.status.idle": "2023-09-16T13:00:56.977648Z",
     "shell.execute_reply": "2023-09-16T13:00:56.976960Z",
     "shell.execute_reply.started": "2023-09-16T13:00:56.969087Z"
    },
    "tags": []
   },
   "outputs": [
    {
     "data": {
      "text/plain": [
       "'1.3.5'"
      ]
     },
     "execution_count": 11,
     "metadata": {},
     "output_type": "execute_result"
    }
   ],
   "source": [
    "importlib.metadata.version('pandas')"
   ]
  },
  {
   "cell_type": "markdown",
   "id": "dd812ebd-9cb2-4c68-a591-4fca792082e0",
   "metadata": {},
   "source": [
    "**Matplotlib**\n",
    "\n",
    "Matplotlib is a comprehensive library for creating static, animated, and interactive visualizations in Python.\n",
    "\n",
    "https://matplotlib.org/"
   ]
  },
  {
   "cell_type": "code",
   "execution_count": 22,
   "id": "d88fef64-de02-47b0-ad3e-6af64baba7f7",
   "metadata": {
    "execution": {
     "iopub.execute_input": "2023-09-16T13:09:08.260547Z",
     "iopub.status.busy": "2023-09-16T13:09:08.260289Z",
     "iopub.status.idle": "2023-09-16T13:09:08.266896Z",
     "shell.execute_reply": "2023-09-16T13:09:08.266153Z",
     "shell.execute_reply.started": "2023-09-16T13:09:08.260517Z"
    },
    "tags": []
   },
   "outputs": [
    {
     "data": {
      "text/plain": [
       "'3.8.0'"
      ]
     },
     "execution_count": 22,
     "metadata": {},
     "output_type": "execute_result"
    }
   ],
   "source": [
    "importlib.metadata.version('matplotlib')"
   ]
  },
  {
   "cell_type": "markdown",
   "id": "741805b6-a45d-4a39-9be9-f7790365ddd7",
   "metadata": {
    "execution": {
     "iopub.execute_input": "2023-09-16T13:10:55.922395Z",
     "iopub.status.busy": "2023-09-16T13:10:55.922150Z",
     "iopub.status.idle": "2023-09-16T13:10:55.928818Z",
     "shell.execute_reply": "2023-09-16T13:10:55.927430Z",
     "shell.execute_reply.started": "2023-09-16T13:10:55.922378Z"
    },
    "tags": []
   },
   "source": [
    "**Bokeh**\n",
    "\n",
    "Bokeh is an interactive visualization library for modern web browsers.\n",
    "\n",
    "https://bokeh.org/"
   ]
  },
  {
   "cell_type": "code",
   "execution_count": 24,
   "id": "59b9ecb1-8f29-4737-a86e-a38e33119612",
   "metadata": {
    "execution": {
     "iopub.execute_input": "2023-09-16T13:11:11.535171Z",
     "iopub.status.busy": "2023-09-16T13:11:11.534798Z",
     "iopub.status.idle": "2023-09-16T13:11:11.542503Z",
     "shell.execute_reply": "2023-09-16T13:11:11.541583Z",
     "shell.execute_reply.started": "2023-09-16T13:11:11.535149Z"
    },
    "tags": []
   },
   "outputs": [
    {
     "data": {
      "text/plain": [
       "'3.2.2'"
      ]
     },
     "execution_count": 24,
     "metadata": {},
     "output_type": "execute_result"
    }
   ],
   "source": [
    "importlib.metadata.version('bokeh')"
   ]
  },
  {
   "cell_type": "markdown",
   "id": "2591fe18-2823-440a-8d67-6abc5c16fee8",
   "metadata": {},
   "source": [
    "**h5py**\n",
    "\n",
    "Read and write HDF5 files from Python.\n",
    "\n",
    "https://www.h5py.org/"
   ]
  },
  {
   "cell_type": "code",
   "execution_count": 25,
   "id": "6d1b152c-a8c4-47cf-af9d-a2d06c956894",
   "metadata": {
    "execution": {
     "iopub.execute_input": "2023-09-16T13:19:22.994954Z",
     "iopub.status.busy": "2023-09-16T13:19:22.994664Z",
     "iopub.status.idle": "2023-09-16T13:19:23.004242Z",
     "shell.execute_reply": "2023-09-16T13:19:23.003079Z",
     "shell.execute_reply.started": "2023-09-16T13:19:22.994927Z"
    },
    "tags": []
   },
   "outputs": [
    {
     "data": {
      "text/plain": [
       "'3.6.0'"
      ]
     },
     "execution_count": 25,
     "metadata": {},
     "output_type": "execute_result"
    }
   ],
   "source": [
    "importlib.metadata.version('h5py')"
   ]
  },
  {
   "cell_type": "markdown",
   "id": "4a2c2f8e-da55-461c-9df1-0dc5850b227f",
   "metadata": {},
   "source": [
    "### Machine learning & Deep learning"
   ]
  },
  {
   "cell_type": "markdown",
   "id": "1569d9d0-c573-4678-8f21-e5189c2fa504",
   "metadata": {},
   "source": [
    "**PyTorch**\n",
    "\n",
    "PyTorch is a Python package that provides two high-level features: Tensor computation (like NumPy) with strong GPU acceleration, Deep neural networks built on a tape-based autograd system.\n",
    "\n",
    "https://pytorch.org/"
   ]
  },
  {
   "cell_type": "code",
   "execution_count": 12,
   "id": "526e6c11-d129-48b3-9e6b-dbbbd63556fa",
   "metadata": {
    "execution": {
     "iopub.execute_input": "2023-09-16T13:01:22.635990Z",
     "iopub.status.busy": "2023-09-16T13:01:22.635682Z",
     "iopub.status.idle": "2023-09-16T13:01:22.643971Z",
     "shell.execute_reply": "2023-09-16T13:01:22.643200Z",
     "shell.execute_reply.started": "2023-09-16T13:01:22.635968Z"
    },
    "tags": []
   },
   "outputs": [
    {
     "data": {
      "text/plain": [
       "'2.0.1'"
      ]
     },
     "execution_count": 12,
     "metadata": {},
     "output_type": "execute_result"
    }
   ],
   "source": [
    "importlib.metadata.version('torch')"
   ]
  },
  {
   "cell_type": "markdown",
   "id": "7944590e-2154-42ab-ac8f-192ba1abf4c1",
   "metadata": {},
   "source": [
    "**torchvision**\n",
    "\n",
    "The torchvision package consists of popular datasets, model architectures, and common image transformations for computer vision.\n",
    "\n",
    "https://github.com/pytorch/vision"
   ]
  },
  {
   "cell_type": "code",
   "execution_count": 13,
   "id": "7abaac97-a229-4ac2-bbe4-d683f2eacf99",
   "metadata": {
    "execution": {
     "iopub.execute_input": "2023-09-16T13:02:22.146180Z",
     "iopub.status.busy": "2023-09-16T13:02:22.145883Z",
     "iopub.status.idle": "2023-09-16T13:02:22.152978Z",
     "shell.execute_reply": "2023-09-16T13:02:22.152193Z",
     "shell.execute_reply.started": "2023-09-16T13:02:22.146160Z"
    },
    "tags": []
   },
   "outputs": [
    {
     "data": {
      "text/plain": [
       "'0.15.2'"
      ]
     },
     "execution_count": 13,
     "metadata": {},
     "output_type": "execute_result"
    }
   ],
   "source": [
    "importlib.metadata.version('torchvision')"
   ]
  },
  {
   "cell_type": "markdown",
   "id": "5924b8fe-5b51-4955-916a-5dd82d4cc98e",
   "metadata": {},
   "source": [
    "**Tensorflow**\n",
    "\n",
    "TensorFlow is an open source software library for high performance numerical computation. Its flexible architecture allows easy deployment of computation across a variety of platforms (CPUs, GPUs, TPUs), and from desktops to clusters of servers to mobile and edge devices.\n",
    "\n",
    "https://www.tensorflow.org/"
   ]
  },
  {
   "cell_type": "code",
   "execution_count": 14,
   "id": "90358d6c-fd84-4bee-88c3-e26b9c08659e",
   "metadata": {
    "execution": {
     "iopub.execute_input": "2023-09-16T13:02:55.050355Z",
     "iopub.status.busy": "2023-09-16T13:02:55.050082Z",
     "iopub.status.idle": "2023-09-16T13:02:55.058624Z",
     "shell.execute_reply": "2023-09-16T13:02:55.057657Z",
     "shell.execute_reply.started": "2023-09-16T13:02:55.050328Z"
    },
    "tags": []
   },
   "outputs": [
    {
     "data": {
      "text/plain": [
       "'2.13.0'"
      ]
     },
     "execution_count": 14,
     "metadata": {},
     "output_type": "execute_result"
    }
   ],
   "source": [
    "importlib.metadata.version('tensorflow')"
   ]
  },
  {
   "cell_type": "markdown",
   "id": "c4677557-afd4-4804-8954-436515091caf",
   "metadata": {},
   "source": [
    "**Keras**\n",
    "\n",
    "Keras is a deep learning API written in Python, running on top of the machine learning platform TensorFlow.\n",
    "\n",
    "https://keras.io/"
   ]
  },
  {
   "cell_type": "code",
   "execution_count": 15,
   "id": "4a8d3466-6ee0-43e1-ba03-f4f2441d9be2",
   "metadata": {
    "execution": {
     "iopub.execute_input": "2023-09-16T13:03:33.865044Z",
     "iopub.status.busy": "2023-09-16T13:03:33.864753Z",
     "iopub.status.idle": "2023-09-16T13:03:33.870082Z",
     "shell.execute_reply": "2023-09-16T13:03:33.869336Z",
     "shell.execute_reply.started": "2023-09-16T13:03:33.865027Z"
    },
    "tags": []
   },
   "outputs": [
    {
     "data": {
      "text/plain": [
       "'2.13.1'"
      ]
     },
     "execution_count": 15,
     "metadata": {},
     "output_type": "execute_result"
    }
   ],
   "source": [
    "importlib.metadata.version('keras')"
   ]
  },
  {
   "cell_type": "markdown",
   "id": "a7577a43-6e21-46c9-8066-c18531cd03ad",
   "metadata": {},
   "source": [
    "**NumPy**\n",
    "\n",
    "NumPy is the fundamental package for scientific computing with Python.\n",
    "\n",
    "https://numpy.org/doc/1.25"
   ]
  },
  {
   "cell_type": "code",
   "execution_count": 16,
   "id": "5cc6d0e1-646c-4502-862a-713c0d84065d",
   "metadata": {
    "execution": {
     "iopub.execute_input": "2023-09-16T13:04:02.198601Z",
     "iopub.status.busy": "2023-09-16T13:04:02.197762Z",
     "iopub.status.idle": "2023-09-16T13:04:02.204624Z",
     "shell.execute_reply": "2023-09-16T13:04:02.203704Z",
     "shell.execute_reply.started": "2023-09-16T13:04:02.198578Z"
    },
    "tags": []
   },
   "outputs": [
    {
     "data": {
      "text/plain": [
       "'1.21.5'"
      ]
     },
     "execution_count": 16,
     "metadata": {},
     "output_type": "execute_result"
    }
   ],
   "source": [
    "importlib.metadata.version('numpy')"
   ]
  },
  {
   "cell_type": "markdown",
   "id": "77236653-1bff-4a26-ae8d-17686a38057d",
   "metadata": {},
   "source": [
    "**JAX**\n",
    "\n",
    "JAX is Autograd and XLA, brought together for high-performance machine learning research.\n",
    "\n",
    "https://github.com/google/jax"
   ]
  },
  {
   "cell_type": "code",
   "execution_count": 17,
   "id": "e51c0551-daf3-4409-be4c-dce7304267d7",
   "metadata": {
    "execution": {
     "iopub.execute_input": "2023-09-16T13:04:52.053124Z",
     "iopub.status.busy": "2023-09-16T13:04:52.052896Z",
     "iopub.status.idle": "2023-09-16T13:04:52.060565Z",
     "shell.execute_reply": "2023-09-16T13:04:52.059747Z",
     "shell.execute_reply.started": "2023-09-16T13:04:52.053107Z"
    },
    "tags": []
   },
   "outputs": [
    {
     "data": {
      "text/plain": [
       "'0.4.13'"
      ]
     },
     "execution_count": 17,
     "metadata": {},
     "output_type": "execute_result"
    }
   ],
   "source": [
    "importlib.metadata.version('jax')"
   ]
  },
  {
   "cell_type": "markdown",
   "id": "3f3b3329-d27d-4745-b280-5e273b68a2cf",
   "metadata": {},
   "source": [
    "**scikit-learn**\n",
    "\n",
    "scikit-learn is a Python module for machine learning built on top of SciPy.\n",
    "\n",
    "https://scikit-learn.org/stable/documentation.html"
   ]
  },
  {
   "cell_type": "code",
   "execution_count": 18,
   "id": "87a0e73a-3064-461e-aaaf-2e4c99bee11f",
   "metadata": {
    "execution": {
     "iopub.execute_input": "2023-09-16T13:05:17.959651Z",
     "iopub.status.busy": "2023-09-16T13:05:17.959409Z",
     "iopub.status.idle": "2023-09-16T13:05:17.966827Z",
     "shell.execute_reply": "2023-09-16T13:05:17.965718Z",
     "shell.execute_reply.started": "2023-09-16T13:05:17.959636Z"
    },
    "tags": []
   },
   "outputs": [
    {
     "data": {
      "text/plain": [
       "'0.23.2'"
      ]
     },
     "execution_count": 18,
     "metadata": {},
     "output_type": "execute_result"
    }
   ],
   "source": [
    "importlib.metadata.version('scikit-learn')"
   ]
  },
  {
   "cell_type": "markdown",
   "id": "04846f94-6c97-477c-8206-7b86f8f83f1d",
   "metadata": {},
   "source": [
    "**SciPy**\n",
    "\n",
    "SciPy (pronounced “Sigh Pie”) is an open-source software for mathematics, science, and engineering. It includes modules for statistics, optimization, integration, linear algebra, Fourier transforms, signal and image processing, ODE solvers, and more.\n",
    "\n",
    "https://docs.scipy.org/doc/scipy/"
   ]
  },
  {
   "cell_type": "code",
   "execution_count": 19,
   "id": "81b40b9e-585d-4fba-aee6-22aba37c4740",
   "metadata": {
    "execution": {
     "iopub.execute_input": "2023-09-16T13:06:22.088277Z",
     "iopub.status.busy": "2023-09-16T13:06:22.087471Z",
     "iopub.status.idle": "2023-09-16T13:06:22.098722Z",
     "shell.execute_reply": "2023-09-16T13:06:22.098245Z",
     "shell.execute_reply.started": "2023-09-16T13:06:22.088253Z"
    },
    "tags": []
   },
   "outputs": [
    {
     "data": {
      "text/plain": [
       "'1.8.0'"
      ]
     },
     "execution_count": 19,
     "metadata": {},
     "output_type": "execute_result"
    }
   ],
   "source": [
    "importlib.metadata.version('scipy')"
   ]
  },
  {
   "cell_type": "markdown",
   "id": "189b36a6-b145-48cb-8d84-cb3ffeda6915",
   "metadata": {},
   "source": [
    "**mpmath**\n",
    "\n",
    "A Python library for arbitrary-precision floating-point arithmetic.\n",
    "\n",
    "http://mpmath.org/doc/current/"
   ]
  },
  {
   "cell_type": "code",
   "execution_count": 20,
   "id": "f4672e87-5799-4c27-8702-7f5fac33c4fe",
   "metadata": {
    "execution": {
     "iopub.execute_input": "2023-09-16T13:06:45.306843Z",
     "iopub.status.busy": "2023-09-16T13:06:45.306566Z",
     "iopub.status.idle": "2023-09-16T13:06:45.314412Z",
     "shell.execute_reply": "2023-09-16T13:06:45.313064Z",
     "shell.execute_reply.started": "2023-09-16T13:06:45.306824Z"
    },
    "tags": []
   },
   "outputs": [
    {
     "data": {
      "text/plain": [
       "'0.0.0'"
      ]
     },
     "execution_count": 20,
     "metadata": {},
     "output_type": "execute_result"
    }
   ],
   "source": [
    "importlib.metadata.version('mpmath')"
   ]
  },
  {
   "cell_type": "markdown",
   "id": "abcba802-fd3f-4581-896f-64fb3631e560",
   "metadata": {},
   "source": [
    "**sympy**\n",
    "\n",
    "Python Library for Symbolic Mathematics.\n",
    "\n",
    "https://sympy.org/"
   ]
  },
  {
   "cell_type": "code",
   "execution_count": 21,
   "id": "a0e412a4-43b4-4733-8825-9562e8676e10",
   "metadata": {
    "execution": {
     "iopub.execute_input": "2023-09-16T13:07:07.245185Z",
     "iopub.status.busy": "2023-09-16T13:07:07.243546Z",
     "iopub.status.idle": "2023-09-16T13:07:07.251506Z",
     "shell.execute_reply": "2023-09-16T13:07:07.250832Z",
     "shell.execute_reply.started": "2023-09-16T13:07:07.245158Z"
    },
    "tags": []
   },
   "outputs": [
    {
     "data": {
      "text/plain": [
       "'1.9'"
      ]
     },
     "execution_count": 21,
     "metadata": {},
     "output_type": "execute_result"
    }
   ],
   "source": [
    "importlib.metadata.version('sympy')"
   ]
  },
  {
   "cell_type": "markdown",
   "id": "cf14d928-6c55-477b-b656-422e7403b658",
   "metadata": {},
   "source": [
    "### Requests & Web scraping"
   ]
  },
  {
   "cell_type": "markdown",
   "id": "4c4ba87a-cec7-4c19-a5ee-6c2f16862570",
   "metadata": {},
   "source": [
    "**requests**\n",
    "\n",
    "Requests allows you to send HTTP/1.1 requests extremely easily. \n",
    "\n",
    "https://requests.readthedocs.io/"
   ]
  },
  {
   "cell_type": "code",
   "execution_count": 28,
   "id": "5916b2bc-2bf4-44b4-bedd-f76bd44c995f",
   "metadata": {
    "execution": {
     "iopub.execute_input": "2023-09-16T13:25:29.730551Z",
     "iopub.status.busy": "2023-09-16T13:25:29.730136Z",
     "iopub.status.idle": "2023-09-16T13:25:29.738564Z",
     "shell.execute_reply": "2023-09-16T13:25:29.737482Z",
     "shell.execute_reply.started": "2023-09-16T13:25:29.730525Z"
    },
    "tags": []
   },
   "outputs": [
    {
     "data": {
      "text/plain": [
       "'2.31.0'"
      ]
     },
     "execution_count": 28,
     "metadata": {},
     "output_type": "execute_result"
    }
   ],
   "source": [
    "importlib.metadata.version('requests')"
   ]
  },
  {
   "cell_type": "markdown",
   "id": "0ed4cd6a-20ed-49af-b989-85b50c123b4d",
   "metadata": {},
   "source": [
    "**urllib3**\n",
    "\n",
    "urllib3 is a powerful, user-friendly HTTP client for Python. Much of the Python ecosystem already uses urllib3 and you should too. urllib3 brings many critical features that are missing from the Python standard libraries.\n",
    "\n",
    "https://urllib3.readthedocs.io/"
   ]
  },
  {
   "cell_type": "code",
   "execution_count": 29,
   "id": "fac1ec89-27a3-4359-94c4-fa240555eab3",
   "metadata": {
    "execution": {
     "iopub.execute_input": "2023-09-16T13:25:39.692033Z",
     "iopub.status.busy": "2023-09-16T13:25:39.691731Z",
     "iopub.status.idle": "2023-09-16T13:25:39.702383Z",
     "shell.execute_reply": "2023-09-16T13:25:39.701601Z",
     "shell.execute_reply.started": "2023-09-16T13:25:39.692013Z"
    },
    "tags": []
   },
   "outputs": [
    {
     "data": {
      "text/plain": [
       "'1.26.5'"
      ]
     },
     "execution_count": 29,
     "metadata": {},
     "output_type": "execute_result"
    }
   ],
   "source": [
    "importlib.metadata.version('urllib3')"
   ]
  },
  {
   "cell_type": "markdown",
   "id": "20594c0e-c543-4ee5-95f1-7aaee5c09b90",
   "metadata": {},
   "source": [
    "**Beautiful Soup**\n",
    "\n",
    "Beautiful Soup is a library that makes it easy to scrape information from web pages.\n",
    "\n",
    "https://www.crummy.com/software/BeautifulSoup/"
   ]
  },
  {
   "cell_type": "code",
   "execution_count": 31,
   "id": "c2528659-56ca-4206-9afb-5948beb1e65b",
   "metadata": {
    "execution": {
     "iopub.execute_input": "2023-09-16T13:27:11.301572Z",
     "iopub.status.busy": "2023-09-16T13:27:11.300737Z",
     "iopub.status.idle": "2023-09-16T13:27:11.306080Z",
     "shell.execute_reply": "2023-09-16T13:27:11.305489Z",
     "shell.execute_reply.started": "2023-09-16T13:27:11.301550Z"
    },
    "tags": []
   },
   "outputs": [
    {
     "data": {
      "text/plain": [
       "'4.12.2'"
      ]
     },
     "execution_count": 31,
     "metadata": {},
     "output_type": "execute_result"
    }
   ],
   "source": [
    "importlib.metadata.version('beautifulsoup4')"
   ]
  },
  {
   "cell_type": "markdown",
   "id": "00ebcb49-ab8b-446a-9c19-0afc163f0314",
   "metadata": {},
   "source": [
    "**Soup Sieve**\n",
    "\n",
    "Soup Sieve is a CSS selector library designed to be used with Beautiful Soup 4. It aims to provide selecting, matching, and filtering using modern CSS selectors. \n",
    "\n",
    "https://github.com/facelessuser/soupsieve"
   ]
  },
  {
   "cell_type": "code",
   "execution_count": 32,
   "id": "ac5416b4-5b8e-4db2-bcd9-d8722f403ebb",
   "metadata": {
    "execution": {
     "iopub.execute_input": "2023-09-16T13:27:26.569149Z",
     "iopub.status.busy": "2023-09-16T13:27:26.568801Z",
     "iopub.status.idle": "2023-09-16T13:27:26.576505Z",
     "shell.execute_reply": "2023-09-16T13:27:26.575742Z",
     "shell.execute_reply.started": "2023-09-16T13:27:26.569126Z"
    },
    "tags": []
   },
   "outputs": [
    {
     "data": {
      "text/plain": [
       "'2.5'"
      ]
     },
     "execution_count": 32,
     "metadata": {},
     "output_type": "execute_result"
    }
   ],
   "source": [
    "importlib.metadata.version('soupsieve')"
   ]
  },
  {
   "cell_type": "markdown",
   "id": "ef9120a1-786c-4f10-8d01-10309086117d",
   "metadata": {},
   "source": [
    "**google-auth**\n",
    "\n",
    "This library simplifies using Google’s various server-to-server authentication mechanisms to access Google APIs.\n",
    "\n",
    "https://github.com/googleapis/google-auth-library-python"
   ]
  },
  {
   "cell_type": "code",
   "execution_count": 33,
   "id": "88b629f6-9888-4357-9801-c12a944764b7",
   "metadata": {
    "execution": {
     "iopub.execute_input": "2023-09-16T13:27:45.667671Z",
     "iopub.status.busy": "2023-09-16T13:27:45.667408Z",
     "iopub.status.idle": "2023-09-16T13:27:45.673772Z",
     "shell.execute_reply": "2023-09-16T13:27:45.673077Z",
     "shell.execute_reply.started": "2023-09-16T13:27:45.667649Z"
    },
    "tags": []
   },
   "outputs": [
    {
     "data": {
      "text/plain": [
       "'1.5.1'"
      ]
     },
     "execution_count": 33,
     "metadata": {},
     "output_type": "execute_result"
    }
   ],
   "source": [
    "importlib.metadata.version('google-auth')"
   ]
  },
  {
   "cell_type": "markdown",
   "id": "5703cffc-c8c6-45e1-b8e9-23bfdef9419d",
   "metadata": {},
   "source": [
    "### Text parsing & cleaning"
   ]
  },
  {
   "cell_type": "markdown",
   "id": "ba5616c8-bc7a-4d4c-a1f2-bc3381e68ad6",
   "metadata": {},
   "source": [
    "**charset-normalizer**\n",
    "\n",
    "The first Universal Charset Detector.\n",
    "\n",
    "https://github.com/Ousret/charset_normalizer"
   ]
  },
  {
   "cell_type": "code",
   "execution_count": 36,
   "id": "c009162d-80f9-4316-a33d-032ad0a27b2d",
   "metadata": {
    "execution": {
     "iopub.execute_input": "2023-09-16T15:04:31.197432Z",
     "iopub.status.busy": "2023-09-16T15:04:31.197176Z",
     "iopub.status.idle": "2023-09-16T15:04:31.205527Z",
     "shell.execute_reply": "2023-09-16T15:04:31.204888Z",
     "shell.execute_reply.started": "2023-09-16T15:04:31.197401Z"
    },
    "tags": []
   },
   "outputs": [
    {
     "data": {
      "text/plain": [
       "'3.2.0'"
      ]
     },
     "execution_count": 36,
     "metadata": {},
     "output_type": "execute_result"
    }
   ],
   "source": [
    "importlib.metadata.version('charset-normalizer')"
   ]
  },
  {
   "cell_type": "markdown",
   "id": "11372054-eebf-420b-a125-bad0eb4e27e9",
   "metadata": {},
   "source": [
    "**html5lib**\n",
    "\n",
    "html5lib is a pure-python library for parsing HTML. It is designed to conform to the WHATWG HTML specification, as is implemented by all major web browsers.\n",
    "\n",
    "https://github.com/html5lib/html5lib-python"
   ]
  },
  {
   "cell_type": "code",
   "execution_count": 37,
   "id": "869fa084-896a-4df7-9080-33e9382f70be",
   "metadata": {
    "execution": {
     "iopub.execute_input": "2023-09-16T15:04:41.815139Z",
     "iopub.status.busy": "2023-09-16T15:04:41.814867Z",
     "iopub.status.idle": "2023-09-16T15:04:41.823588Z",
     "shell.execute_reply": "2023-09-16T15:04:41.822565Z",
     "shell.execute_reply.started": "2023-09-16T15:04:41.815120Z"
    },
    "tags": []
   },
   "outputs": [
    {
     "data": {
      "text/plain": [
       "'1.1'"
      ]
     },
     "execution_count": 37,
     "metadata": {},
     "output_type": "execute_result"
    }
   ],
   "source": [
    "importlib.metadata.version('html5lib')"
   ]
  },
  {
   "cell_type": "markdown",
   "id": "a9cd35fc-1e24-4466-8462-40727805286e",
   "metadata": {},
   "source": [
    "**bleach**\n",
    "\n",
    "Bleach is an allowed-list-based HTML sanitizing library that escapes or strips markup and attributes.\n",
    "\n",
    "https://github.com/mozilla/bleach"
   ]
  },
  {
   "cell_type": "code",
   "execution_count": 38,
   "id": "a3058d3d-35b5-47f3-be12-22c258b50547",
   "metadata": {
    "execution": {
     "iopub.execute_input": "2023-09-16T15:04:50.055544Z",
     "iopub.status.busy": "2023-09-16T15:04:50.055250Z",
     "iopub.status.idle": "2023-09-16T15:04:50.063128Z",
     "shell.execute_reply": "2023-09-16T15:04:50.062006Z",
     "shell.execute_reply.started": "2023-09-16T15:04:50.055517Z"
    },
    "tags": []
   },
   "outputs": [
    {
     "data": {
      "text/plain": [
       "'4.1.0'"
      ]
     },
     "execution_count": 38,
     "metadata": {},
     "output_type": "execute_result"
    }
   ],
   "source": [
    "importlib.metadata.version('bleach')"
   ]
  },
  {
   "cell_type": "markdown",
   "id": "e7c34853-16bf-4de6-ae02-24943fb77532",
   "metadata": {},
   "source": [
    "**Markdown**\n",
    "\n",
    "This is a Python implementation of John Gruber's Markdown. It is almost completely compliant with the reference implementation.\n",
    "\n",
    "https://python-markdown.github.io/"
   ]
  },
  {
   "cell_type": "code",
   "execution_count": 39,
   "id": "a36258ce-2e51-46d0-b3e2-5268a4f8fc49",
   "metadata": {
    "execution": {
     "iopub.execute_input": "2023-09-16T15:04:58.151188Z",
     "iopub.status.busy": "2023-09-16T15:04:58.150927Z",
     "iopub.status.idle": "2023-09-16T15:04:58.157807Z",
     "shell.execute_reply": "2023-09-16T15:04:58.156956Z",
     "shell.execute_reply.started": "2023-09-16T15:04:58.151172Z"
    },
    "tags": []
   },
   "outputs": [
    {
     "data": {
      "text/plain": [
       "'3.3.6'"
      ]
     },
     "execution_count": 39,
     "metadata": {},
     "output_type": "execute_result"
    }
   ],
   "source": [
    "importlib.metadata.version('Markdown')"
   ]
  },
  {
   "cell_type": "markdown",
   "id": "2ff8d32c-78d9-4bf9-b32d-677fd32fd9d1",
   "metadata": {},
   "source": [
    "**mistune**\n",
    "\n",
    "A fast yet powerful Python Markdown parser with renderers and plugins.\n",
    "\n",
    "https://mistune.lepture.com/"
   ]
  },
  {
   "cell_type": "code",
   "execution_count": 40,
   "id": "b1b939c0-91fb-4d85-ac22-ed6c1c56b81d",
   "metadata": {
    "execution": {
     "iopub.execute_input": "2023-09-16T15:05:05.544699Z",
     "iopub.status.busy": "2023-09-16T15:05:05.544292Z",
     "iopub.status.idle": "2023-09-16T15:05:05.553373Z",
     "shell.execute_reply": "2023-09-16T15:05:05.552576Z",
     "shell.execute_reply.started": "2023-09-16T15:05:05.544660Z"
    },
    "tags": []
   },
   "outputs": [
    {
     "data": {
      "text/plain": [
       "'3.0.1'"
      ]
     },
     "execution_count": 40,
     "metadata": {},
     "output_type": "execute_result"
    }
   ],
   "source": [
    "importlib.metadata.version('mistune')"
   ]
  },
  {
   "cell_type": "markdown",
   "id": "99181ee2-68e5-4b0b-adba-5a44750a99cd",
   "metadata": {},
   "source": [
    "**PyYAML**\n",
    "\n",
    "PyYAML is a YAML parser and emitter for Python.\n",
    "\n",
    "https://pyyaml.org/wiki/PyYAMLDocumentation"
   ]
  },
  {
   "cell_type": "code",
   "execution_count": 41,
   "id": "4854ac5a-5867-4274-a025-332902a38163",
   "metadata": {
    "execution": {
     "iopub.execute_input": "2023-09-16T15:05:19.611788Z",
     "iopub.status.busy": "2023-09-16T15:05:19.611479Z",
     "iopub.status.idle": "2023-09-16T15:05:19.619391Z",
     "shell.execute_reply": "2023-09-16T15:05:19.618636Z",
     "shell.execute_reply.started": "2023-09-16T15:05:19.611760Z"
    },
    "tags": []
   },
   "outputs": [
    {
     "data": {
      "text/plain": [
       "'6.0.1'"
      ]
     },
     "execution_count": 41,
     "metadata": {},
     "output_type": "execute_result"
    }
   ],
   "source": [
    "importlib.metadata.version('PyYAML')"
   ]
  },
  {
   "cell_type": "markdown",
   "id": "cc8d1477-3a21-4bd0-96b6-f374d10c7d57",
   "metadata": {},
   "source": [
    "### Jupyterlab & extensions"
   ]
  },
  {
   "cell_type": "markdown",
   "id": "a623ae1d-8a1b-4c2d-8777-35d9e6bfa379",
   "metadata": {},
   "source": [
    "**jupyterlab**\n",
    "\n",
    "An extensible environment for interactive and reproducible computing, based on the Jupyter Notebook and Architecture.\n",
    "\n",
    "https://jupyterlab.readthedocs.io/"
   ]
  },
  {
   "cell_type": "code",
   "execution_count": 42,
   "id": "25c9b75e-4e55-4ab6-a0f6-5dd8e7d43d52",
   "metadata": {
    "execution": {
     "iopub.execute_input": "2023-09-16T15:09:00.670585Z",
     "iopub.status.busy": "2023-09-16T15:09:00.670299Z",
     "iopub.status.idle": "2023-09-16T15:09:00.677889Z",
     "shell.execute_reply": "2023-09-16T15:09:00.676934Z",
     "shell.execute_reply.started": "2023-09-16T15:09:00.670564Z"
    },
    "tags": []
   },
   "outputs": [
    {
     "data": {
      "text/plain": [
       "'3.6.5'"
      ]
     },
     "execution_count": 42,
     "metadata": {},
     "output_type": "execute_result"
    }
   ],
   "source": [
    "importlib.metadata.version('jupyterlab')"
   ]
  },
  {
   "cell_type": "markdown",
   "id": "130bf1c7-6eab-42dc-92de-44d7a8c36dc7",
   "metadata": {},
   "source": [
    "**jupyterlab_server**\n",
    "\n",
    "JupyterLab Server sits between JupyterLab and Jupyter Server, and provides a set of REST API handlers and utilities that are used by JupyterLab. \n",
    "\n",
    "https://jupyterlab-server.readthedocs.io/"
   ]
  },
  {
   "cell_type": "code",
   "execution_count": 43,
   "id": "57a52ebb-ac8a-44b7-98b6-80f6706706a1",
   "metadata": {
    "execution": {
     "iopub.execute_input": "2023-09-16T15:09:13.190861Z",
     "iopub.status.busy": "2023-09-16T15:09:13.190561Z",
     "iopub.status.idle": "2023-09-16T15:09:13.197668Z",
     "shell.execute_reply": "2023-09-16T15:09:13.196896Z",
     "shell.execute_reply.started": "2023-09-16T15:09:13.190842Z"
    },
    "tags": []
   },
   "outputs": [
    {
     "data": {
      "text/plain": [
       "'2.25.0'"
      ]
     },
     "execution_count": 43,
     "metadata": {},
     "output_type": "execute_result"
    }
   ],
   "source": [
    "importlib.metadata.version('jupyterlab_server')"
   ]
  },
  {
   "cell_type": "markdown",
   "id": "73fd655d-715d-46db-b251-66fde13e772d",
   "metadata": {},
   "source": [
    "**jupyter_server**\n",
    "\n",
    "The Jupyter Server provides the backend (i.e. the core services, APIs, and REST endpoints) for Jupyter web applications like Jupyter notebook, JupyterLab, and Voila.\n",
    "\n",
    "https://jupyter-server.readthedocs.io/"
   ]
  },
  {
   "cell_type": "code",
   "execution_count": 44,
   "id": "ae2ff842-eb23-405d-b7e1-d73b911bb25f",
   "metadata": {
    "execution": {
     "iopub.execute_input": "2023-09-16T15:09:22.031075Z",
     "iopub.status.busy": "2023-09-16T15:09:22.030806Z",
     "iopub.status.idle": "2023-09-16T15:09:22.037273Z",
     "shell.execute_reply": "2023-09-16T15:09:22.036673Z",
     "shell.execute_reply.started": "2023-09-16T15:09:22.031056Z"
    },
    "tags": []
   },
   "outputs": [
    {
     "data": {
      "text/plain": [
       "'2.7.3'"
      ]
     },
     "execution_count": 44,
     "metadata": {},
     "output_type": "execute_result"
    }
   ],
   "source": [
    "importlib.metadata.version('jupyter_server')"
   ]
  },
  {
   "cell_type": "markdown",
   "id": "ee56dfb1-e65c-47b2-befb-0278beee554f",
   "metadata": {},
   "source": [
    "**ipywidgets**\n",
    "\n",
    "ipywidgets, also known as jupyter-widgets or simply widgets, are interactive HTML widgets for Jupyter notebooks and the IPython kernel.\n",
    "\n",
    "http://jupyter.org/"
   ]
  },
  {
   "cell_type": "code",
   "execution_count": 45,
   "id": "cf07f05c-35a0-433e-adf2-b1ae423dfd38",
   "metadata": {
    "execution": {
     "iopub.execute_input": "2023-09-16T15:09:31.750843Z",
     "iopub.status.busy": "2023-09-16T15:09:31.749903Z",
     "iopub.status.idle": "2023-09-16T15:09:31.756269Z",
     "shell.execute_reply": "2023-09-16T15:09:31.755414Z",
     "shell.execute_reply.started": "2023-09-16T15:09:31.750822Z"
    },
    "tags": []
   },
   "outputs": [
    {
     "data": {
      "text/plain": [
       "'8.1.1'"
      ]
     },
     "execution_count": 45,
     "metadata": {},
     "output_type": "execute_result"
    }
   ],
   "source": [
    "importlib.metadata.version('ipywidgets')"
   ]
  },
  {
   "cell_type": "markdown",
   "id": "f200043d-0206-4c00-b42c-51dbbd2fbc8a",
   "metadata": {},
   "source": [
    "**jupyterlab-execute-time**\n",
    "\n",
    "Display cell timings in Jupyter Lab.\n",
    "\n",
    "https://github.com/deshaw/jupyterlab-execute-time"
   ]
  },
  {
   "cell_type": "code",
   "execution_count": 46,
   "id": "fb6f592b-71f2-473f-be7a-a9cb438ab276",
   "metadata": {
    "execution": {
     "iopub.execute_input": "2023-09-16T15:09:50.342153Z",
     "iopub.status.busy": "2023-09-16T15:09:50.341866Z",
     "iopub.status.idle": "2023-09-16T15:09:50.348116Z",
     "shell.execute_reply": "2023-09-16T15:09:50.347583Z",
     "shell.execute_reply.started": "2023-09-16T15:09:50.342136Z"
    },
    "tags": []
   },
   "outputs": [
    {
     "data": {
      "text/plain": [
       "'2.3.1'"
      ]
     },
     "execution_count": 46,
     "metadata": {},
     "output_type": "execute_result"
    }
   ],
   "source": [
    "importlib.metadata.version('jupyterlab-execute-time')"
   ]
  },
  {
   "cell_type": "markdown",
   "id": "32aca234-4ee2-4319-8bc1-17bf2ded5181",
   "metadata": {},
   "source": [
    "**jupyterlab_git**\n",
    "\n",
    "A JupyterLab extension for version control using Git.\n",
    "\n",
    "https://github.com/jupyterlab/jupyterlab-git"
   ]
  },
  {
   "cell_type": "code",
   "execution_count": 47,
   "id": "79c5ecd1-4806-435c-95b0-b7d3a4f7df91",
   "metadata": {
    "execution": {
     "iopub.execute_input": "2023-09-16T15:10:02.679111Z",
     "iopub.status.busy": "2023-09-16T15:10:02.678896Z",
     "iopub.status.idle": "2023-09-16T15:10:02.686870Z",
     "shell.execute_reply": "2023-09-16T15:10:02.685732Z",
     "shell.execute_reply.started": "2023-09-16T15:10:02.679096Z"
    },
    "tags": []
   },
   "outputs": [
    {
     "data": {
      "text/plain": [
       "'0.42.0'"
      ]
     },
     "execution_count": 47,
     "metadata": {},
     "output_type": "execute_result"
    }
   ],
   "source": [
    "importlib.metadata.version('jupyterlab-git')"
   ]
  },
  {
   "cell_type": "markdown",
   "id": "783613d1-e788-4d04-b9e2-93c92796d76e",
   "metadata": {},
   "source": [
    "**jupyterlab-nvdashboard**\n",
    "\n",
    "A JupyterLab extension for displaying GPU usage dashboards.\n",
    "\n",
    "https://github.com/rapidsai/jupyterlab-nvdashboard"
   ]
  },
  {
   "cell_type": "code",
   "execution_count": 48,
   "id": "c02eefac-a6cf-45c2-9d63-18b635669796",
   "metadata": {
    "execution": {
     "iopub.execute_input": "2023-09-16T15:10:24.091072Z",
     "iopub.status.busy": "2023-09-16T15:10:24.090023Z",
     "iopub.status.idle": "2023-09-16T15:10:24.097571Z",
     "shell.execute_reply": "2023-09-16T15:10:24.096794Z",
     "shell.execute_reply.started": "2023-09-16T15:10:24.091041Z"
    },
    "tags": []
   },
   "outputs": [
    {
     "data": {
      "text/plain": [
       "'0.9.0'"
      ]
     },
     "execution_count": 48,
     "metadata": {},
     "output_type": "execute_result"
    }
   ],
   "source": [
    "importlib.metadata.version('jupyterlab-nvdashboard')"
   ]
  },
  {
   "cell_type": "markdown",
   "id": "6faac811-bdad-4ce1-9e02-391cbae5e25e",
   "metadata": {},
   "source": [
    "**jupyterlab-tensorboard-pro**\n",
    "\n",
    "A JupyterLab extension for tensorboard.\n",
    "\n",
    "https://github.com/HFAiLab/jupyterlab_tensorboard_pro"
   ]
  },
  {
   "cell_type": "code",
   "execution_count": 49,
   "id": "9c5a7dd3-4fae-4bb7-8d7b-72252eeda522",
   "metadata": {
    "execution": {
     "iopub.execute_input": "2023-09-16T15:10:38.550911Z",
     "iopub.status.busy": "2023-09-16T15:10:38.550639Z",
     "iopub.status.idle": "2023-09-16T15:10:38.557373Z",
     "shell.execute_reply": "2023-09-16T15:10:38.556498Z",
     "shell.execute_reply.started": "2023-09-16T15:10:38.550884Z"
    },
    "tags": []
   },
   "outputs": [
    {
     "data": {
      "text/plain": [
       "'0.8.0'"
      ]
     },
     "execution_count": 49,
     "metadata": {},
     "output_type": "execute_result"
    }
   ],
   "source": [
    "importlib.metadata.version('jupyterlab-tensorboard-pro')"
   ]
  },
  {
   "cell_type": "markdown",
   "id": "b8b288cf-0eca-4237-aaab-f995a8f9037e",
   "metadata": {},
   "source": [
    "**jupyterlab-widgets**\n",
    "\n",
    "A JupyterLab 3.0 extension for Jupyter/IPython widgets.\n",
    "\n",
    "https://github.com/jupyter-widgets/ipywidgets"
   ]
  },
  {
   "cell_type": "code",
   "execution_count": 50,
   "id": "fa67d2e1-4c02-4c5c-a99b-b0f7cac6777f",
   "metadata": {
    "execution": {
     "iopub.execute_input": "2023-09-16T15:10:58.045004Z",
     "iopub.status.busy": "2023-09-16T15:10:58.044694Z",
     "iopub.status.idle": "2023-09-16T15:10:58.055635Z",
     "shell.execute_reply": "2023-09-16T15:10:58.054872Z",
     "shell.execute_reply.started": "2023-09-16T15:10:58.044978Z"
    },
    "tags": []
   },
   "outputs": [
    {
     "data": {
      "text/plain": [
       "'3.0.9'"
      ]
     },
     "execution_count": 50,
     "metadata": {},
     "output_type": "execute_result"
    }
   ],
   "source": [
    "importlib.metadata.version('jupyterlab-widgets')"
   ]
  },
  {
   "cell_type": "markdown",
   "id": "354e02ab-5680-4494-9ee6-70121d1eeb46",
   "metadata": {},
   "source": [
    "**ipympl**\n",
    "\n",
    "Matplotlib Jupyter Extension.\n",
    "\n",
    "http://matplotlib.org/"
   ]
  },
  {
   "cell_type": "code",
   "execution_count": 51,
   "id": "53587c8d-7ab2-4f20-aedb-4c2747f07499",
   "metadata": {
    "execution": {
     "iopub.execute_input": "2023-09-16T15:11:17.597385Z",
     "iopub.status.busy": "2023-09-16T15:11:17.597081Z",
     "iopub.status.idle": "2023-09-16T15:11:17.605425Z",
     "shell.execute_reply": "2023-09-16T15:11:17.604570Z",
     "shell.execute_reply.started": "2023-09-16T15:11:17.597363Z"
    },
    "tags": []
   },
   "outputs": [
    {
     "data": {
      "text/plain": [
       "'0.9.3'"
      ]
     },
     "execution_count": 51,
     "metadata": {},
     "output_type": "execute_result"
    }
   ],
   "source": [
    "importlib.metadata.version('ipympl')"
   ]
  },
  {
   "cell_type": "markdown",
   "id": "864c1a17-d239-47b9-adcf-80e792de0574",
   "metadata": {},
   "source": [
    "### Performance monitoring"
   ]
  },
  {
   "cell_type": "markdown",
   "id": "11cf3f95-ce33-4224-8207-d5b0b9ce86c5",
   "metadata": {},
   "source": [
    "**psutil**\n",
    "\n",
    "Cross-platform lib for process and system monitoring in Python.\n",
    "\n",
    "https://github.com/giampaolo/psutil"
   ]
  },
  {
   "cell_type": "code",
   "execution_count": 53,
   "id": "71251021-3258-474d-8ed0-74da81ab06d0",
   "metadata": {
    "execution": {
     "iopub.execute_input": "2023-09-16T15:16:40.227814Z",
     "iopub.status.busy": "2023-09-16T15:16:40.227481Z",
     "iopub.status.idle": "2023-09-16T15:16:40.234622Z",
     "shell.execute_reply": "2023-09-16T15:16:40.233809Z",
     "shell.execute_reply.started": "2023-09-16T15:16:40.227784Z"
    },
    "tags": []
   },
   "outputs": [
    {
     "data": {
      "text/plain": [
       "'5.9.5'"
      ]
     },
     "execution_count": 53,
     "metadata": {},
     "output_type": "execute_result"
    }
   ],
   "source": [
    "importlib.metadata.version('psutil')"
   ]
  },
  {
   "cell_type": "markdown",
   "id": "1b58d398-ac41-4443-9ed2-6af5c63f5195",
   "metadata": {},
   "source": [
    "**pynvml**\n",
    "\n",
    "Provides a Python interface to GPU management and monitoring functions. This is a wrapper around the NVML library.\n",
    "\n",
    "http://developer.nvidia.com/nvidia-management-library-nvml"
   ]
  },
  {
   "cell_type": "code",
   "execution_count": 54,
   "id": "0eeef6bc-dd1b-4d13-af68-ba33857f93d4",
   "metadata": {
    "execution": {
     "iopub.execute_input": "2023-09-16T15:16:50.723650Z",
     "iopub.status.busy": "2023-09-16T15:16:50.723362Z",
     "iopub.status.idle": "2023-09-16T15:16:50.731678Z",
     "shell.execute_reply": "2023-09-16T15:16:50.731039Z",
     "shell.execute_reply.started": "2023-09-16T15:16:50.723633Z"
    },
    "tags": []
   },
   "outputs": [
    {
     "data": {
      "text/plain": [
       "'11.5.0'"
      ]
     },
     "execution_count": 54,
     "metadata": {},
     "output_type": "execute_result"
    }
   ],
   "source": [
    "importlib.metadata.version('pynvml')"
   ]
  },
  {
   "cell_type": "markdown",
   "id": "790740e8-fb25-41c6-96a9-02349144129b",
   "metadata": {},
   "source": [
    "**prometheus-client**\n",
    "\n",
    "Python client for the Prometheus monitoring system.\n",
    "\n",
    "https://github.com/prometheus/client_python"
   ]
  },
  {
   "cell_type": "code",
   "execution_count": 55,
   "id": "0b5f4c5f-3c6b-4907-a5a4-a7911a102774",
   "metadata": {
    "execution": {
     "iopub.execute_input": "2023-09-16T15:17:03.002435Z",
     "iopub.status.busy": "2023-09-16T15:17:03.002206Z",
     "iopub.status.idle": "2023-09-16T15:17:03.009305Z",
     "shell.execute_reply": "2023-09-16T15:17:03.008550Z",
     "shell.execute_reply.started": "2023-09-16T15:17:03.002417Z"
    },
    "tags": []
   },
   "outputs": [
    {
     "data": {
      "text/plain": [
       "'0.17.1'"
      ]
     },
     "execution_count": 55,
     "metadata": {},
     "output_type": "execute_result"
    }
   ],
   "source": [
    "importlib.metadata.version('prometheus-client')"
   ]
  },
  {
   "cell_type": "markdown",
   "id": "f37d727f-2acf-4238-a318-8995d4fe86e9",
   "metadata": {},
   "source": [
    "### Files & notebooks versioning"
   ]
  },
  {
   "cell_type": "markdown",
   "id": "e1525b6c-ce08-4347-a661-d852ccca0c76",
   "metadata": {},
   "source": [
    "**GitPython**\n",
    "\n",
    "GitPython is a python library used to interact with git repositories.\n",
    "\n",
    "https://github.com/gitpython-developers/GitPython"
   ]
  },
  {
   "cell_type": "code",
   "execution_count": 56,
   "id": "218dd497-a3f4-4d78-ad96-40edc2af1878",
   "metadata": {
    "execution": {
     "iopub.execute_input": "2023-09-16T15:17:13.593457Z",
     "iopub.status.busy": "2023-09-16T15:17:13.593234Z",
     "iopub.status.idle": "2023-09-16T15:17:13.600718Z",
     "shell.execute_reply": "2023-09-16T15:17:13.599801Z",
     "shell.execute_reply.started": "2023-09-16T15:17:13.593440Z"
    },
    "tags": []
   },
   "outputs": [
    {
     "data": {
      "text/plain": [
       "'3.1.36'"
      ]
     },
     "execution_count": 56,
     "metadata": {},
     "output_type": "execute_result"
    }
   ],
   "source": [
    "importlib.metadata.version('GitPython')"
   ]
  },
  {
   "cell_type": "markdown",
   "id": "4387b042-6fec-4bcd-882d-825f2435d489",
   "metadata": {},
   "source": [
    "**nbdime**\n",
    "\n",
    "Diff and merge of Jupyter Notebooks.\n",
    "\n",
    "https://nbdime.readthedocs.io/"
   ]
  },
  {
   "cell_type": "code",
   "execution_count": 57,
   "id": "d69afe7c-17ef-4c22-9b7f-6f7a236fc1b1",
   "metadata": {
    "execution": {
     "iopub.execute_input": "2023-09-16T15:17:22.926406Z",
     "iopub.status.busy": "2023-09-16T15:17:22.926054Z",
     "iopub.status.idle": "2023-09-16T15:17:22.933885Z",
     "shell.execute_reply": "2023-09-16T15:17:22.932621Z",
     "shell.execute_reply.started": "2023-09-16T15:17:22.926376Z"
    },
    "tags": []
   },
   "outputs": [
    {
     "data": {
      "text/plain": [
       "'3.2.1'"
      ]
     },
     "execution_count": 57,
     "metadata": {},
     "output_type": "execute_result"
    }
   ],
   "source": [
    "importlib.metadata.version('nbdime')"
   ]
  },
  {
   "cell_type": "markdown",
   "id": "8bba67b4-dc94-4efa-ab8f-5c44153dd473",
   "metadata": {},
   "source": [
    "## Linux Packages"
   ]
  },
  {
   "cell_type": "markdown",
   "id": "612beba8-edf6-4600-a8a5-918c83c47ac0",
   "metadata": {},
   "source": [
    "### Operating system & drivers"
   ]
  },
  {
   "cell_type": "markdown",
   "id": "17b54d24-4421-4c1d-b4de-938a86be3fa3",
   "metadata": {},
   "source": [
    "**Ubuntu**"
   ]
  },
  {
   "cell_type": "code",
   "execution_count": 61,
   "id": "b4c1f09c-c6d1-4b8e-927b-35dd0f4cc3e2",
   "metadata": {
    "execution": {
     "iopub.execute_input": "2023-09-16T15:19:44.555666Z",
     "iopub.status.busy": "2023-09-16T15:19:44.555356Z",
     "iopub.status.idle": "2023-09-16T15:19:44.683134Z",
     "shell.execute_reply": "2023-09-16T15:19:44.682145Z",
     "shell.execute_reply.started": "2023-09-16T15:19:44.555626Z"
    },
    "tags": []
   },
   "outputs": [
    {
     "name": "stdout",
     "output_type": "stream",
     "text": [
      "DISTRIB_ID=Ubuntu\n",
      "DISTRIB_RELEASE=22.04\n",
      "DISTRIB_CODENAME=jammy\n",
      "DISTRIB_DESCRIPTION=\"Ubuntu 22.04.3 LTS\"\n"
     ]
    }
   ],
   "source": [
    "!cat /etc/lsb-release"
   ]
  },
  {
   "cell_type": "markdown",
   "id": "f0b3cdc2-a674-448b-8064-22a5d5e1164d",
   "metadata": {},
   "source": [
    "**lambda-server**"
   ]
  },
  {
   "cell_type": "code",
   "execution_count": 62,
   "id": "713cb623-fc43-4b65-a3b5-8da17d69bbc0",
   "metadata": {
    "execution": {
     "iopub.execute_input": "2023-09-16T15:23:28.767334Z",
     "iopub.status.busy": "2023-09-16T15:23:28.767036Z",
     "iopub.status.idle": "2023-09-16T15:23:28.914745Z",
     "shell.execute_reply": "2023-09-16T15:23:28.913944Z",
     "shell.execute_reply.started": "2023-09-16T15:23:28.767312Z"
    },
    "tags": []
   },
   "outputs": [
    {
     "name": "stdout",
     "output_type": "stream",
     "text": [
      "Version: 22.04.2\n"
     ]
    }
   ],
   "source": [
    "!dpkg -s lambda-server | grep Version"
   ]
  },
  {
   "cell_type": "markdown",
   "id": "4fe2b822-d978-4865-b5b9-9ef8202fbfa3",
   "metadata": {},
   "source": [
    "**lambda-stack-cuda**"
   ]
  },
  {
   "cell_type": "code",
   "execution_count": 64,
   "id": "a3bee469-e918-4044-acca-6fa4b8a26528",
   "metadata": {
    "execution": {
     "iopub.execute_input": "2023-09-16T15:23:57.705097Z",
     "iopub.status.busy": "2023-09-16T15:23:57.704798Z",
     "iopub.status.idle": "2023-09-16T15:23:57.824123Z",
     "shell.execute_reply": "2023-09-16T15:23:57.823249Z",
     "shell.execute_reply.started": "2023-09-16T15:23:57.705074Z"
    },
    "tags": []
   },
   "outputs": [
    {
     "name": "stdout",
     "output_type": "stream",
     "text": [
      "Version: 0.1.14~22.04.1\n"
     ]
    }
   ],
   "source": [
    "!dpkg -s lambda-stack-cuda | grep Version"
   ]
  },
  {
   "cell_type": "markdown",
   "id": "9376410f-475a-4d1e-9738-c0cbb28b7056",
   "metadata": {},
   "source": [
    "**nvidia-cuda-toolkit**"
   ]
  },
  {
   "cell_type": "code",
   "execution_count": 63,
   "id": "f84554de-2aed-42da-81b3-ebfdfddff9bd",
   "metadata": {
    "execution": {
     "iopub.execute_input": "2023-09-16T15:23:43.727916Z",
     "iopub.status.busy": "2023-09-16T15:23:43.727576Z",
     "iopub.status.idle": "2023-09-16T15:23:43.844668Z",
     "shell.execute_reply": "2023-09-16T15:23:43.843386Z",
     "shell.execute_reply.started": "2023-09-16T15:23:43.727891Z"
    },
    "tags": []
   },
   "outputs": [
    {
     "name": "stdout",
     "output_type": "stream",
     "text": [
      "Version: 12.2.128~12.2.1-0lambda0.22.04.1\n"
     ]
    }
   ],
   "source": [
    "!dpkg -s nvidia-cuda-toolkit | grep Version"
   ]
  },
  {
   "cell_type": "markdown",
   "id": "332ffc88-7e4a-4eb2-8b85-b654b93c722a",
   "metadata": {},
   "source": [
    "### Programming languages"
   ]
  },
  {
   "cell_type": "markdown",
   "id": "aef6f5ce-4454-4dba-ac3e-07cf099c2eb7",
   "metadata": {},
   "source": [
    "**python3**"
   ]
  },
  {
   "cell_type": "code",
   "execution_count": 65,
   "id": "bdf4147c-38b2-43ca-add9-42a5b384f502",
   "metadata": {
    "execution": {
     "iopub.execute_input": "2023-09-16T15:25:45.621592Z",
     "iopub.status.busy": "2023-09-16T15:25:45.621265Z",
     "iopub.status.idle": "2023-09-16T15:25:45.738478Z",
     "shell.execute_reply": "2023-09-16T15:25:45.737412Z",
     "shell.execute_reply.started": "2023-09-16T15:25:45.621571Z"
    },
    "tags": []
   },
   "outputs": [
    {
     "name": "stdout",
     "output_type": "stream",
     "text": [
      "Version: 3.10.6-1~22.04\n"
     ]
    }
   ],
   "source": [
    "!dpkg -s python3 | grep Version"
   ]
  },
  {
   "cell_type": "markdown",
   "id": "04f4f7a8-0c20-4e38-a093-a4d734b6dee7",
   "metadata": {},
   "source": [
    "**nodejs**"
   ]
  },
  {
   "cell_type": "code",
   "execution_count": 66,
   "id": "c52c30b3-a6f3-4b17-8d0b-bfb3647cd9bc",
   "metadata": {
    "execution": {
     "iopub.execute_input": "2023-09-16T15:25:52.791762Z",
     "iopub.status.busy": "2023-09-16T15:25:52.791513Z",
     "iopub.status.idle": "2023-09-16T15:25:52.908499Z",
     "shell.execute_reply": "2023-09-16T15:25:52.907497Z",
     "shell.execute_reply.started": "2023-09-16T15:25:52.791744Z"
    },
    "tags": []
   },
   "outputs": [
    {
     "name": "stdout",
     "output_type": "stream",
     "text": [
      "Version: 18.17.1-1nodesource1\n"
     ]
    }
   ],
   "source": [
    "!dpkg -s nodejs | grep Version"
   ]
  },
  {
   "cell_type": "markdown",
   "id": "eb475a05-24b0-4593-8bc2-fb9870f6ff3b",
   "metadata": {},
   "source": [
    "**gcc/g++**"
   ]
  },
  {
   "cell_type": "code",
   "execution_count": 67,
   "id": "3fa4d6b1-337f-4d5d-96b8-6bb5b5edc83a",
   "metadata": {
    "execution": {
     "iopub.execute_input": "2023-09-16T15:25:58.988770Z",
     "iopub.status.busy": "2023-09-16T15:25:58.988447Z",
     "iopub.status.idle": "2023-09-16T15:25:59.105294Z",
     "shell.execute_reply": "2023-09-16T15:25:59.104429Z",
     "shell.execute_reply.started": "2023-09-16T15:25:58.988748Z"
    },
    "tags": []
   },
   "outputs": [
    {
     "name": "stdout",
     "output_type": "stream",
     "text": [
      "Version: 4:11.2.0-1ubuntu1\n"
     ]
    }
   ],
   "source": [
    "!dpkg -s gcc | grep Version"
   ]
  },
  {
   "cell_type": "markdown",
   "id": "cdc00521-4dbd-4bc9-bfa5-d3ffdb9987b7",
   "metadata": {},
   "source": [
    "**gfortran**"
   ]
  },
  {
   "cell_type": "code",
   "execution_count": 68,
   "id": "a2675ee4-3eaa-4c0a-9250-5b1ee900663a",
   "metadata": {
    "execution": {
     "iopub.execute_input": "2023-09-16T15:26:08.149938Z",
     "iopub.status.busy": "2023-09-16T15:26:08.149654Z",
     "iopub.status.idle": "2023-09-16T15:26:08.266719Z",
     "shell.execute_reply": "2023-09-16T15:26:08.265596Z",
     "shell.execute_reply.started": "2023-09-16T15:26:08.149919Z"
    },
    "tags": []
   },
   "outputs": [
    {
     "name": "stdout",
     "output_type": "stream",
     "text": [
      "Version: 4:11.2.0-1ubuntu1\n"
     ]
    }
   ],
   "source": [
    "!dpkg -s gfortran | grep Version"
   ]
  },
  {
   "cell_type": "markdown",
   "id": "e0a244c0-4e39-4913-a9b3-d9f396df3bba",
   "metadata": {
    "execution": {
     "iopub.execute_input": "2023-09-16T13:31:27.540063Z",
     "iopub.status.busy": "2023-09-16T13:31:27.539502Z",
     "iopub.status.idle": "2023-09-16T13:31:27.543644Z",
     "shell.execute_reply": "2023-09-16T13:31:27.542842Z",
     "shell.execute_reply.started": "2023-09-16T13:31:27.540040Z"
    },
    "tags": []
   },
   "source": [
    "### Terminal & version control"
   ]
  },
  {
   "cell_type": "markdown",
   "id": "8322579c-9908-4ec1-9acd-268e06491d3a",
   "metadata": {},
   "source": [
    "**bash**"
   ]
  },
  {
   "cell_type": "code",
   "execution_count": 69,
   "id": "7698aab6-d8e7-4d2e-988f-e789a971e9ea",
   "metadata": {
    "execution": {
     "iopub.execute_input": "2023-09-16T15:27:09.701830Z",
     "iopub.status.busy": "2023-09-16T15:27:09.701600Z",
     "iopub.status.idle": "2023-09-16T15:27:09.819453Z",
     "shell.execute_reply": "2023-09-16T15:27:09.818638Z",
     "shell.execute_reply.started": "2023-09-16T15:27:09.701811Z"
    },
    "tags": []
   },
   "outputs": [
    {
     "name": "stdout",
     "output_type": "stream",
     "text": [
      "Version: 5.1-6ubuntu1\n"
     ]
    }
   ],
   "source": [
    "!dpkg -s bash | grep Version"
   ]
  },
  {
   "cell_type": "markdown",
   "id": "56fcc603-cb3a-4597-a255-fee79d57d8c4",
   "metadata": {},
   "source": [
    "**tmux**"
   ]
  },
  {
   "cell_type": "code",
   "execution_count": 70,
   "id": "7e6340c7-d177-4312-b007-58617843b55d",
   "metadata": {
    "execution": {
     "iopub.execute_input": "2023-09-16T15:27:16.600142Z",
     "iopub.status.busy": "2023-09-16T15:27:16.599351Z",
     "iopub.status.idle": "2023-09-16T15:27:16.717586Z",
     "shell.execute_reply": "2023-09-16T15:27:16.716173Z",
     "shell.execute_reply.started": "2023-09-16T15:27:16.600107Z"
    },
    "tags": []
   },
   "outputs": [
    {
     "name": "stdout",
     "output_type": "stream",
     "text": [
      "Version: 3.2a-4ubuntu0.2\n"
     ]
    }
   ],
   "source": [
    "!dpkg -s tmux | grep Version"
   ]
  },
  {
   "cell_type": "markdown",
   "id": "133c4eef-69d6-4b28-8427-9b53ba8223e7",
   "metadata": {},
   "source": [
    "**git**"
   ]
  },
  {
   "cell_type": "code",
   "execution_count": 71,
   "id": "b8c08735-5102-4a80-919d-92004688ac0f",
   "metadata": {
    "execution": {
     "iopub.execute_input": "2023-09-16T15:27:23.075410Z",
     "iopub.status.busy": "2023-09-16T15:27:23.075146Z",
     "iopub.status.idle": "2023-09-16T15:27:23.195956Z",
     "shell.execute_reply": "2023-09-16T15:27:23.195317Z",
     "shell.execute_reply.started": "2023-09-16T15:27:23.075394Z"
    },
    "tags": []
   },
   "outputs": [
    {
     "name": "stdout",
     "output_type": "stream",
     "text": [
      "Version: 1:2.34.1-1ubuntu1.10\n"
     ]
    }
   ],
   "source": [
    "!dpkg -s git | grep Version"
   ]
  },
  {
   "cell_type": "markdown",
   "id": "396bcb8b-c0f4-4913-9ae2-4880fb98e127",
   "metadata": {},
   "source": [
    "### Files download"
   ]
  },
  {
   "cell_type": "markdown",
   "id": "5d140386-bad6-4032-8df7-1e3dd9c9f882",
   "metadata": {},
   "source": [
    "**curl**"
   ]
  },
  {
   "cell_type": "code",
   "execution_count": 72,
   "id": "7780a784-e35f-455f-9d71-b83cea035324",
   "metadata": {
    "execution": {
     "iopub.execute_input": "2023-09-16T15:28:05.099984Z",
     "iopub.status.busy": "2023-09-16T15:28:05.099741Z",
     "iopub.status.idle": "2023-09-16T15:28:05.234078Z",
     "shell.execute_reply": "2023-09-16T15:28:05.233087Z",
     "shell.execute_reply.started": "2023-09-16T15:28:05.099965Z"
    },
    "tags": []
   },
   "outputs": [
    {
     "name": "stdout",
     "output_type": "stream",
     "text": [
      "Version: 7.81.0-1ubuntu1.13\n"
     ]
    }
   ],
   "source": [
    "!dpkg -s curl | grep Version"
   ]
  },
  {
   "cell_type": "markdown",
   "id": "9d49612d-b9b4-4dca-b67b-07a865693884",
   "metadata": {},
   "source": [
    "**wget**"
   ]
  },
  {
   "cell_type": "code",
   "execution_count": 73,
   "id": "877a3c8d-544b-43cd-9a85-97922d624f03",
   "metadata": {
    "execution": {
     "iopub.execute_input": "2023-09-16T15:28:10.659766Z",
     "iopub.status.busy": "2023-09-16T15:28:10.658674Z",
     "iopub.status.idle": "2023-09-16T15:28:10.777322Z",
     "shell.execute_reply": "2023-09-16T15:28:10.776628Z",
     "shell.execute_reply.started": "2023-09-16T15:28:10.659740Z"
    },
    "tags": []
   },
   "outputs": [
    {
     "name": "stdout",
     "output_type": "stream",
     "text": [
      "Version: 1.21.2-2ubuntu1\n"
     ]
    }
   ],
   "source": [
    "!dpkg -s wget | grep Version"
   ]
  },
  {
   "cell_type": "markdown",
   "id": "1033a1ca-f9ab-4665-8c72-c1c1151f6f3a",
   "metadata": {
    "execution": {
     "iopub.execute_input": "2023-09-16T13:32:39.171616Z",
     "iopub.status.busy": "2023-09-16T13:32:39.171343Z",
     "iopub.status.idle": "2023-09-16T13:32:39.175635Z",
     "shell.execute_reply": "2023-09-16T13:32:39.174695Z",
     "shell.execute_reply.started": "2023-09-16T13:32:39.171602Z"
    },
    "tags": []
   },
   "source": [
    "### Files archives & compression"
   ]
  },
  {
   "cell_type": "markdown",
   "id": "05d79094-398d-4ac5-8795-dd8e1f0e1a3d",
   "metadata": {},
   "source": [
    "**bzip2**"
   ]
  },
  {
   "cell_type": "code",
   "execution_count": 74,
   "id": "9efacf69-c891-4aad-9b94-a7b60c91d232",
   "metadata": {
    "execution": {
     "iopub.execute_input": "2023-09-16T15:29:02.917526Z",
     "iopub.status.busy": "2023-09-16T15:29:02.917253Z",
     "iopub.status.idle": "2023-09-16T15:29:03.033230Z",
     "shell.execute_reply": "2023-09-16T15:29:03.032202Z",
     "shell.execute_reply.started": "2023-09-16T15:29:02.917504Z"
    },
    "tags": []
   },
   "outputs": [
    {
     "name": "stdout",
     "output_type": "stream",
     "text": [
      "Version: 1.0.8-5build1\n"
     ]
    }
   ],
   "source": [
    "!dpkg -s bzip2 | grep Version"
   ]
  },
  {
   "cell_type": "markdown",
   "id": "2d5f54e2-f9fe-43cf-bd30-b633ff1b2e66",
   "metadata": {},
   "source": [
    "**gzip**"
   ]
  },
  {
   "cell_type": "code",
   "execution_count": 75,
   "id": "3988e458-7a81-4ba9-895a-5706618be333",
   "metadata": {
    "execution": {
     "iopub.execute_input": "2023-09-16T15:29:13.122887Z",
     "iopub.status.busy": "2023-09-16T15:29:13.122545Z",
     "iopub.status.idle": "2023-09-16T15:29:13.240346Z",
     "shell.execute_reply": "2023-09-16T15:29:13.239436Z",
     "shell.execute_reply.started": "2023-09-16T15:29:13.122805Z"
    },
    "tags": []
   },
   "outputs": [
    {
     "name": "stdout",
     "output_type": "stream",
     "text": [
      "Version: 1.10-4ubuntu4.1\n"
     ]
    }
   ],
   "source": [
    "!dpkg -s gzip | grep Version"
   ]
  },
  {
   "cell_type": "markdown",
   "id": "824cc23d-acca-4c3b-948b-326ee3e71981",
   "metadata": {},
   "source": [
    "**tar**"
   ]
  },
  {
   "cell_type": "code",
   "execution_count": 76,
   "id": "281a3942-26bc-4b9f-a1e8-fefd0b713724",
   "metadata": {
    "execution": {
     "iopub.execute_input": "2023-09-16T15:29:18.194036Z",
     "iopub.status.busy": "2023-09-16T15:29:18.193761Z",
     "iopub.status.idle": "2023-09-16T15:29:18.313685Z",
     "shell.execute_reply": "2023-09-16T15:29:18.311291Z",
     "shell.execute_reply.started": "2023-09-16T15:29:18.194017Z"
    },
    "tags": []
   },
   "outputs": [
    {
     "name": "stdout",
     "output_type": "stream",
     "text": [
      "Version: 1.34+dfsg-1ubuntu0.1.22.04.1\n"
     ]
    }
   ],
   "source": [
    "!dpkg -s tar | grep Version"
   ]
  },
  {
   "cell_type": "markdown",
   "id": "f9e701f0-2e09-4d56-be98-de9af4a7eac2",
   "metadata": {},
   "source": [
    "**unzip**"
   ]
  },
  {
   "cell_type": "code",
   "execution_count": 77,
   "id": "9c11a6d9-6aa6-4d7c-9b4e-2859fd477360",
   "metadata": {
    "execution": {
     "iopub.execute_input": "2023-09-16T15:29:24.437006Z",
     "iopub.status.busy": "2023-09-16T15:29:24.436671Z",
     "iopub.status.idle": "2023-09-16T15:29:24.555178Z",
     "shell.execute_reply": "2023-09-16T15:29:24.554050Z",
     "shell.execute_reply.started": "2023-09-16T15:29:24.436941Z"
    },
    "tags": []
   },
   "outputs": [
    {
     "name": "stdout",
     "output_type": "stream",
     "text": [
      "Version: 6.0-26ubuntu3.1\n"
     ]
    }
   ],
   "source": [
    "!dpkg -s unzip | grep Version"
   ]
  },
  {
   "cell_type": "markdown",
   "id": "c01c9a62-877a-47f1-8b26-534ad17fede8",
   "metadata": {},
   "source": [
    "### Text editors"
   ]
  },
  {
   "cell_type": "markdown",
   "id": "babf7689-5806-4e8f-bb3a-60fbc798eb82",
   "metadata": {},
   "source": [
    "**emacs**"
   ]
  },
  {
   "cell_type": "code",
   "execution_count": 78,
   "id": "afdae42c-16a5-493a-a6a5-3a9550c2e183",
   "metadata": {
    "execution": {
     "iopub.execute_input": "2023-09-16T15:30:05.826026Z",
     "iopub.status.busy": "2023-09-16T15:30:05.825730Z",
     "iopub.status.idle": "2023-09-16T15:30:05.943811Z",
     "shell.execute_reply": "2023-09-16T15:30:05.942415Z",
     "shell.execute_reply.started": "2023-09-16T15:30:05.826002Z"
    },
    "tags": []
   },
   "outputs": [
    {
     "name": "stdout",
     "output_type": "stream",
     "text": [
      "Version: 1:27.1+1-3ubuntu5.1\n"
     ]
    }
   ],
   "source": [
    "!dpkg -s emacs | grep Version"
   ]
  },
  {
   "cell_type": "markdown",
   "id": "0c3727df-ad5a-4175-85df-7f72a0b3446a",
   "metadata": {},
   "source": [
    "**nano**"
   ]
  },
  {
   "cell_type": "code",
   "execution_count": 80,
   "id": "e478b8da-9bf9-4150-83aa-6f75597cff6e",
   "metadata": {
    "execution": {
     "iopub.execute_input": "2023-09-16T15:30:15.709327Z",
     "iopub.status.busy": "2023-09-16T15:30:15.709067Z",
     "iopub.status.idle": "2023-09-16T15:30:15.826379Z",
     "shell.execute_reply": "2023-09-16T15:30:15.825342Z",
     "shell.execute_reply.started": "2023-09-16T15:30:15.709309Z"
    },
    "tags": []
   },
   "outputs": [
    {
     "name": "stdout",
     "output_type": "stream",
     "text": [
      "Version: 6.2-1\n"
     ]
    }
   ],
   "source": [
    "!dpkg -s nano-tiny | grep Version"
   ]
  },
  {
   "cell_type": "markdown",
   "id": "d296bab5-e989-4d6a-929a-a424c2bd66d6",
   "metadata": {},
   "source": [
    "**vim**"
   ]
  },
  {
   "cell_type": "code",
   "execution_count": 82,
   "id": "8d43e029-6d8a-4662-bdb2-d0b3687d32a8",
   "metadata": {
    "execution": {
     "iopub.execute_input": "2023-09-16T15:30:40.655975Z",
     "iopub.status.busy": "2023-09-16T15:30:40.655712Z",
     "iopub.status.idle": "2023-09-16T15:30:40.772727Z",
     "shell.execute_reply": "2023-09-16T15:30:40.771921Z",
     "shell.execute_reply.started": "2023-09-16T15:30:40.655956Z"
    },
    "tags": []
   },
   "outputs": [
    {
     "name": "stdout",
     "output_type": "stream",
     "text": [
      "Version: 2:8.2.3995-1ubuntu2.11\n"
     ]
    }
   ],
   "source": [
    "!dpkg -s vim | grep Version"
   ]
  },
  {
   "cell_type": "markdown",
   "id": "7773e2d8-c7f6-4e4d-bdba-085181374bc8",
   "metadata": {},
   "source": [
    "### Performance monintoring"
   ]
  },
  {
   "cell_type": "markdown",
   "id": "cd6ffafa-0292-43ba-83d1-6dd15f5a50d4",
   "metadata": {},
   "source": [
    "**htop**"
   ]
  },
  {
   "cell_type": "code",
   "execution_count": 83,
   "id": "8d927a92-db7e-4b76-9ba3-2d20f4a042f8",
   "metadata": {
    "execution": {
     "iopub.execute_input": "2023-09-16T15:31:09.791011Z",
     "iopub.status.busy": "2023-09-16T15:31:09.790645Z",
     "iopub.status.idle": "2023-09-16T15:31:09.907195Z",
     "shell.execute_reply": "2023-09-16T15:31:09.906128Z",
     "shell.execute_reply.started": "2023-09-16T15:31:09.790976Z"
    },
    "tags": []
   },
   "outputs": [
    {
     "name": "stdout",
     "output_type": "stream",
     "text": [
      "Version: 3.0.5-7build2\n"
     ]
    }
   ],
   "source": [
    "!dpkg -s htop | grep Version"
   ]
  },
  {
   "cell_type": "markdown",
   "id": "e98d2914-f0c5-4264-9a6f-29a92d1573ee",
   "metadata": {},
   "source": [
    "**nvtop**"
   ]
  },
  {
   "cell_type": "code",
   "execution_count": 84,
   "id": "9d8d9f86-1a3a-4dc7-b704-586d3a030706",
   "metadata": {
    "execution": {
     "iopub.execute_input": "2023-09-16T15:31:16.510554Z",
     "iopub.status.busy": "2023-09-16T15:31:16.509647Z",
     "iopub.status.idle": "2023-09-16T15:31:16.626909Z",
     "shell.execute_reply": "2023-09-16T15:31:16.626057Z",
     "shell.execute_reply.started": "2023-09-16T15:31:16.510530Z"
    },
    "tags": []
   },
   "outputs": [
    {
     "name": "stdout",
     "output_type": "stream",
     "text": [
      "Version: 1.2.2-1\n"
     ]
    }
   ],
   "source": [
    "!dpkg -s nvtop | grep Version"
   ]
  }
 ],
 "metadata": {
  "kernelspec": {
   "display_name": "tutorials",
   "language": "python",
   "name": "tutorials"
  },
  "language_info": {
   "codemirror_mode": {
    "name": "ipython",
    "version": 3
   },
   "file_extension": ".py",
   "mimetype": "text/x-python",
   "name": "python",
   "nbconvert_exporter": "python",
   "pygments_lexer": "ipython3",
   "version": "3.10.12"
  }
 },
 "nbformat": 4,
 "nbformat_minor": 5
}
