{
 "cells": [
  {
   "cell_type": "markdown",
   "id": "0a560ce3-7860-4327-bf0f-7eb5e54e4d6f",
   "metadata": {},
   "source": [
    "# Nvidia GPU"
   ]
  },
  {
   "cell_type": "markdown",
   "id": "f20ae3de-e025-4919-bbe0-e9e939ab2405",
   "metadata": {},
   "source": [
    "## Monitoring Nvidia GPUs in a Terminal "
   ]
  },
  {
   "cell_type": "code",
   "execution_count": 1,
   "id": "94ca79f9-9ab4-4daa-b0f4-46257b0a0ffc",
   "metadata": {
    "execution": {
     "iopub.execute_input": "2023-09-16T06:56:56.452406Z",
     "iopub.status.busy": "2023-09-16T06:56:56.452112Z",
     "iopub.status.idle": "2023-09-16T06:56:56.680889Z",
     "shell.execute_reply": "2023-09-16T06:56:56.679548Z",
     "shell.execute_reply.started": "2023-09-16T06:56:56.452385Z"
    },
    "tags": []
   },
   "outputs": [
    {
     "name": "stdout",
     "output_type": "stream",
     "text": [
      "Sat Sep 16 06:56:56 2023       \n",
      "+---------------------------------------------------------------------------------------+\n",
      "| NVIDIA-SMI 535.103                Driver Version: 537.13       CUDA Version: 12.2     |\n",
      "|-----------------------------------------+----------------------+----------------------+\n",
      "| GPU  Name                 Persistence-M | Bus-Id        Disp.A | Volatile Uncorr. ECC |\n",
      "| Fan  Temp   Perf          Pwr:Usage/Cap |         Memory-Usage | GPU-Util  Compute M. |\n",
      "|                                         |                      |               MIG M. |\n",
      "|=========================================+======================+======================|\n",
      "|   0  NVIDIA GeForce RTX 3070 ...    On  | 00000000:01:00.0 Off |                  N/A |\n",
      "| N/A   41C    P8               9W /  50W |      0MiB /  8192MiB |      0%      Default |\n",
      "|                                         |                      |                  N/A |\n",
      "+-----------------------------------------+----------------------+----------------------+\n",
      "                                                                                         \n",
      "+---------------------------------------------------------------------------------------+\n",
      "| Processes:                                                                            |\n",
      "|  GPU   GI   CI        PID   Type   Process name                            GPU Memory |\n",
      "|        ID   ID                                                             Usage      |\n",
      "|=======================================================================================|\n",
      "|    0   N/A  N/A        21      G   /Xwayland                                 N/A      |\n",
      "+---------------------------------------------------------------------------------------+\n"
     ]
    }
   ],
   "source": [
    "!nvidia-smi"
   ]
  },
  {
   "cell_type": "markdown",
   "id": "fe32ff7b-86cf-444f-92eb-692c26c4a4a3",
   "metadata": {
    "execution": {
     "iopub.execute_input": "2023-09-16T07:00:11.953075Z",
     "iopub.status.busy": "2023-09-16T07:00:11.952250Z",
     "iopub.status.idle": "2023-09-16T07:00:11.956380Z",
     "shell.execute_reply": "2023-09-16T07:00:11.955409Z",
     "shell.execute_reply.started": "2023-09-16T07:00:11.953054Z"
    },
    "tags": []
   },
   "source": [
    "## Monitoring Nvidia GPUs in Notebooks"
   ]
  },
  {
   "cell_type": "code",
   "execution_count": 4,
   "id": "ea7bd463-9778-4af6-be14-c7ee55088ad0",
   "metadata": {
    "execution": {
     "iopub.execute_input": "2023-09-16T07:01:45.753838Z",
     "iopub.status.busy": "2023-09-16T07:01:45.753555Z",
     "iopub.status.idle": "2023-09-16T07:01:45.780418Z",
     "shell.execute_reply": "2023-09-16T07:01:45.779518Z",
     "shell.execute_reply.started": "2023-09-16T07:01:45.753816Z"
    },
    "tags": []
   },
   "outputs": [
    {
     "name": "stdout",
     "output_type": "stream",
     "text": [
      "Driver Version: 537.13\n"
     ]
    }
   ],
   "source": [
    "from pynvml import *\n",
    "\n",
    "nvmlInit()\n",
    "print(\"Driver Version:\", nvmlSystemGetDriverVersion())"
   ]
  },
  {
   "cell_type": "code",
   "execution_count": 9,
   "id": "2a87a1c4-7bd0-4a97-86ee-3feb3d9e7f6e",
   "metadata": {
    "execution": {
     "iopub.execute_input": "2023-09-16T07:04:25.804488Z",
     "iopub.status.busy": "2023-09-16T07:04:25.804136Z",
     "iopub.status.idle": "2023-09-16T07:04:25.812887Z",
     "shell.execute_reply": "2023-09-16T07:04:25.812044Z",
     "shell.execute_reply.started": "2023-09-16T07:04:25.804465Z"
    },
    "tags": []
   },
   "outputs": [
    {
     "name": "stdout",
     "output_type": "stream",
     "text": [
      "Device 0 : NVIDIA GeForce RTX 3070 Ti Laptop GPU -\n",
      "- Total memory: 8192.0 MB\n",
      "- Free memory: 8032.0 MB\n",
      "- Used memory: 160.0 MB\n"
     ]
    }
   ],
   "source": [
    "deviceCount = nvmlDeviceGetCount()\n",
    "for i in range(deviceCount):\n",
    "    handle = nvmlDeviceGetHandleByIndex(i)\n",
    "    print(\"Device\", i, \":\", nvmlDeviceGetName(handle), \"-\", )\n",
    "    info = nvmlDeviceGetMemoryInfo(handle)\n",
    "    print(\"- Total memory:\", info.total/1024/1024, \"MB\")\n",
    "    print(\"- Free memory:\", info.free/1024/1024, \"MB\")\n",
    "    print(\"- Used memory:\", info.used/1024/1024, \"MB\")"
   ]
  },
  {
   "cell_type": "markdown",
   "id": "0af02e31-9527-4082-a2d6-2c2310f547c0",
   "metadata": {
    "execution": {
     "iopub.execute_input": "2023-09-16T07:06:57.142982Z",
     "iopub.status.busy": "2023-09-16T07:06:57.142667Z",
     "iopub.status.idle": "2023-09-16T07:06:57.148749Z",
     "shell.execute_reply": "2023-09-16T07:06:57.147687Z",
     "shell.execute_reply.started": "2023-09-16T07:06:57.142964Z"
    },
    "tags": []
   },
   "source": [
    "NVLM API reference: https://docs.nvidia.com/deploy/nvml-api/index.html"
   ]
  }
 ],
 "metadata": {
  "kernelspec": {
   "display_name": "tutorials",
   "language": "python",
   "name": "tutorials"
  },
  "language_info": {
   "codemirror_mode": {
    "name": "ipython",
    "version": 3
   },
   "file_extension": ".py",
   "mimetype": "text/x-python",
   "name": "python",
   "nbconvert_exporter": "python",
   "pygments_lexer": "ipython3",
   "version": "3.10.12"
  }
 },
 "nbformat": 4,
 "nbformat_minor": 5
}
