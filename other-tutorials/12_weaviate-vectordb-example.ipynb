{
 "cells": [
  {
   "cell_type": "code",
   "execution_count": 1,
   "id": "d0ff1d95-dc27-45e2-8125-40b637bb38f7",
   "metadata": {
    "execution": {
     "iopub.execute_input": "2024-06-08T21:31:07.564677Z",
     "iopub.status.busy": "2024-06-08T21:31:07.564206Z",
     "iopub.status.idle": "2024-06-08T21:31:07.698216Z",
     "shell.execute_reply": "2024-06-08T21:31:07.697779Z",
     "shell.execute_reply.started": "2024-06-08T21:31:07.564655Z"
    }
   },
   "outputs": [
    {
     "name": "stdout",
     "output_type": "stream",
     "text": [
      "\u001b[74G[ OK ] Docker: docker       \u001b[80G \n"
     ]
    }
   ],
   "source": [
    "!service docker start"
   ]
  },
  {
   "cell_type": "code",
   "execution_count": 2,
   "id": "a184fdcd-4891-432d-a9c6-5fff56051199",
   "metadata": {
    "execution": {
     "iopub.execute_input": "2024-06-08T21:31:15.203802Z",
     "iopub.status.busy": "2024-06-08T21:31:15.203318Z",
     "iopub.status.idle": "2024-06-08T21:31:15.851277Z",
     "shell.execute_reply": "2024-06-08T21:31:15.849588Z",
     "shell.execute_reply.started": "2024-06-08T21:31:15.203781Z"
    }
   },
   "outputs": [
    {
     "name": "stdout",
     "output_type": "stream",
     "text": [
      "\n",
      "Hello from Docker!\n",
      "This message shows that your installation appears to be working correctly.\n",
      "\n",
      "To generate this message, Docker took the following steps:\n",
      " 1. The Docker client contacted the Docker daemon.\n",
      " 2. The Docker daemon pulled the \"hello-world\" image from the Docker Hub.\n",
      "    (amd64)\n",
      " 3. The Docker daemon created a new container from that image which runs the\n",
      "    executable that produces the output you are currently reading.\n",
      " 4. The Docker daemon streamed that output to the Docker client, which sent it\n",
      "    to your terminal.\n",
      "\n",
      "To try something more ambitious, you can run an Ubuntu container with:\n",
      " $ docker run -it ubuntu bash\n",
      "\n",
      "Share images, automate workflows, and more with a free Docker ID:\n",
      " https://hub.docker.com/\n",
      "\n",
      "For more examples and ideas, visit:\n",
      " https://docs.docker.com/get-started/\n",
      "\n"
     ]
    }
   ],
   "source": [
    "!docker run hello-world"
   ]
  },
  {
   "cell_type": "code",
   "execution_count": null,
   "id": "cf4ecad8-108c-4f9e-a62d-ffb690861646",
   "metadata": {
    "execution": {
     "iopub.execute_input": "2024-06-08T21:33:18.875912Z",
     "iopub.status.busy": "2024-06-08T21:33:18.875154Z"
    }
   },
   "outputs": [
    {
     "name": "stdout",
     "output_type": "stream",
     "text": [
      "Unable to find image 'cr.weaviate.io/semitechnologies/weaviate:1.24.17' locally\n",
      "1.24.17: Pulling from semitechnologies/weaviate\n",
      "\n",
      "\u001b[1B557d7f31: Pulling fs layer \n",
      "\u001b[1B65396cdc: Pulling fs layer \n",
      "\u001b[1B3d879f6a: Pulling fs layer \n",
      "\u001b[1B55d5a4ce: Pulling fs layer \n",
      "\u001b[1B621510d5: Pulling fs layer \n",
      "\u001b[1B09db31ff: Pulling fs layer \n",
      "\u001b[1BDigest: sha256:01cf65a838bd89c12557633767c28b67d1738f59c2f88caa551e74f95f27a23b[5A\u001b[2K\u001b[6A\u001b[2K\u001b[5A\u001b[2K\u001b[5A\u001b[2K\u001b[5A\u001b[2K\u001b[5A\u001b[2K\u001b[5A\u001b[2K\u001b[4A\u001b[2K\u001b[5A\u001b[2K\u001b[5A\u001b[2K\u001b[3A\u001b[2K\u001b[1A\u001b[2K\u001b[3A\u001b[2K\u001b[2A\u001b[2K\u001b[3A\u001b[2K\u001b[2A\u001b[2K\u001b[3A\u001b[2K\u001b[3A\u001b[2K\u001b[3A\u001b[2K\u001b[3A\u001b[2K\u001b[3A\u001b[2K\u001b[2A\u001b[2K\n",
      "Status: Downloaded newer image for cr.weaviate.io/semitechnologies/weaviate:1.24.17\n",
      "{\"action\":\"startup\",\"default_vectorizer_module\":\"none\",\"level\":\"info\",\"msg\":\"the default vectorizer modules is set to \\\"none\\\", as a result all new schema classes without an explicit vectorizer setting, will use this vectorizer\",\"time\":\"2024-06-08T21:33:23Z\"}\n",
      "{\"action\":\"startup\",\"auto_schema_enabled\":true,\"level\":\"info\",\"msg\":\"auto schema enabled setting is set to \\\"true\\\"\",\"time\":\"2024-06-08T21:33:23Z\"}\n",
      "{\"level\":\"info\",\"msg\":\"No resource limits set, weaviate will use all available memory and CPU. To limit resources, set LIMIT_RESOURCES=true\",\"time\":\"2024-06-08T21:33:23Z\"}\n",
      "{\"action\":\"grpc_startup\",\"level\":\"info\",\"msg\":\"grpc server listening at [::]:50051\",\"time\":\"2024-06-08T21:33:23Z\"}\n",
      "{\"action\":\"restapi_management\",\"level\":\"info\",\"msg\":\"Serving weaviate at http://[::]:8080\",\"time\":\"2024-06-08T21:33:23Z\"}\n",
      "{\"action\":\"telemetry_push\",\"level\":\"info\",\"msg\":\"telemetry started\",\"payload\":\"\\u0026{MachineID:5e3a54e1-08c2-4863-8433-be9b6efa3a20 Type:INIT Version:1.24.17 NumObjects:0 OS:linux Arch:amd64 UsedModules:[]}\",\"time\":\"2024-06-08T21:33:24Z\"}\n"
     ]
    }
   ],
   "source": [
    " !docker run -p 8080:8080 -p 50051:50051 cr.weaviate.io/semitechnologies/weaviate:1.24.17"
   ]
  },
  {
   "cell_type": "code",
   "execution_count": null,
   "id": "2c8f8416-42dc-4b18-a77c-c3d8089e8dc3",
   "metadata": {},
   "outputs": [],
   "source": []
  }
 ],
 "metadata": {
  "kernelspec": {
   "display_name": "Python 3 (ipykernel)",
   "language": "python",
   "name": "python3"
  },
  "language_info": {
   "codemirror_mode": {
    "name": "ipython",
    "version": 3
   },
   "file_extension": ".py",
   "mimetype": "text/x-python",
   "name": "python",
   "nbconvert_exporter": "python",
   "pygments_lexer": "ipython3",
   "version": "3.12.3"
  }
 },
 "nbformat": 4,
 "nbformat_minor": 5
}
