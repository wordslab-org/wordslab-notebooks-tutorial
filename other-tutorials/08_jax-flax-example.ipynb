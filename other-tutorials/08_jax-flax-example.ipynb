{
 "cells": [
  {
   "cell_type": "markdown",
   "id": "5bb57764-1e21-4bab-b247-a9aff5b510e1",
   "metadata": {},
   "source": [
    "# JAX & Flax"
   ]
  },
  {
   "cell_type": "markdown",
   "id": "4da258bb-4031-4ed6-9264-67c8b5162130",
   "metadata": {},
   "source": [
    "Example from: https://flax.readthedocs.io/en/latest/getting_started.html"
   ]
  },
  {
   "cell_type": "code",
   "execution_count": null,
   "id": "5669e9c5-76dd-4e2a-9d77-8c527dcdc6b3",
   "metadata": {
    "tags": []
   },
   "outputs": [],
   "source": [
    "pip install flax"
   ]
  },
  {
   "cell_type": "code",
   "execution_count": null,
   "id": "faa0d2c2-bbd6-448e-9cbc-98ac031d7672",
   "metadata": {
    "tags": []
   },
   "outputs": [],
   "source": [
    "pip install tensorflow-datasets"
   ]
  },
  {
   "cell_type": "code",
   "execution_count": 18,
   "id": "101ce0ee-81b8-449a-8e79-c1394fa25a62",
   "metadata": {
    "execution": {
     "iopub.execute_input": "2023-09-16T21:20:43.980875Z",
     "iopub.status.busy": "2023-09-16T21:20:43.980632Z",
     "iopub.status.idle": "2023-09-16T21:20:43.984741Z",
     "shell.execute_reply": "2023-09-16T21:20:43.983853Z",
     "shell.execute_reply.started": "2023-09-16T21:20:43.980854Z"
    },
    "tags": []
   },
   "outputs": [],
   "source": [
    "# IMPORTANT: suppress annoying Tensorflow warnings\n",
    "import os\n",
    "os.environ[\"TF_CPP_MIN_LOG_LEVEL\"] = \"3\" "
   ]
  },
  {
   "cell_type": "code",
   "execution_count": 19,
   "id": "96df3a6b-90d1-49fd-b73b-ec508d69a752",
   "metadata": {
    "execution": {
     "iopub.execute_input": "2023-09-16T21:20:46.896887Z",
     "iopub.status.busy": "2023-09-16T21:20:46.896524Z",
     "iopub.status.idle": "2023-09-16T21:20:46.902608Z",
     "shell.execute_reply": "2023-09-16T21:20:46.901520Z",
     "shell.execute_reply.started": "2023-09-16T21:20:46.896869Z"
    },
    "tags": []
   },
   "outputs": [],
   "source": [
    "# Loading data\n",
    "import tensorflow_datasets as tfds  # TFDS for MNIST\n",
    "import tensorflow as tf             # TensorFlow operations\n",
    "\n",
    "def get_datasets(num_epochs, batch_size):\n",
    "  \"\"\"Load MNIST train and test datasets into memory.\"\"\"\n",
    "  train_ds = tfds.load('mnist', split='train')\n",
    "  test_ds = tfds.load('mnist', split='test')\n",
    "\n",
    "  train_ds = train_ds.map(lambda sample: {'image': tf.cast(sample['image'],\n",
    "                                                           tf.float32) / 255.,\n",
    "                                          'label': sample['label']}) # normalize train set\n",
    "  test_ds = test_ds.map(lambda sample: {'image': tf.cast(sample['image'],\n",
    "                                                         tf.float32) / 255.,\n",
    "                                        'label': sample['label']}) # normalize test set\n",
    "\n",
    "  train_ds = train_ds.repeat(num_epochs).shuffle(1024) # create shuffled dataset by allocating a buffer size of 1024 to randomly draw elements from\n",
    "  train_ds = train_ds.batch(batch_size, drop_remainder=True).prefetch(1) # group into batches of batch_size and skip incomplete batch, prefetch the next sample to improve latency\n",
    "  test_ds = test_ds.shuffle(1024) # create shuffled dataset by allocating a buffer size of 1024 to randomly draw elements from\n",
    "  test_ds = test_ds.batch(batch_size, drop_remainder=True).prefetch(1) # group into batches of batch_size and skip incomplete batch, prefetch the next sample to improve latency\n",
    "\n",
    "  return train_ds, test_ds"
   ]
  },
  {
   "cell_type": "code",
   "execution_count": 7,
   "id": "0cfb1bcc-92eb-4691-8c72-69840428e6e8",
   "metadata": {
    "execution": {
     "iopub.execute_input": "2023-09-16T21:16:34.178269Z",
     "iopub.status.busy": "2023-09-16T21:16:34.177203Z",
     "iopub.status.idle": "2023-09-16T21:16:34.244701Z",
     "shell.execute_reply": "2023-09-16T21:16:34.243824Z",
     "shell.execute_reply.started": "2023-09-16T21:16:34.178239Z"
    },
    "tags": []
   },
   "outputs": [],
   "source": [
    "# Define network\n",
    "from flax import linen as nn  # Linen API\n",
    "\n",
    "class CNN(nn.Module):\n",
    "  \"\"\"A simple CNN model.\"\"\"\n",
    "\n",
    "  @nn.compact\n",
    "  def __call__(self, x):\n",
    "    x = nn.Conv(features=32, kernel_size=(3, 3))(x)\n",
    "    x = nn.relu(x)\n",
    "    x = nn.avg_pool(x, window_shape=(2, 2), strides=(2, 2))\n",
    "    x = nn.Conv(features=64, kernel_size=(3, 3))(x)\n",
    "    x = nn.relu(x)\n",
    "    x = nn.avg_pool(x, window_shape=(2, 2), strides=(2, 2))\n",
    "    x = x.reshape((x.shape[0], -1))  # flatten\n",
    "    x = nn.Dense(features=256)(x)\n",
    "    x = nn.relu(x)\n",
    "    x = nn.Dense(features=10)(x)\n",
    "    return x"
   ]
  },
  {
   "cell_type": "code",
   "execution_count": 9,
   "id": "aa1ceb18-2f89-4ab6-b7be-4be83b73ee21",
   "metadata": {
    "execution": {
     "iopub.execute_input": "2023-09-16T21:17:09.145371Z",
     "iopub.status.busy": "2023-09-16T21:17:09.145010Z",
     "iopub.status.idle": "2023-09-16T21:17:13.425665Z",
     "shell.execute_reply": "2023-09-16T21:17:13.424806Z",
     "shell.execute_reply.started": "2023-09-16T21:17:09.145332Z"
    },
    "tags": []
   },
   "outputs": [
    {
     "name": "stdout",
     "output_type": "stream",
     "text": [
      "\n",
      "\u001b[3m                                  CNN Summary                                   \u001b[0m\n",
      "┏━━━━━━━━━┳━━━━━━━━┳━━━━━━━━━━━━━━━━━━━┳━━━━━━━━━━━━━━━━━━━┳━━━━━━━━━━━━━━━━━━━┓\n",
      "┃\u001b[1m \u001b[0m\u001b[1mpath   \u001b[0m\u001b[1m \u001b[0m┃\u001b[1m \u001b[0m\u001b[1mmodule\u001b[0m\u001b[1m \u001b[0m┃\u001b[1m \u001b[0m\u001b[1minputs           \u001b[0m\u001b[1m \u001b[0m┃\u001b[1m \u001b[0m\u001b[1moutputs          \u001b[0m\u001b[1m \u001b[0m┃\u001b[1m \u001b[0m\u001b[1mparams           \u001b[0m\u001b[1m \u001b[0m┃\n",
      "┡━━━━━━━━━╇━━━━━━━━╇━━━━━━━━━━━━━━━━━━━╇━━━━━━━━━━━━━━━━━━━╇━━━━━━━━━━━━━━━━━━━┩\n",
      "│         │ CNN    │ \u001b[2mfloat32\u001b[0m[1,28,28,… │ \u001b[2mfloat32\u001b[0m[1,10]     │                   │\n",
      "├─────────┼────────┼───────────────────┼───────────────────┼───────────────────┤\n",
      "│ Conv_0  │ Conv   │ \u001b[2mfloat32\u001b[0m[1,28,28,… │ \u001b[2mfloat32\u001b[0m[1,28,28,… │ bias: \u001b[2mfloat32\u001b[0m[32] │\n",
      "│         │        │                   │                   │ kernel:           │\n",
      "│         │        │                   │                   │ \u001b[2mfloat32\u001b[0m[3,3,1,32] │\n",
      "│         │        │                   │                   │                   │\n",
      "│         │        │                   │                   │ \u001b[1m320 \u001b[0m\u001b[1;2m(1.3 KB)\u001b[0m      │\n",
      "├─────────┼────────┼───────────────────┼───────────────────┼───────────────────┤\n",
      "│ Conv_1  │ Conv   │ \u001b[2mfloat32\u001b[0m[1,14,14,… │ \u001b[2mfloat32\u001b[0m[1,14,14,… │ bias: \u001b[2mfloat32\u001b[0m[64] │\n",
      "│         │        │                   │                   │ kernel:           │\n",
      "│         │        │                   │                   │ \u001b[2mfloat32\u001b[0m[3,3,32,6… │\n",
      "│         │        │                   │                   │                   │\n",
      "│         │        │                   │                   │ \u001b[1m18,496 \u001b[0m\u001b[1;2m(74.0 KB)\u001b[0m  │\n",
      "├─────────┼────────┼───────────────────┼───────────────────┼───────────────────┤\n",
      "│ Dense_0 │ Dense  │ \u001b[2mfloat32\u001b[0m[1,3136]   │ \u001b[2mfloat32\u001b[0m[1,256]    │ bias:             │\n",
      "│         │        │                   │                   │ \u001b[2mfloat32\u001b[0m[256]      │\n",
      "│         │        │                   │                   │ kernel:           │\n",
      "│         │        │                   │                   │ \u001b[2mfloat32\u001b[0m[3136,256] │\n",
      "│         │        │                   │                   │                   │\n",
      "│         │        │                   │                   │ \u001b[1m803,072 \u001b[0m\u001b[1;2m(3.2 MB)\u001b[0m  │\n",
      "├─────────┼────────┼───────────────────┼───────────────────┼───────────────────┤\n",
      "│ Dense_1 │ Dense  │ \u001b[2mfloat32\u001b[0m[1,256]    │ \u001b[2mfloat32\u001b[0m[1,10]     │ bias: \u001b[2mfloat32\u001b[0m[10] │\n",
      "│         │        │                   │                   │ kernel:           │\n",
      "│         │        │                   │                   │ \u001b[2mfloat32\u001b[0m[256,10]   │\n",
      "│         │        │                   │                   │                   │\n",
      "│         │        │                   │                   │ \u001b[1m2,570 \u001b[0m\u001b[1;2m(10.3 KB)\u001b[0m   │\n",
      "├─────────┼────────┼───────────────────┼───────────────────┼───────────────────┤\n",
      "│\u001b[1m \u001b[0m\u001b[1m       \u001b[0m\u001b[1m \u001b[0m│\u001b[1m \u001b[0m\u001b[1m      \u001b[0m\u001b[1m \u001b[0m│\u001b[1m \u001b[0m\u001b[1m                 \u001b[0m\u001b[1m \u001b[0m│\u001b[1m \u001b[0m\u001b[1m            Total\u001b[0m\u001b[1m \u001b[0m│\u001b[1m \u001b[0m\u001b[1m824,458 \u001b[0m\u001b[1;2m(3.3 MB)\u001b[0m\u001b[1m \u001b[0m\u001b[1m \u001b[0m│\n",
      "└─────────┴────────┴───────────────────┴───────────────────┴───────────────────┘\n",
      "\u001b[1m                                                                                \u001b[0m\n",
      "\u001b[1m                       Total Parameters: 824,458 \u001b[0m\u001b[1;2m(3.3 MB)\u001b[0m\u001b[1m                       \u001b[0m\n",
      "\n",
      "\n"
     ]
    }
   ],
   "source": [
    "# View model layers\n",
    "import jax\n",
    "import jax.numpy as jnp  # JAX NumPy\n",
    "\n",
    "cnn = CNN()\n",
    "print(cnn.tabulate(jax.random.key(0), jnp.ones((1, 28, 28, 1))))"
   ]
  },
  {
   "cell_type": "code",
   "execution_count": null,
   "id": "1ef262e8-4e61-4e88-8fb6-f6023653a09f",
   "metadata": {
    "tags": []
   },
   "outputs": [],
   "source": [
    "pip install clu"
   ]
  },
  {
   "cell_type": "code",
   "execution_count": 11,
   "id": "68c641d0-a0bb-49f7-89b0-1be1a7d425e3",
   "metadata": {
    "execution": {
     "iopub.execute_input": "2023-09-16T21:18:33.987029Z",
     "iopub.status.busy": "2023-09-16T21:18:33.986753Z",
     "iopub.status.idle": "2023-09-16T21:18:34.525746Z",
     "shell.execute_reply": "2023-09-16T21:18:34.524964Z",
     "shell.execute_reply.started": "2023-09-16T21:18:33.987012Z"
    },
    "tags": []
   },
   "outputs": [],
   "source": [
    "# Create a TrainState\n",
    "from clu import metrics\n",
    "from flax.training import train_state  # Useful dataclass to keep train state\n",
    "from flax import struct                # Flax dataclasses\n",
    "import optax                           # Common loss functions and optimizers\n",
    "\n",
    "@struct.dataclass\n",
    "class Metrics(metrics.Collection):\n",
    "  accuracy: metrics.Accuracy\n",
    "  loss: metrics.Average.from_output('loss')\n",
    "    \n",
    "class TrainState(train_state.TrainState):\n",
    "  metrics: Metrics\n",
    "\n",
    "def create_train_state(module, rng, learning_rate, momentum):\n",
    "  \"\"\"Creates an initial `TrainState`.\"\"\"\n",
    "  params = module.init(rng, jnp.ones([1, 28, 28, 1]))['params'] # initialize parameters by passing a template image\n",
    "  tx = optax.sgd(learning_rate, momentum)\n",
    "  return TrainState.create(\n",
    "      apply_fn=module.apply, params=params, tx=tx,\n",
    "      metrics=Metrics.empty())"
   ]
  },
  {
   "cell_type": "code",
   "execution_count": 12,
   "id": "1e5a6f94-dd8b-40f4-8dae-2dc8ca203496",
   "metadata": {
    "execution": {
     "iopub.execute_input": "2023-09-16T21:18:50.495264Z",
     "iopub.status.busy": "2023-09-16T21:18:50.494961Z",
     "iopub.status.idle": "2023-09-16T21:18:50.500809Z",
     "shell.execute_reply": "2023-09-16T21:18:50.499986Z",
     "shell.execute_reply.started": "2023-09-16T21:18:50.495247Z"
    },
    "tags": []
   },
   "outputs": [],
   "source": [
    "# Training step\n",
    "@jax.jit\n",
    "def train_step(state, batch):\n",
    "  \"\"\"Train for a single step.\"\"\"\n",
    "  def loss_fn(params):\n",
    "    logits = state.apply_fn({'params': params}, batch['image'])\n",
    "    loss = optax.softmax_cross_entropy_with_integer_labels(\n",
    "        logits=logits, labels=batch['label']).mean()\n",
    "    return loss\n",
    "  grad_fn = jax.grad(loss_fn)\n",
    "  grads = grad_fn(state.params)\n",
    "  state = state.apply_gradients(grads=grads)\n",
    "  return state"
   ]
  },
  {
   "cell_type": "code",
   "execution_count": 13,
   "id": "392a5537-49bd-4139-986e-6eef5d9a0ca6",
   "metadata": {
    "execution": {
     "iopub.execute_input": "2023-09-16T21:19:07.781097Z",
     "iopub.status.busy": "2023-09-16T21:19:07.780827Z",
     "iopub.status.idle": "2023-09-16T21:19:07.787505Z",
     "shell.execute_reply": "2023-09-16T21:19:07.785928Z",
     "shell.execute_reply.started": "2023-09-16T21:19:07.781072Z"
    },
    "tags": []
   },
   "outputs": [],
   "source": [
    "# Metric computation\n",
    "@jax.jit\n",
    "def compute_metrics(*, state, batch):\n",
    "  logits = state.apply_fn({'params': state.params}, batch['image'])\n",
    "  loss = optax.softmax_cross_entropy_with_integer_labels(\n",
    "        logits=logits, labels=batch['label']).mean()\n",
    "  metric_updates = state.metrics.single_from_model_output(\n",
    "    logits=logits, labels=batch['label'], loss=loss)\n",
    "  metrics = state.metrics.merge(metric_updates)\n",
    "  state = state.replace(metrics=metrics)\n",
    "  return state"
   ]
  },
  {
   "cell_type": "code",
   "execution_count": 16,
   "id": "b52c6c82-9314-47a4-80d7-8d31120810d6",
   "metadata": {
    "execution": {
     "iopub.execute_input": "2023-09-16T21:20:11.154242Z",
     "iopub.status.busy": "2023-09-16T21:20:11.153861Z",
     "iopub.status.idle": "2023-09-16T21:20:11.902154Z",
     "shell.execute_reply": "2023-09-16T21:20:11.901220Z",
     "shell.execute_reply.started": "2023-09-16T21:20:11.154223Z"
    },
    "tags": []
   },
   "outputs": [],
   "source": [
    "# Download data\n",
    "num_epochs = 10\n",
    "batch_size = 32\n",
    "\n",
    "train_ds, test_ds = get_datasets(num_epochs, batch_size)"
   ]
  },
  {
   "cell_type": "code",
   "execution_count": 20,
   "id": "53511ab2-b6fa-4b6c-9dee-074afdeb705a",
   "metadata": {
    "execution": {
     "iopub.execute_input": "2023-09-16T21:21:01.709563Z",
     "iopub.status.busy": "2023-09-16T21:21:01.708726Z",
     "iopub.status.idle": "2023-09-16T21:21:01.718456Z",
     "shell.execute_reply": "2023-09-16T21:21:01.717482Z",
     "shell.execute_reply.started": "2023-09-16T21:21:01.709527Z"
    },
    "tags": []
   },
   "outputs": [],
   "source": [
    "# Seed randomness\n",
    "tf.random.set_seed(0)\n",
    "init_rng = jax.random.key(0)"
   ]
  },
  {
   "cell_type": "code",
   "execution_count": 21,
   "id": "53316203-8b22-4582-a4f7-260061ba786b",
   "metadata": {
    "execution": {
     "iopub.execute_input": "2023-09-16T21:21:26.466476Z",
     "iopub.status.busy": "2023-09-16T21:21:26.466041Z",
     "iopub.status.idle": "2023-09-16T21:21:30.373480Z",
     "shell.execute_reply": "2023-09-16T21:21:30.372572Z",
     "shell.execute_reply.started": "2023-09-16T21:21:26.466434Z"
    },
    "tags": []
   },
   "outputs": [],
   "source": [
    "# Initialize the TrainState\n",
    "learning_rate = 0.01\n",
    "momentum = 0.9\n",
    "\n",
    "state = create_train_state(cnn, init_rng, learning_rate, momentum)\n",
    "del init_rng  # Must not be used anymore."
   ]
  },
  {
   "cell_type": "code",
   "execution_count": 22,
   "id": "d17b6ac3-cf8b-4d6d-9fb6-2933f9d8e072",
   "metadata": {
    "execution": {
     "iopub.execute_input": "2023-09-16T21:22:20.979306Z",
     "iopub.status.busy": "2023-09-16T21:22:20.978935Z",
     "iopub.status.idle": "2023-09-16T21:23:12.452979Z",
     "shell.execute_reply": "2023-09-16T21:23:12.452240Z",
     "shell.execute_reply.started": "2023-09-16T21:22:20.979280Z"
    },
    "tags": []
   },
   "outputs": [
    {
     "name": "stdout",
     "output_type": "stream",
     "text": [
      "train epoch: 1, loss: 0.20215867459774017, accuracy: 93.79499816894531\n",
      "test epoch: 1, loss: 0.07719115912914276, accuracy: 97.4959945678711\n",
      "train epoch: 2, loss: 0.0593988299369812, accuracy: 98.17333221435547\n",
      "test epoch: 2, loss: 0.05029089003801346, accuracy: 98.41746520996094\n",
      "train epoch: 3, loss: 0.03973779454827309, accuracy: 98.82333374023438\n",
      "test epoch: 3, loss: 0.04721147194504738, accuracy: 98.50761413574219\n",
      "train epoch: 4, loss: 0.028541523963212967, accuracy: 99.15166473388672\n",
      "test epoch: 4, loss: 0.03852767124772072, accuracy: 98.84815979003906\n",
      "train epoch: 5, loss: 0.02252519130706787, accuracy: 99.34000396728516\n",
      "test epoch: 5, loss: 0.033215705305337906, accuracy: 98.88822174072266\n",
      "train epoch: 6, loss: 0.017439551651477814, accuracy: 99.51000213623047\n",
      "test epoch: 6, loss: 0.037596695125103, accuracy: 98.828125\n",
      "train epoch: 7, loss: 0.013739250600337982, accuracy: 99.66500091552734\n",
      "test epoch: 7, loss: 0.03493726998567581, accuracy: 98.91827392578125\n",
      "train epoch: 8, loss: 0.011380487121641636, accuracy: 99.70000457763672\n",
      "test epoch: 8, loss: 0.04208939149975777, accuracy: 98.828125\n",
      "train epoch: 9, loss: 0.009161831811070442, accuracy: 99.78666687011719\n",
      "test epoch: 9, loss: 0.03517565876245499, accuracy: 98.94831848144531\n",
      "train epoch: 10, loss: 0.00759822316467762, accuracy: 99.84666442871094\n",
      "test epoch: 10, loss: 0.04149327427148819, accuracy: 98.88822174072266\n"
     ]
    }
   ],
   "source": [
    "# Train and evaluate\n",
    "\n",
    "# since train_ds is replicated num_epochs times in get_datasets(), we divide by num_epochs\n",
    "num_steps_per_epoch = train_ds.cardinality().numpy() // num_epochs\n",
    "\n",
    "metrics_history = {'train_loss': [],\n",
    "                   'train_accuracy': [],\n",
    "                   'test_loss': [],\n",
    "                   'test_accuracy': []}\n",
    "\n",
    "for step,batch in enumerate(train_ds.as_numpy_iterator()):\n",
    "\n",
    "  # Run optimization steps over training batches and compute batch metrics\n",
    "  state = train_step(state, batch) # get updated train state (which contains the updated parameters)\n",
    "  state = compute_metrics(state=state, batch=batch) # aggregate batch metrics\n",
    "\n",
    "  if (step+1) % num_steps_per_epoch == 0: # one training epoch has passed\n",
    "    for metric,value in state.metrics.compute().items(): # compute metrics\n",
    "      metrics_history[f'train_{metric}'].append(value) # record metrics\n",
    "    state = state.replace(metrics=state.metrics.empty()) # reset train_metrics for next training epoch\n",
    "\n",
    "    # Compute metrics on the test set after each training epoch\n",
    "    test_state = state\n",
    "    for test_batch in test_ds.as_numpy_iterator():\n",
    "      test_state = compute_metrics(state=test_state, batch=test_batch)\n",
    "\n",
    "    for metric,value in test_state.metrics.compute().items():\n",
    "      metrics_history[f'test_{metric}'].append(value)\n",
    "\n",
    "    print(f\"train epoch: {(step+1) // num_steps_per_epoch}, \"\n",
    "          f\"loss: {metrics_history['train_loss'][-1]}, \"\n",
    "          f\"accuracy: {metrics_history['train_accuracy'][-1] * 100}\")\n",
    "    print(f\"test epoch: {(step+1) // num_steps_per_epoch}, \"\n",
    "          f\"loss: {metrics_history['test_loss'][-1]}, \"\n",
    "          f\"accuracy: {metrics_history['test_accuracy'][-1] * 100}\")"
   ]
  },
  {
   "cell_type": "code",
   "execution_count": 23,
   "id": "1a3af721-a1ce-4449-a8e7-59123cf4abaf",
   "metadata": {
    "execution": {
     "iopub.execute_input": "2023-09-16T21:23:33.566161Z",
     "iopub.status.busy": "2023-09-16T21:23:33.565790Z",
     "iopub.status.idle": "2023-09-16T21:23:34.615380Z",
     "shell.execute_reply": "2023-09-16T21:23:34.614662Z",
     "shell.execute_reply.started": "2023-09-16T21:23:33.566138Z"
    },
    "tags": []
   },
   "outputs": [
    {
     "data": {
      "image/png": "[encoded data removed]",
      "text/plain": [
       "<Figure size 1080x360 with 2 Axes>"
      ]
     },
     "metadata": {
      "needs_background": "light"
     },
     "output_type": "display_data"
    },
    {
     "data": {
      "text/plain": [
       "<Figure size 432x288 with 0 Axes>"
      ]
     },
     "metadata": {},
     "output_type": "display_data"
    }
   ],
   "source": [
    "# Visualize metrics\n",
    "import matplotlib.pyplot as plt  # Visualization\n",
    "\n",
    "# Plot loss and accuracy in subplots\n",
    "fig, (ax1, ax2) = plt.subplots(1, 2, figsize=(15, 5))\n",
    "ax1.set_title('Loss')\n",
    "ax2.set_title('Accuracy')\n",
    "for dataset in ('train','test'):\n",
    "  ax1.plot(metrics_history[f'{dataset}_loss'], label=f'{dataset}_loss')\n",
    "  ax2.plot(metrics_history[f'{dataset}_accuracy'], label=f'{dataset}_accuracy')\n",
    "ax1.legend()\n",
    "ax2.legend()\n",
    "plt.show()\n",
    "plt.clf()"
   ]
  },
  {
   "cell_type": "code",
   "execution_count": 24,
   "id": "e3531ed9-8594-42fa-b459-a1099b780262",
   "metadata": {
    "execution": {
     "iopub.execute_input": "2023-09-16T21:24:15.279226Z",
     "iopub.status.busy": "2023-09-16T21:24:15.278637Z",
     "iopub.status.idle": "2023-09-16T21:24:17.184979Z",
     "shell.execute_reply": "2023-09-16T21:24:17.183862Z",
     "shell.execute_reply.started": "2023-09-16T21:24:15.279200Z"
    },
    "tags": []
   },
   "outputs": [
    {
     "data": {
      "image/png": "[encoded data removed]",
      "text/plain": [
       "<Figure size 864x864 with 25 Axes>"
      ]
     },
     "metadata": {
      "needs_background": "light"
     },
     "output_type": "display_data"
    }
   ],
   "source": [
    "# Perform inference on test set\n",
    "@jax.jit\n",
    "def pred_step(state, batch):\n",
    "  logits = state.apply_fn({'params': state.params}, test_batch['image'])\n",
    "  return logits.argmax(axis=1)\n",
    "\n",
    "test_batch = test_ds.as_numpy_iterator().next()\n",
    "pred = pred_step(state, test_batch)\n",
    "\n",
    "fig, axs = plt.subplots(5, 5, figsize=(12, 12))\n",
    "for i, ax in enumerate(axs.flatten()):\n",
    "    ax.imshow(test_batch['image'][i, ..., 0], cmap='gray')\n",
    "    ax.set_title(f\"label={pred[i]}\")\n",
    "    ax.axis('off')"
   ]
  }
 ],
 "metadata": {
  "kernelspec": {
   "display_name": "Python 3 (ipykernel)",
   "language": "python",
   "name": "python3"
  },
  "language_info": {
   "codemirror_mode": {
    "name": "ipython",
    "version": 3
   },
   "file_extension": ".py",
   "mimetype": "text/x-python",
   "name": "python",
   "nbconvert_exporter": "python",
   "pygments_lexer": "ipython3",
   "version": "3.12.3"
  }
 },
 "nbformat": 4,
 "nbformat_minor": 5
}
