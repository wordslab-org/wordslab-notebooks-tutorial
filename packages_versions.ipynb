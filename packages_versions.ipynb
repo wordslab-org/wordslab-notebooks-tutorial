{
 "cells": [
  {
   "cell_type": "markdown",
   "id": "9e9b40a5-7d43-4a35-bfa0-037aa2fcd69f",
   "metadata": {},
   "source": [
    "# Installed packages versions"
   ]
  },
  {
   "cell_type": "markdown",
   "id": "03a60ba2-23a5-4831-b5f6-9700d3ceb279",
   "metadata": {},
   "source": [
    "## Python packages"
   ]
  },
  {
   "cell_type": "code",
   "execution_count": 8,
   "id": "5c2aa311-5c7b-42b0-bebc-aad0c1c4552c",
   "metadata": {
    "execution": {
     "iopub.execute_input": "2023-09-16T12:59:12.832005Z",
     "iopub.status.busy": "2023-09-16T12:59:12.831741Z",
     "iopub.status.idle": "2023-09-16T12:59:12.835712Z",
     "shell.execute_reply": "2023-09-16T12:59:12.834856Z",
     "shell.execute_reply.started": "2023-09-16T12:59:12.831984Z"
    },
    "tags": []
   },
   "outputs": [],
   "source": [
    "import importlib.metadata"
   ]
  },
  {
   "cell_type": "markdown",
   "id": "5920ae9f-75e5-4908-b370-104b9bee3427",
   "metadata": {
    "execution": {
     "iopub.execute_input": "2023-09-16T12:52:25.153002Z",
     "iopub.status.busy": "2023-09-16T12:52:25.152040Z",
     "iopub.status.idle": "2023-09-16T12:52:25.165138Z",
     "shell.execute_reply": "2023-09-16T12:52:25.163485Z",
     "shell.execute_reply.started": "2023-09-16T12:52:25.152853Z"
    },
    "tags": []
   },
   "source": [
    "### Python runtime & utilities"
   ]
  },
  {
   "cell_type": "markdown",
   "id": "6911e59e-9f74-43a6-882a-c163097309c1",
   "metadata": {},
   "source": [
    "**python**\n",
    "\n",
    "Python is a programming language that lets you work quickly and integrate systems more effectively.\n",
    "\n",
    "https://www.python.org/"
   ]
  },
  {
   "cell_type": "code",
   "execution_count": 3,
   "id": "270d7504-96bc-4804-97f2-2ff236feadb8",
   "metadata": {
    "execution": {
     "iopub.execute_input": "2023-09-16T12:56:25.251980Z",
     "iopub.status.busy": "2023-09-16T12:56:25.251714Z",
     "iopub.status.idle": "2023-09-16T12:56:25.383813Z",
     "shell.execute_reply": "2023-09-16T12:56:25.382216Z",
     "shell.execute_reply.started": "2023-09-16T12:56:25.251964Z"
    },
    "tags": []
   },
   "outputs": [
    {
     "name": "stdout",
     "output_type": "stream",
     "text": [
      "Python 3.10.12\n"
     ]
    }
   ],
   "source": [
    "!python --version"
   ]
  },
  {
   "cell_type": "markdown",
   "id": "3b0c1068-de53-465d-9485-dd6947f66a5a",
   "metadata": {},
   "source": [
    "**ipython**\n",
    "\n",
    "IPython provides a rich toolkit to help you make the most out of using Python interactively.\n",
    "\n",
    "https://ipython.org/"
   ]
  },
  {
   "cell_type": "code",
   "execution_count": 7,
   "id": "c34cc6d1-639d-4ce4-84ea-8b1c1c3ec676",
   "metadata": {
    "execution": {
     "iopub.execute_input": "2023-09-16T12:59:00.957283Z",
     "iopub.status.busy": "2023-09-16T12:59:00.957042Z",
     "iopub.status.idle": "2023-09-16T12:59:00.966031Z",
     "shell.execute_reply": "2023-09-16T12:59:00.965280Z",
     "shell.execute_reply.started": "2023-09-16T12:59:00.957266Z"
    },
    "tags": []
   },
   "outputs": [
    {
     "data": {
      "text/plain": [
       "'7.31.1'"
      ]
     },
     "execution_count": 7,
     "metadata": {},
     "output_type": "execute_result"
    }
   ],
   "source": [
    "importlib.metadata.version('ipython')"
   ]
  },
  {
   "cell_type": "markdown",
   "id": "baf32ae3-fdb1-42fe-8ea5-bbfa4ddebbc1",
   "metadata": {},
   "source": [
    "**pip**\n",
    "\n",
    "pip is the package installer for Python. You can use pip to install packages from the Python Package Index and other indexes.\n",
    "\n",
    "https://pip.pypa.io/"
   ]
  },
  {
   "cell_type": "code",
   "execution_count": 9,
   "id": "2e1fc1c1-8569-48c2-9d0e-9babdc790782",
   "metadata": {
    "execution": {
     "iopub.execute_input": "2023-09-16T12:59:53.235542Z",
     "iopub.status.busy": "2023-09-16T12:59:53.235215Z",
     "iopub.status.idle": "2023-09-16T12:59:53.254269Z",
     "shell.execute_reply": "2023-09-16T12:59:53.253406Z",
     "shell.execute_reply.started": "2023-09-16T12:59:53.235518Z"
    },
    "tags": []
   },
   "outputs": [
    {
     "data": {
      "text/plain": [
       "'22.0.2'"
      ]
     },
     "execution_count": 9,
     "metadata": {},
     "output_type": "execute_result"
    }
   ],
   "source": [
    "importlib.metadata.version('pip')"
   ]
  },
  {
   "cell_type": "markdown",
   "id": "d936d46d-8583-4004-81c5-ec23d83d8512",
   "metadata": {},
   "source": [
    "**Pillow**\n",
    "\n",
    "Python Imaging Library (Fork).\n",
    "\n",
    "https://pillow.readthedocs.io/"
   ]
  },
  {
   "cell_type": "code",
   "execution_count": 26,
   "id": "b84f6a66-890c-40fc-9ddb-a7b2c47f3307",
   "metadata": {
    "execution": {
     "iopub.execute_input": "2023-09-16T13:20:42.828367Z",
     "iopub.status.busy": "2023-09-16T13:20:42.828050Z",
     "iopub.status.idle": "2023-09-16T13:20:42.834981Z",
     "shell.execute_reply": "2023-09-16T13:20:42.834012Z",
     "shell.execute_reply.started": "2023-09-16T13:20:42.828342Z"
    },
    "tags": []
   },
   "outputs": [
    {
     "data": {
      "text/plain": [
       "'9.0.1'"
      ]
     },
     "execution_count": 26,
     "metadata": {},
     "output_type": "execute_result"
    }
   ],
   "source": [
    "importlib.metadata.version('Pillow')"
   ]
  },
  {
   "cell_type": "markdown",
   "id": "8bf93a6f-3f79-45b5-9ee7-2a0409442782",
   "metadata": {},
   "source": [
    "### Data analysis"
   ]
  },
  {
   "cell_type": "markdown",
   "id": "876fa6c9-30d0-4617-b82c-b0ca9d6a89fa",
   "metadata": {
    "execution": {
     "iopub.execute_input": "2023-09-16T13:00:37.723742Z",
     "iopub.status.busy": "2023-09-16T13:00:37.723472Z",
     "iopub.status.idle": "2023-09-16T13:00:37.730043Z",
     "shell.execute_reply": "2023-09-16T13:00:37.728896Z",
     "shell.execute_reply.started": "2023-09-16T13:00:37.723723Z"
    },
    "tags": []
   },
   "source": [
    "**pandas**\n",
    "\n",
    "pandas is a Python package that provides fast, flexible, and expressive data structures designed to make working with \"relational\" or \"labeled\" data both easy and intuitive. \n",
    "\n",
    "https://pandas.pydata.org/docs/"
   ]
  },
  {
   "cell_type": "code",
   "execution_count": 11,
   "id": "4283d63a-7882-4d8c-bdb4-bb096326f09e",
   "metadata": {
    "execution": {
     "iopub.execute_input": "2023-09-16T13:00:56.969106Z",
     "iopub.status.busy": "2023-09-16T13:00:56.968800Z",
     "iopub.status.idle": "2023-09-16T13:00:56.977648Z",
     "shell.execute_reply": "2023-09-16T13:00:56.976960Z",
     "shell.execute_reply.started": "2023-09-16T13:00:56.969087Z"
    },
    "tags": []
   },
   "outputs": [
    {
     "data": {
      "text/plain": [
       "'1.3.5'"
      ]
     },
     "execution_count": 11,
     "metadata": {},
     "output_type": "execute_result"
    }
   ],
   "source": [
    "importlib.metadata.version('pandas')"
   ]
  },
  {
   "cell_type": "markdown",
   "id": "dd812ebd-9cb2-4c68-a591-4fca792082e0",
   "metadata": {},
   "source": [
    "**Matplotlib**\n",
    "\n",
    "Matplotlib is a comprehensive library for creating static, animated, and interactive visualizations in Python.\n",
    "\n",
    "https://matplotlib.org/"
   ]
  },
  {
   "cell_type": "code",
   "execution_count": 22,
   "id": "d88fef64-de02-47b0-ad3e-6af64baba7f7",
   "metadata": {
    "execution": {
     "iopub.execute_input": "2023-09-16T13:09:08.260547Z",
     "iopub.status.busy": "2023-09-16T13:09:08.260289Z",
     "iopub.status.idle": "2023-09-16T13:09:08.266896Z",
     "shell.execute_reply": "2023-09-16T13:09:08.266153Z",
     "shell.execute_reply.started": "2023-09-16T13:09:08.260517Z"
    },
    "tags": []
   },
   "outputs": [
    {
     "data": {
      "text/plain": [
       "'3.8.0'"
      ]
     },
     "execution_count": 22,
     "metadata": {},
     "output_type": "execute_result"
    }
   ],
   "source": [
    "importlib.metadata.version('matplotlib')"
   ]
  },
  {
   "cell_type": "markdown",
   "id": "741805b6-a45d-4a39-9be9-f7790365ddd7",
   "metadata": {
    "execution": {
     "iopub.execute_input": "2023-09-16T13:10:55.922395Z",
     "iopub.status.busy": "2023-09-16T13:10:55.922150Z",
     "iopub.status.idle": "2023-09-16T13:10:55.928818Z",
     "shell.execute_reply": "2023-09-16T13:10:55.927430Z",
     "shell.execute_reply.started": "2023-09-16T13:10:55.922378Z"
    },
    "tags": []
   },
   "source": [
    "**Bokeh**\n",
    "\n",
    "Bokeh is an interactive visualization library for modern web browsers.\n",
    "\n",
    "https://bokeh.org/"
   ]
  },
  {
   "cell_type": "code",
   "execution_count": 24,
   "id": "59b9ecb1-8f29-4737-a86e-a38e33119612",
   "metadata": {
    "execution": {
     "iopub.execute_input": "2023-09-16T13:11:11.535171Z",
     "iopub.status.busy": "2023-09-16T13:11:11.534798Z",
     "iopub.status.idle": "2023-09-16T13:11:11.542503Z",
     "shell.execute_reply": "2023-09-16T13:11:11.541583Z",
     "shell.execute_reply.started": "2023-09-16T13:11:11.535149Z"
    },
    "tags": []
   },
   "outputs": [
    {
     "data": {
      "text/plain": [
       "'3.2.2'"
      ]
     },
     "execution_count": 24,
     "metadata": {},
     "output_type": "execute_result"
    }
   ],
   "source": [
    "importlib.metadata.version('bokeh')"
   ]
  },
  {
   "cell_type": "markdown",
   "id": "2591fe18-2823-440a-8d67-6abc5c16fee8",
   "metadata": {},
   "source": [
    "**h5py**\n",
    "\n",
    "Read and write HDF5 files from Python.\n",
    "\n",
    "https://www.h5py.org/"
   ]
  },
  {
   "cell_type": "code",
   "execution_count": 25,
   "id": "6d1b152c-a8c4-47cf-af9d-a2d06c956894",
   "metadata": {
    "execution": {
     "iopub.execute_input": "2023-09-16T13:19:22.994954Z",
     "iopub.status.busy": "2023-09-16T13:19:22.994664Z",
     "iopub.status.idle": "2023-09-16T13:19:23.004242Z",
     "shell.execute_reply": "2023-09-16T13:19:23.003079Z",
     "shell.execute_reply.started": "2023-09-16T13:19:22.994927Z"
    },
    "tags": []
   },
   "outputs": [
    {
     "data": {
      "text/plain": [
       "'3.6.0'"
      ]
     },
     "execution_count": 25,
     "metadata": {},
     "output_type": "execute_result"
    }
   ],
   "source": [
    "importlib.metadata.version('h5py')"
   ]
  },
  {
   "cell_type": "markdown",
   "id": "4a2c2f8e-da55-461c-9df1-0dc5850b227f",
   "metadata": {},
   "source": [
    "### Machine learning & Deep learning"
   ]
  },
  {
   "cell_type": "markdown",
   "id": "1569d9d0-c573-4678-8f21-e5189c2fa504",
   "metadata": {},
   "source": [
    "**PyTorch**\n",
    "\n",
    "PyTorch is a Python package that provides two high-level features: Tensor computation (like NumPy) with strong GPU acceleration, Deep neural networks built on a tape-based autograd system.\n",
    "\n",
    "https://pytorch.org/"
   ]
  },
  {
   "cell_type": "code",
   "execution_count": 12,
   "id": "526e6c11-d129-48b3-9e6b-dbbbd63556fa",
   "metadata": {
    "execution": {
     "iopub.execute_input": "2023-09-16T13:01:22.635990Z",
     "iopub.status.busy": "2023-09-16T13:01:22.635682Z",
     "iopub.status.idle": "2023-09-16T13:01:22.643971Z",
     "shell.execute_reply": "2023-09-16T13:01:22.643200Z",
     "shell.execute_reply.started": "2023-09-16T13:01:22.635968Z"
    },
    "tags": []
   },
   "outputs": [
    {
     "data": {
      "text/plain": [
       "'2.0.1'"
      ]
     },
     "execution_count": 12,
     "metadata": {},
     "output_type": "execute_result"
    }
   ],
   "source": [
    "importlib.metadata.version('torch')"
   ]
  },
  {
   "cell_type": "markdown",
   "id": "7944590e-2154-42ab-ac8f-192ba1abf4c1",
   "metadata": {},
   "source": [
    "**torchvision**\n",
    "\n",
    "The torchvision package consists of popular datasets, model architectures, and common image transformations for computer vision.\n",
    "\n",
    "https://github.com/pytorch/vision"
   ]
  },
  {
   "cell_type": "code",
   "execution_count": 13,
   "id": "7abaac97-a229-4ac2-bbe4-d683f2eacf99",
   "metadata": {
    "execution": {
     "iopub.execute_input": "2023-09-16T13:02:22.146180Z",
     "iopub.status.busy": "2023-09-16T13:02:22.145883Z",
     "iopub.status.idle": "2023-09-16T13:02:22.152978Z",
     "shell.execute_reply": "2023-09-16T13:02:22.152193Z",
     "shell.execute_reply.started": "2023-09-16T13:02:22.146160Z"
    },
    "tags": []
   },
   "outputs": [
    {
     "data": {
      "text/plain": [
       "'0.15.2'"
      ]
     },
     "execution_count": 13,
     "metadata": {},
     "output_type": "execute_result"
    }
   ],
   "source": [
    "importlib.metadata.version('torchvision')"
   ]
  },
  {
   "cell_type": "markdown",
   "id": "5924b8fe-5b51-4955-916a-5dd82d4cc98e",
   "metadata": {},
   "source": [
    "**Tensorflow**\n",
    "\n",
    "TensorFlow is an open source software library for high performance numerical computation. Its flexible architecture allows easy deployment of computation across a variety of platforms (CPUs, GPUs, TPUs), and from desktops to clusters of servers to mobile and edge devices.\n",
    "\n",
    "https://www.tensorflow.org/"
   ]
  },
  {
   "cell_type": "code",
   "execution_count": 14,
   "id": "90358d6c-fd84-4bee-88c3-e26b9c08659e",
   "metadata": {
    "execution": {
     "iopub.execute_input": "2023-09-16T13:02:55.050355Z",
     "iopub.status.busy": "2023-09-16T13:02:55.050082Z",
     "iopub.status.idle": "2023-09-16T13:02:55.058624Z",
     "shell.execute_reply": "2023-09-16T13:02:55.057657Z",
     "shell.execute_reply.started": "2023-09-16T13:02:55.050328Z"
    },
    "tags": []
   },
   "outputs": [
    {
     "data": {
      "text/plain": [
       "'2.13.0'"
      ]
     },
     "execution_count": 14,
     "metadata": {},
     "output_type": "execute_result"
    }
   ],
   "source": [
    "importlib.metadata.version('tensorflow')"
   ]
  },
  {
   "cell_type": "markdown",
   "id": "c4677557-afd4-4804-8954-436515091caf",
   "metadata": {},
   "source": [
    "**Keras**\n",
    "\n",
    "Keras is a deep learning API written in Python, running on top of the machine learning platform TensorFlow.\n",
    "\n",
    "https://keras.io/"
   ]
  },
  {
   "cell_type": "code",
   "execution_count": 15,
   "id": "4a8d3466-6ee0-43e1-ba03-f4f2441d9be2",
   "metadata": {
    "execution": {
     "iopub.execute_input": "2023-09-16T13:03:33.865044Z",
     "iopub.status.busy": "2023-09-16T13:03:33.864753Z",
     "iopub.status.idle": "2023-09-16T13:03:33.870082Z",
     "shell.execute_reply": "2023-09-16T13:03:33.869336Z",
     "shell.execute_reply.started": "2023-09-16T13:03:33.865027Z"
    },
    "tags": []
   },
   "outputs": [
    {
     "data": {
      "text/plain": [
       "'2.13.1'"
      ]
     },
     "execution_count": 15,
     "metadata": {},
     "output_type": "execute_result"
    }
   ],
   "source": [
    "importlib.metadata.version('keras')"
   ]
  },
  {
   "cell_type": "markdown",
   "id": "a7577a43-6e21-46c9-8066-c18531cd03ad",
   "metadata": {},
   "source": [
    "**NumPy**\n",
    "\n",
    "NumPy is the fundamental package for scientific computing with Python.\n",
    "\n",
    "https://numpy.org/doc/1.25"
   ]
  },
  {
   "cell_type": "code",
   "execution_count": 16,
   "id": "5cc6d0e1-646c-4502-862a-713c0d84065d",
   "metadata": {
    "execution": {
     "iopub.execute_input": "2023-09-16T13:04:02.198601Z",
     "iopub.status.busy": "2023-09-16T13:04:02.197762Z",
     "iopub.status.idle": "2023-09-16T13:04:02.204624Z",
     "shell.execute_reply": "2023-09-16T13:04:02.203704Z",
     "shell.execute_reply.started": "2023-09-16T13:04:02.198578Z"
    },
    "tags": []
   },
   "outputs": [
    {
     "data": {
      "text/plain": [
       "'1.21.5'"
      ]
     },
     "execution_count": 16,
     "metadata": {},
     "output_type": "execute_result"
    }
   ],
   "source": [
    "importlib.metadata.version('numpy')"
   ]
  },
  {
   "cell_type": "markdown",
   "id": "77236653-1bff-4a26-ae8d-17686a38057d",
   "metadata": {},
   "source": [
    "**JAX**\n",
    "\n",
    "JAX is Autograd and XLA, brought together for high-performance machine learning research.\n",
    "\n",
    "https://github.com/google/jax"
   ]
  },
  {
   "cell_type": "code",
   "execution_count": 17,
   "id": "e51c0551-daf3-4409-be4c-dce7304267d7",
   "metadata": {
    "execution": {
     "iopub.execute_input": "2023-09-16T13:04:52.053124Z",
     "iopub.status.busy": "2023-09-16T13:04:52.052896Z",
     "iopub.status.idle": "2023-09-16T13:04:52.060565Z",
     "shell.execute_reply": "2023-09-16T13:04:52.059747Z",
     "shell.execute_reply.started": "2023-09-16T13:04:52.053107Z"
    },
    "tags": []
   },
   "outputs": [
    {
     "data": {
      "text/plain": [
       "'0.4.13'"
      ]
     },
     "execution_count": 17,
     "metadata": {},
     "output_type": "execute_result"
    }
   ],
   "source": [
    "importlib.metadata.version('jax')"
   ]
  },
  {
   "cell_type": "markdown",
   "id": "3f3b3329-d27d-4745-b280-5e273b68a2cf",
   "metadata": {},
   "source": [
    "**scikit-learn**\n",
    "\n",
    "scikit-learn is a Python module for machine learning built on top of SciPy.\n",
    "\n",
    "https://scikit-learn.org/stable/documentation.html"
   ]
  },
  {
   "cell_type": "code",
   "execution_count": 18,
   "id": "87a0e73a-3064-461e-aaaf-2e4c99bee11f",
   "metadata": {
    "execution": {
     "iopub.execute_input": "2023-09-16T13:05:17.959651Z",
     "iopub.status.busy": "2023-09-16T13:05:17.959409Z",
     "iopub.status.idle": "2023-09-16T13:05:17.966827Z",
     "shell.execute_reply": "2023-09-16T13:05:17.965718Z",
     "shell.execute_reply.started": "2023-09-16T13:05:17.959636Z"
    },
    "tags": []
   },
   "outputs": [
    {
     "data": {
      "text/plain": [
       "'0.23.2'"
      ]
     },
     "execution_count": 18,
     "metadata": {},
     "output_type": "execute_result"
    }
   ],
   "source": [
    "importlib.metadata.version('scikit-learn')"
   ]
  },
  {
   "cell_type": "markdown",
   "id": "04846f94-6c97-477c-8206-7b86f8f83f1d",
   "metadata": {},
   "source": [
    "**SciPy**\n",
    "\n",
    "SciPy (pronounced “Sigh Pie”) is an open-source software for mathematics, science, and engineering. It includes modules for statistics, optimization, integration, linear algebra, Fourier transforms, signal and image processing, ODE solvers, and more.\n",
    "\n",
    "https://docs.scipy.org/doc/scipy/"
   ]
  },
  {
   "cell_type": "code",
   "execution_count": 19,
   "id": "81b40b9e-585d-4fba-aee6-22aba37c4740",
   "metadata": {
    "execution": {
     "iopub.execute_input": "2023-09-16T13:06:22.088277Z",
     "iopub.status.busy": "2023-09-16T13:06:22.087471Z",
     "iopub.status.idle": "2023-09-16T13:06:22.098722Z",
     "shell.execute_reply": "2023-09-16T13:06:22.098245Z",
     "shell.execute_reply.started": "2023-09-16T13:06:22.088253Z"
    },
    "tags": []
   },
   "outputs": [
    {
     "data": {
      "text/plain": [
       "'1.8.0'"
      ]
     },
     "execution_count": 19,
     "metadata": {},
     "output_type": "execute_result"
    }
   ],
   "source": [
    "importlib.metadata.version('scipy')"
   ]
  },
  {
   "cell_type": "markdown",
   "id": "189b36a6-b145-48cb-8d84-cb3ffeda6915",
   "metadata": {},
   "source": [
    "**mpmath**\n",
    "\n",
    "A Python library for arbitrary-precision floating-point arithmetic.\n",
    "\n",
    "http://mpmath.org/doc/current/"
   ]
  },
  {
   "cell_type": "code",
   "execution_count": 20,
   "id": "f4672e87-5799-4c27-8702-7f5fac33c4fe",
   "metadata": {
    "execution": {
     "iopub.execute_input": "2023-09-16T13:06:45.306843Z",
     "iopub.status.busy": "2023-09-16T13:06:45.306566Z",
     "iopub.status.idle": "2023-09-16T13:06:45.314412Z",
     "shell.execute_reply": "2023-09-16T13:06:45.313064Z",
     "shell.execute_reply.started": "2023-09-16T13:06:45.306824Z"
    },
    "tags": []
   },
   "outputs": [
    {
     "data": {
      "text/plain": [
       "'0.0.0'"
      ]
     },
     "execution_count": 20,
     "metadata": {},
     "output_type": "execute_result"
    }
   ],
   "source": [
    "importlib.metadata.version('mpmath')"
   ]
  },
  {
   "cell_type": "markdown",
   "id": "abcba802-fd3f-4581-896f-64fb3631e560",
   "metadata": {},
   "source": [
    "**sympy**\n",
    "\n",
    "Python Library for Symbolic Mathematics.\n",
    "\n",
    "https://sympy.org/"
   ]
  },
  {
   "cell_type": "code",
   "execution_count": 21,
   "id": "a0e412a4-43b4-4733-8825-9562e8676e10",
   "metadata": {
    "execution": {
     "iopub.execute_input": "2023-09-16T13:07:07.245185Z",
     "iopub.status.busy": "2023-09-16T13:07:07.243546Z",
     "iopub.status.idle": "2023-09-16T13:07:07.251506Z",
     "shell.execute_reply": "2023-09-16T13:07:07.250832Z",
     "shell.execute_reply.started": "2023-09-16T13:07:07.245158Z"
    },
    "tags": []
   },
   "outputs": [
    {
     "data": {
      "text/plain": [
       "'1.9'"
      ]
     },
     "execution_count": 21,
     "metadata": {},
     "output_type": "execute_result"
    }
   ],
   "source": [
    "importlib.metadata.version('sympy')"
   ]
  },
  {
   "cell_type": "markdown",
   "id": "cf14d928-6c55-477b-b656-422e7403b658",
   "metadata": {},
   "source": [
    "### Requests & Web scraping"
   ]
  },
  {
   "cell_type": "markdown",
   "id": "4c4ba87a-cec7-4c19-a5ee-6c2f16862570",
   "metadata": {},
   "source": [
    "**requests**\n",
    "\n",
    "Requests allows you to send HTTP/1.1 requests extremely easily. \n",
    "\n",
    "https://requests.readthedocs.io/"
   ]
  },
  {
   "cell_type": "code",
   "execution_count": 28,
   "id": "5916b2bc-2bf4-44b4-bedd-f76bd44c995f",
   "metadata": {
    "execution": {
     "iopub.execute_input": "2023-09-16T13:25:29.730551Z",
     "iopub.status.busy": "2023-09-16T13:25:29.730136Z",
     "iopub.status.idle": "2023-09-16T13:25:29.738564Z",
     "shell.execute_reply": "2023-09-16T13:25:29.737482Z",
     "shell.execute_reply.started": "2023-09-16T13:25:29.730525Z"
    },
    "tags": []
   },
   "outputs": [
    {
     "data": {
      "text/plain": [
       "'2.31.0'"
      ]
     },
     "execution_count": 28,
     "metadata": {},
     "output_type": "execute_result"
    }
   ],
   "source": [
    "importlib.metadata.version('requests')"
   ]
  },
  {
   "cell_type": "markdown",
   "id": "0ed4cd6a-20ed-49af-b989-85b50c123b4d",
   "metadata": {},
   "source": [
    "**urllib3**\n",
    "\n",
    "urllib3 is a powerful, user-friendly HTTP client for Python. Much of the Python ecosystem already uses urllib3 and you should too. urllib3 brings many critical features that are missing from the Python standard libraries.\n",
    "\n",
    "https://urllib3.readthedocs.io/"
   ]
  },
  {
   "cell_type": "code",
   "execution_count": 29,
   "id": "fac1ec89-27a3-4359-94c4-fa240555eab3",
   "metadata": {
    "execution": {
     "iopub.execute_input": "2023-09-16T13:25:39.692033Z",
     "iopub.status.busy": "2023-09-16T13:25:39.691731Z",
     "iopub.status.idle": "2023-09-16T13:25:39.702383Z",
     "shell.execute_reply": "2023-09-16T13:25:39.701601Z",
     "shell.execute_reply.started": "2023-09-16T13:25:39.692013Z"
    },
    "tags": []
   },
   "outputs": [
    {
     "data": {
      "text/plain": [
       "'1.26.5'"
      ]
     },
     "execution_count": 29,
     "metadata": {},
     "output_type": "execute_result"
    }
   ],
   "source": [
    "importlib.metadata.version('urllib3')"
   ]
  },
  {
   "cell_type": "markdown",
   "id": "20594c0e-c543-4ee5-95f1-7aaee5c09b90",
   "metadata": {},
   "source": [
    "**Beautiful Soup**\n",
    "\n",
    "Beautiful Soup is a library that makes it easy to scrape information from web pages.\n",
    "\n",
    "https://www.crummy.com/software/BeautifulSoup/"
   ]
  },
  {
   "cell_type": "code",
   "execution_count": 31,
   "id": "c2528659-56ca-4206-9afb-5948beb1e65b",
   "metadata": {
    "execution": {
     "iopub.execute_input": "2023-09-16T13:27:11.301572Z",
     "iopub.status.busy": "2023-09-16T13:27:11.300737Z",
     "iopub.status.idle": "2023-09-16T13:27:11.306080Z",
     "shell.execute_reply": "2023-09-16T13:27:11.305489Z",
     "shell.execute_reply.started": "2023-09-16T13:27:11.301550Z"
    },
    "tags": []
   },
   "outputs": [
    {
     "data": {
      "text/plain": [
       "'4.12.2'"
      ]
     },
     "execution_count": 31,
     "metadata": {},
     "output_type": "execute_result"
    }
   ],
   "source": [
    "importlib.metadata.version('beautifulsoup4')"
   ]
  },
  {
   "cell_type": "markdown",
   "id": "00ebcb49-ab8b-446a-9c19-0afc163f0314",
   "metadata": {},
   "source": [
    "**Soup Sieve**\n",
    "\n",
    "Soup Sieve is a CSS selector library designed to be used with Beautiful Soup 4. It aims to provide selecting, matching, and filtering using modern CSS selectors. \n",
    "\n",
    "https://github.com/facelessuser/soupsieve"
   ]
  },
  {
   "cell_type": "code",
   "execution_count": 32,
   "id": "ac5416b4-5b8e-4db2-bcd9-d8722f403ebb",
   "metadata": {
    "execution": {
     "iopub.execute_input": "2023-09-16T13:27:26.569149Z",
     "iopub.status.busy": "2023-09-16T13:27:26.568801Z",
     "iopub.status.idle": "2023-09-16T13:27:26.576505Z",
     "shell.execute_reply": "2023-09-16T13:27:26.575742Z",
     "shell.execute_reply.started": "2023-09-16T13:27:26.569126Z"
    },
    "tags": []
   },
   "outputs": [
    {
     "data": {
      "text/plain": [
       "'2.5'"
      ]
     },
     "execution_count": 32,
     "metadata": {},
     "output_type": "execute_result"
    }
   ],
   "source": [
    "importlib.metadata.version('soupsieve')"
   ]
  },
  {
   "cell_type": "markdown",
   "id": "ef9120a1-786c-4f10-8d01-10309086117d",
   "metadata": {},
   "source": [
    "**google-auth**\n",
    "\n",
    "This library simplifies using Google’s various server-to-server authentication mechanisms to access Google APIs.\n",
    "\n",
    "https://github.com/googleapis/google-auth-library-python"
   ]
  },
  {
   "cell_type": "code",
   "execution_count": 33,
   "id": "88b629f6-9888-4357-9801-c12a944764b7",
   "metadata": {
    "execution": {
     "iopub.execute_input": "2023-09-16T13:27:45.667671Z",
     "iopub.status.busy": "2023-09-16T13:27:45.667408Z",
     "iopub.status.idle": "2023-09-16T13:27:45.673772Z",
     "shell.execute_reply": "2023-09-16T13:27:45.673077Z",
     "shell.execute_reply.started": "2023-09-16T13:27:45.667649Z"
    },
    "tags": []
   },
   "outputs": [
    {
     "data": {
      "text/plain": [
       "'1.5.1'"
      ]
     },
     "execution_count": 33,
     "metadata": {},
     "output_type": "execute_result"
    }
   ],
   "source": [
    "importlib.metadata.version('google-auth')"
   ]
  },
  {
   "cell_type": "markdown",
   "id": "5703cffc-c8c6-45e1-b8e9-23bfdef9419d",
   "metadata": {},
   "source": [
    "### Text parsing & cleaning"
   ]
  },
  {
   "cell_type": "markdown",
   "id": "a26af28e-308e-4693-9f00-52d407b481ea",
   "metadata": {},
   "source": [
    "charset-normalizer         3.2.0\n",
    "The first Universal Charset Detector.\n",
    "https://github.com/Ousret/charset_normalizer\n",
    "\n",
    "html5lib                   1.1\n",
    "html5lib is a pure-python library for parsing HTML. It is designed to conform to the WHATWG HTML specification, as is implemented by all major web browsers.\n",
    "https://github.com/html5lib/html5lib-python\n",
    "\n",
    "bleach                     4.1.0\n",
    "Bleach is an allowed-list-based HTML sanitizing library that escapes or strips markup and attributes.\n",
    "https://github.com/mozilla/bleach\n",
    "\n",
    "Markdown                   3.3.6\n",
    "This is a Python implementation of John Gruber's Markdown. It is almost completely compliant with the reference implementation.\n",
    "https://python-markdown.github.io/\n",
    "\n",
    "mistune                    3.0.1\n",
    "A fast yet powerful Python Markdown parser with renderers and plugins.\n",
    "https://mistune.lepture.com/\n",
    "\n",
    "PyYAML                     6.0.1\n",
    "PyYAML is a YAML parser and emitter for Python.\n",
    "https://pyyaml.org/wiki/PyYAMLDocumentation"
   ]
  },
  {
   "cell_type": "markdown",
   "id": "cc8d1477-3a21-4bd0-96b6-f374d10c7d57",
   "metadata": {},
   "source": [
    "### Jupyterlab & extensions"
   ]
  },
  {
   "cell_type": "markdown",
   "id": "ca466abf-e5ab-4f1a-ae8f-979d9aba3968",
   "metadata": {},
   "source": [
    "jupyterlab                 3.6.5\n",
    "An extensible environment for interactive and reproducible computing, based on the Jupyter Notebook and Architecture.\n",
    "https://jupyterlab.readthedocs.io/\n",
    "\n",
    "jupyterlab_server          2.25.0\n",
    "JupyterLab Server sits between JupyterLab and Jupyter Server, and provides a set of REST API handlers and utilities that are used by JupyterLab. \n",
    "https://jupyterlab-server.readthedocs.io/\n",
    "\n",
    "jupyter_server             2.7.3\n",
    "The Jupyter Server provides the backend (i.e. the core services, APIs, and REST endpoints) for Jupyter web applications like Jupyter notebook, JupyterLab, and Voila.\n",
    "https://jupyter-server.readthedocs.io/\n",
    "\n",
    "ipywidgets                 8.1.1\n",
    "ipywidgets, also known as jupyter-widgets or simply widgets, are interactive HTML widgets for Jupyter notebooks and the IPython kernel.\n",
    "http://jupyter.org/\n",
    "\n",
    "jupyterlab-execute-time    2.3.1\n",
    "Display cell timings in Jupyter Lab.\n",
    "https://github.com/deshaw/jupyterlab-execute-time\n",
    "\n",
    "jupyterlab_git             0.42.0\n",
    "A JupyterLab extension for version control using Git.\n",
    "https://github.com/jupyterlab/jupyterlab-git\n",
    "\n",
    "jupyterlab-nvdashboard     0.9.0\n",
    "A JupyterLab extension for displaying GPU usage dashboards.\n",
    "https://github.com/rapidsai/jupyterlab-nvdashboard\n",
    "\n",
    "jupyterlab-tensorboard-pro 0.8.0\n",
    "A JupyterLab extension for tensorboard.\n",
    "https://github.com/HFAiLab/jupyterlab_tensorboard_pro\n",
    "\n",
    "jupyterlab-widgets         3.0.9\n",
    "A JupyterLab 3.0 extension for Jupyter/IPython widgets.\n",
    "https://github.com/jupyter-widgets/ipywidgets\n",
    "\n",
    "ipympl                     0.9.3\n",
    "Matplotlib Jupyter Extension.\n",
    "http://matplotlib.org/"
   ]
  },
  {
   "cell_type": "markdown",
   "id": "864c1a17-d239-47b9-adcf-80e792de0574",
   "metadata": {},
   "source": [
    "### Performance monitoring"
   ]
  },
  {
   "cell_type": "markdown",
   "id": "fd89c49e-58db-4038-b742-c899245249e0",
   "metadata": {},
   "source": [
    "psutil                     5.9.5\n",
    "Cross-platform lib for process and system monitoring in Python.\n",
    "https://github.com/giampaolo/psutil\n",
    "\n",
    "pynvml                     11.5.0\n",
    "Provides a Python interface to GPU management and monitoring functions. This is a wrapper around the NVML library.\n",
    "http://developer.nvidia.com/nvidia-management-library-nvml\n",
    "\n",
    "prometheus-client          0.17.1\n",
    "Python client for the Prometheus monitoring system.\n",
    "https://github.com/prometheus/client_python"
   ]
  },
  {
   "cell_type": "markdown",
   "id": "f37d727f-2acf-4238-a318-8995d4fe86e9",
   "metadata": {},
   "source": [
    "### Files & notebooks versioning"
   ]
  },
  {
   "cell_type": "markdown",
   "id": "9caae754-6b6f-4de1-8c62-269f8ea15aa4",
   "metadata": {},
   "source": [
    "GitPython                  3.1.36\n",
    "GitPython is a python library used to interact with git repositories.\n",
    "https://github.com/gitpython-developers/GitPython\n",
    "\n",
    "nbdime                     3.2.1\n",
    "Diff and merge of Jupyter Notebooks.\n",
    "https://nbdime.readthedocs.io/"
   ]
  },
  {
   "cell_type": "markdown",
   "id": "8bba67b4-dc94-4efa-ab8f-5c44153dd473",
   "metadata": {},
   "source": [
    "## Linux Packages"
   ]
  },
  {
   "cell_type": "markdown",
   "id": "612beba8-edf6-4600-a8a5-918c83c47ac0",
   "metadata": {},
   "source": [
    "### Operating system & drivers"
   ]
  },
  {
   "cell_type": "markdown",
   "id": "64ed520d-47ab-47c4-bcfd-ba7f59efb1df",
   "metadata": {},
   "source": [
    "Ubuntu lsb_release -a\n",
    "\n",
    "lambda-server/now 22.04.2 all [installed,local]\n",
    "\n",
    "nvidia-cuda-toolkit/now 12.2.128~12.2.1-0lambda0.22.04.1 amd64 [installed,local]\n",
    "\n",
    "lambda-stack-cuda/now 0.1.14~22.04.1 all [installed,local]"
   ]
  },
  {
   "cell_type": "markdown",
   "id": "332ffc88-7e4a-4eb2-8b85-b654b93c722a",
   "metadata": {},
   "source": [
    "### Programming languages"
   ]
  },
  {
   "cell_type": "markdown",
   "id": "2ad99489-16e1-4fcc-a731-c786ac99435e",
   "metadata": {},
   "source": [
    "python3/now 3.10.6-1~22.04 amd64 [installed,local]\n",
    "\n",
    "nodejs/now 18.17.1-1nodesource1 amd64 [installed,local]\n",
    "\n",
    "gcc/now 11.4.0-1ubuntu1~22.04 amd64 [installed,local]\n",
    "\n",
    "make/now 4.3-4.1build1 amd64 [installed,local]"
   ]
  },
  {
   "cell_type": "markdown",
   "id": "e0a244c0-4e39-4913-a9b3-d9f396df3bba",
   "metadata": {
    "execution": {
     "iopub.execute_input": "2023-09-16T13:31:27.540063Z",
     "iopub.status.busy": "2023-09-16T13:31:27.539502Z",
     "iopub.status.idle": "2023-09-16T13:31:27.543644Z",
     "shell.execute_reply": "2023-09-16T13:31:27.542842Z",
     "shell.execute_reply.started": "2023-09-16T13:31:27.540040Z"
    },
    "tags": []
   },
   "source": [
    "### Terminal & version control"
   ]
  },
  {
   "cell_type": "markdown",
   "id": "e1db2416-18bf-4921-929d-96d27c077089",
   "metadata": {},
   "source": [
    "bash/now 5.1-6ubuntu1 amd64 [installed,local]\n",
    "\n",
    "tmux/now 3.2a-4ubuntu0.2 amd64 [installed,local]\n",
    "\n",
    "git/now 1:2.34.1-1ubuntu1.10 amd64 [installed,local]"
   ]
  },
  {
   "cell_type": "markdown",
   "id": "396bcb8b-c0f4-4913-9ae2-4880fb98e127",
   "metadata": {},
   "source": [
    "### Files download"
   ]
  },
  {
   "cell_type": "markdown",
   "id": "905a51c6-6fe3-4d75-9e00-e0215b965b77",
   "metadata": {},
   "source": [
    "curl/now 7.81.0-1ubuntu1.13 amd64 [installed,local]\n",
    "\n",
    "wget/now 1.21.2-2ubuntu1 amd64 [installed,local]"
   ]
  },
  {
   "cell_type": "markdown",
   "id": "1033a1ca-f9ab-4665-8c72-c1c1151f6f3a",
   "metadata": {
    "execution": {
     "iopub.execute_input": "2023-09-16T13:32:39.171616Z",
     "iopub.status.busy": "2023-09-16T13:32:39.171343Z",
     "iopub.status.idle": "2023-09-16T13:32:39.175635Z",
     "shell.execute_reply": "2023-09-16T13:32:39.174695Z",
     "shell.execute_reply.started": "2023-09-16T13:32:39.171602Z"
    },
    "tags": []
   },
   "source": [
    "### Files archives & compression"
   ]
  },
  {
   "cell_type": "markdown",
   "id": "58cc9b2f-d1df-4e4a-88c8-de894e2a6094",
   "metadata": {},
   "source": [
    "bzip2/now 1.0.8-5build1 amd64 [installed,local]\n",
    "\n",
    "gzip/now 1.10-4ubuntu4.1 amd64 [installed,local]\n",
    "\n",
    "tar/now 1.34+dfsg-1ubuntu0.1.22.04.1 amd64 [installed,local]\n",
    "\n",
    "unzip/now 6.0-26ubuntu3.1 amd64 [installed,local]"
   ]
  },
  {
   "cell_type": "markdown",
   "id": "c01c9a62-877a-47f1-8b26-534ad17fede8",
   "metadata": {},
   "source": [
    "### Text editors"
   ]
  },
  {
   "cell_type": "markdown",
   "id": "980db34b-cece-410a-9bbf-943ec29c2c03",
   "metadata": {},
   "source": [
    "emacs/now 1:27.1+1-3ubuntu5.1 all [installed,local]\n",
    "\n",
    "nano/now 6.2-1 amd64 [installed,local]\n",
    "\n",
    "vim/now 2:8.2.3995-1ubuntu2.11 amd64 [installed,local]"
   ]
  },
  {
   "cell_type": "markdown",
   "id": "7773e2d8-c7f6-4e4d-bdba-085181374bc8",
   "metadata": {},
   "source": [
    "### Performance monintoring"
   ]
  },
  {
   "cell_type": "markdown",
   "id": "c0cf2953-bb00-4eb7-b137-63bef547ee84",
   "metadata": {},
   "source": [
    "htop/now 3.0.5-7build2 amd64 [installed,local]\n",
    "\n",
    "nvtop/now 1.2.2-1 amd64 [installed,local]"
   ]
  }
 ],
 "metadata": {
  "kernelspec": {
   "display_name": "tutorials",
   "language": "python",
   "name": "tutorials"
  },
  "language_info": {
   "codemirror_mode": {
    "name": "ipython",
    "version": 3
   },
   "file_extension": ".py",
   "mimetype": "text/x-python",
   "name": "python",
   "nbconvert_exporter": "python",
   "pygments_lexer": "ipython3",
   "version": "3.10.12"
  }
 },
 "nbformat": 4,
 "nbformat_minor": 5
}
