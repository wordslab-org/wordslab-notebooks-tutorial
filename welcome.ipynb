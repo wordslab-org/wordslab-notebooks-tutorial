{
 "cells": [
  {
   "cell_type": "markdown",
   "id": "ec3ba61c-ce5c-44e5-bb05-c2ba016d08d3",
   "metadata": {},
   "source": [
    "# Wordslab notebooks tutorials"
   ]
  },
  {
   "cell_type": "markdown",
   "id": "09cc537f-e6ab-4100-9e8b-0049aebc8c56",
   "metadata": {},
   "source": [
    "## Jupyterlab development environment\n",
    "\n",
    "Main features\n",
    "- [The JupyterLab Interface](https://jupyterlab.readthedocs.io/en/latest/user/interface.html)\n",
    "- [Working with Files](https://jupyterlab.readthedocs.io/en/latest/user/files.html)\n",
    "- [Notebooks](https://jupyterlab.readthedocs.io/en/latest/user/notebook.html)\n",
    "- [Terminals](https://jupyterlab.readthedocs.io/en/latest/user/terminal.html)\n",
    "\n",
    "Left sidebar\n",
    "- [Managing Kernels and Terminals](https://jupyterlab.readthedocs.io/en/latest/user/running.html)\n",
    "- [GPU usage dahsboards](https://github.com/rapidsai/jupyterlab-nvdashboard#jupyterlab-nvdashboard)\n",
    "- [Git version control](https://github.com/jupyterlab/jupyterlab-git#jupyterlab-git)\n",
    "\n",
    "Development tools\n",
    "- [Debugger](https://jupyterlab.readthedocs.io/en/latest/user/debugger.html)\n",
    "- [Tensorboard](https://github.com/HFAiLab/jupyterlab_tensorboard_pro#instructions)"
   ]
  },
  {
   "cell_type": "markdown",
   "id": "e68b881f-b791-4b88-b675-3076adeccc06",
   "metadata": {
    "execution": {
     "iopub.execute_input": "2023-09-16T06:55:32.993847Z",
     "iopub.status.busy": "2023-09-16T06:55:32.993215Z",
     "iopub.status.idle": "2023-09-16T06:55:33.009821Z",
     "shell.execute_reply": "2023-09-16T06:55:33.008078Z",
     "shell.execute_reply.started": "2023-09-16T06:55:32.993758Z"
    },
    "tags": []
   },
   "source": [
    "## Deep learning frameworks\n",
    "\n",
    "Check environment\n",
    "- [Testing Nvidia GPU](nvidia_gpu.ipynb)\n",
    "- [Viewing installed packages](installed_packages.ipynb)\n",
    "\n",
    "Frameworks examples\n",
    "- [Pytorch & fastai](pytorch_fastai_example.ipynb)\n",
    "- [Tensorflow & Keras](tensorflow_keras_example.ipynb)\n",
    "- [JAX & Flax](jax_flax_example.ipynb)\n",
    "- [Scikit-learn & Pandas](scikit-learn_pandas_example.ipynb)\n",
    "\n",
    "Visualization\n",
    "- [TensorBoard & fastai](tensorboard_fastai_example.ipynb)"
   ]
  },
  {
   "cell_type": "markdown",
   "id": "c26e0b36-9f27-40d2-99e2-551181b648b9",
   "metadata": {
    "execution": {
     "iopub.execute_input": "2023-09-19T21:22:15.026206Z",
     "iopub.status.busy": "2023-09-19T21:22:15.025290Z",
     "iopub.status.idle": "2023-09-19T21:22:15.032741Z",
     "shell.execute_reply": "2023-09-19T21:22:15.031937Z",
     "shell.execute_reply.started": "2023-09-19T21:22:15.026157Z"
    },
    "tags": []
   },
   "source": [
    "## Web interface & API\n",
    "\n",
    "- [Gradio web user interface](gradio_example.ipynb)\n",
    "- [Fastapi API endpoint](fastapi_example.ipynb)"
   ]
  }
 ],
 "metadata": {
  "kernelspec": {
   "display_name": "tutorials",
   "language": "python",
   "name": "tutorials"
  },
  "language_info": {
   "codemirror_mode": {
    "name": "ipython",
    "version": 3
   },
   "file_extension": ".py",
   "mimetype": "text/x-python",
   "name": "python",
   "nbconvert_exporter": "python",
   "pygments_lexer": "ipython3",
   "version": "3.10.12"
  }
 },
 "nbformat": 4,
 "nbformat_minor": 5
}
