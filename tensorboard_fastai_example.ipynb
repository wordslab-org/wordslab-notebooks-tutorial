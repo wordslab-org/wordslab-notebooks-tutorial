{
 "cells": [
  {
   "cell_type": "markdown",
   "id": "d5ebe437-c984-4b3c-81eb-2614552aa110",
   "metadata": {},
   "source": [
    "# TensorBoard & fastai"
   ]
  },
  {
   "cell_type": "markdown",
   "id": "c0f77483-dc0f-4e81-ac0f-1b5c99470714",
   "metadata": {},
   "source": [
    "Example from: https://docs.fast.ai/callback.tensorboard.html"
   ]
  },
  {
   "cell_type": "code",
   "execution_count": null,
   "id": "dd7b4211-b159-4eec-98e5-72ea50a82284",
   "metadata": {
    "tags": []
   },
   "outputs": [],
   "source": [
    "pip install fastai"
   ]
  },
  {
   "cell_type": "markdown",
   "id": "281e1488-259a-48ab-a4d9-0ae8191c2de9",
   "metadata": {},
   "source": [
    "## Computer vision classification"
   ]
  },
  {
   "cell_type": "code",
   "execution_count": null,
   "id": "102b6937-a81b-4f15-9ebb-056533dd59e9",
   "metadata": {
    "tags": []
   },
   "outputs": [],
   "source": [
    "from fastai.vision.all import *"
   ]
  },
  {
   "cell_type": "code",
   "execution_count": 3,
   "id": "54b532eb-a697-4472-8115-0a3bb9d88619",
   "metadata": {
    "execution": {
     "iopub.execute_input": "2023-09-16T21:59:02.278771Z",
     "iopub.status.busy": "2023-09-16T21:59:02.278360Z",
     "iopub.status.idle": "2023-09-16T21:59:02.285081Z",
     "shell.execute_reply": "2023-09-16T21:59:02.284470Z",
     "shell.execute_reply.started": "2023-09-16T21:59:02.278754Z"
    },
    "tags": []
   },
   "outputs": [],
   "source": [
    "path = untar_data(URLs.PETS)/'images'"
   ]
  },
  {
   "cell_type": "code",
   "execution_count": 4,
   "id": "9bb333e6-ec3c-4746-b8f0-3be0ae3ff6c2",
   "metadata": {
    "execution": {
     "iopub.execute_input": "2023-09-16T21:59:11.048717Z",
     "iopub.status.busy": "2023-09-16T21:59:11.048304Z",
     "iopub.status.idle": "2023-09-16T21:59:11.056915Z",
     "shell.execute_reply": "2023-09-16T21:59:11.056239Z",
     "shell.execute_reply.started": "2023-09-16T21:59:11.048692Z"
    },
    "tags": []
   },
   "outputs": [
    {
     "data": {
      "text/plain": [
       "Path('/models/fastai/data/oxford-iiit-pet/images')"
      ]
     },
     "execution_count": 4,
     "metadata": {},
     "output_type": "execute_result"
    }
   ],
   "source": [
    "path"
   ]
  },
  {
   "cell_type": "code",
   "execution_count": 5,
   "id": "8c2bca9c-a65a-457f-96c8-998467061271",
   "metadata": {
    "execution": {
     "iopub.execute_input": "2023-09-16T21:59:12.460362Z",
     "iopub.status.busy": "2023-09-16T21:59:12.459978Z",
     "iopub.status.idle": "2023-09-16T21:59:16.203116Z",
     "shell.execute_reply": "2023-09-16T21:59:16.202424Z",
     "shell.execute_reply.started": "2023-09-16T21:59:12.460334Z"
    },
    "tags": []
   },
   "outputs": [],
   "source": [
    "def is_cat(x): return x[0].isupper()\n",
    "dls = ImageDataLoaders.from_name_func(\n",
    "    path, get_image_files(path), valid_pct=0.2, seed=42,\n",
    "    label_func=is_cat, item_tfms=Resize(224))"
   ]
  },
  {
   "cell_type": "markdown",
   "id": "33e5ba05-d1b4-43b2-92b0-e51e0a78920e",
   "metadata": {
    "execution": {
     "iopub.execute_input": "2023-09-16T21:58:20.167947Z",
     "iopub.status.busy": "2023-09-16T21:58:20.167545Z",
     "iopub.status.idle": "2023-09-16T21:58:20.175454Z",
     "shell.execute_reply": "2023-09-16T21:58:20.173974Z",
     "shell.execute_reply.started": "2023-09-16T21:58:20.167923Z"
    },
    "tags": []
   },
   "source": [
    "## Using TensorBoard\n",
    "\n",
    "1. Create the subdirectory \"tensorboard-logs\" inside \"tutorials\"\n",
    "2. File / New / Tensorboard inside the subdirectory \"tensorboard-logs\"\n",
    "3. Activate Reload interval : 5 sec / Create"
   ]
  },
  {
   "cell_type": "code",
   "execution_count": 8,
   "id": "1562fbc7-0fbb-48ec-a682-a16aa965efcf",
   "metadata": {
    "execution": {
     "iopub.execute_input": "2023-09-16T22:03:10.663965Z",
     "iopub.status.busy": "2023-09-16T22:03:10.663627Z",
     "iopub.status.idle": "2023-09-16T22:03:12.541505Z",
     "shell.execute_reply": "2023-09-16T22:03:12.540860Z",
     "shell.execute_reply.started": "2023-09-16T22:03:10.663947Z"
    },
    "tags": []
   },
   "outputs": [],
   "source": [
    "from fastai.callback.tensorboard import *"
   ]
  },
  {
   "cell_type": "code",
   "execution_count": 11,
   "id": "d13b4cd7-de11-4771-a9b7-703a544d081c",
   "metadata": {
    "execution": {
     "iopub.execute_input": "2023-09-16T22:07:35.203415Z",
     "iopub.status.busy": "2023-09-16T22:07:35.203089Z",
     "iopub.status.idle": "2023-09-16T22:07:35.209385Z",
     "shell.execute_reply": "2023-09-16T22:07:35.208632Z",
     "shell.execute_reply.started": "2023-09-16T22:07:35.203395Z"
    },
    "tags": []
   },
   "outputs": [],
   "source": [
    "cbs = TensorBoardCallback(\"tensorboard-logs\", trace_model=True, projector=True)"
   ]
  },
  {
   "cell_type": "code",
   "execution_count": null,
   "id": "ccc1c19e-d5cb-4541-9018-0e826068cce7",
   "metadata": {
    "tags": []
   },
   "outputs": [],
   "source": [
    "learn = vision_learner(dls, resnet34, metrics=error_rate)\n",
    "learn.fine_tune(5, cbs=cbs)"
   ]
  },
  {
   "cell_type": "code",
   "execution_count": 13,
   "id": "16fd47a6-dfe9-4bc8-964f-ee7ea6ba1f28",
   "metadata": {
    "execution": {
     "iopub.execute_input": "2023-09-16T22:16:10.587995Z",
     "iopub.status.busy": "2023-09-16T22:16:10.586858Z",
     "iopub.status.idle": "2023-09-16T22:16:10.860597Z",
     "shell.execute_reply": "2023-09-16T22:16:10.857806Z",
     "shell.execute_reply.started": "2023-09-16T22:16:10.587974Z"
    },
    "tags": []
   },
   "outputs": [],
   "source": [
    "!rm -rf tensorboard"
   ]
  }
 ],
 "metadata": {
  "kernelspec": {
   "display_name": "tutorials",
   "language": "python",
   "name": "tutorials"
  },
  "language_info": {
   "codemirror_mode": {
    "name": "ipython",
    "version": 3
   },
   "file_extension": ".py",
   "mimetype": "text/x-python",
   "name": "python",
   "nbconvert_exporter": "python",
   "pygments_lexer": "ipython3",
   "version": "3.10.12"
  }
 },
 "nbformat": 4,
 "nbformat_minor": 5
}
